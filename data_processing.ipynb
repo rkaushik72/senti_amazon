{
 "cells": [
  {
   "cell_type": "code",
   "execution_count": 1,
   "outputs": [],
   "source": [
    "### Import necessary depencencies\n",
    "import gzip\n",
    "import json\n",
    "import multiprocessing\n",
    "import pickle\n",
    "from multiprocessing import Process\n",
    "import numpy as np\n",
    "import pandas as pd\n",
    "from sklearn.utils import shuffle\n",
    "import utils\n",
    "\n",
    "\n",
    "PROCESSED_FILENAME= './data/amazon_reviews_processed.pickle' \n",
    "trial=0\n",
    "#number of processes to run in multiprocessing\n",
    "processors=16\n"
   ],
   "metadata": {
    "collapsed": false,
    "pycharm": {
     "name": "#%%\n",
     "is_executing": false
    }
   }
  },
  {
   "cell_type": "markdown",
   "source": [
    "# ============================================\n",
    "#   Overall plan to pre-processing dataset \n",
    "# ============================================\n",
    "### 0. Load data\n",
    "### 1. Prune for local development\n",
    "### 2. Reformat dates and times for visualization\n",
    "### 3. Cleaning review text\n",
    "     a. strip HTML\n",
    "     b. Removing accented characters\n",
    "     c. Expanding Contractions\n",
    "     d. Removing Special Characters\n",
    "     e. Lemmatizing text\n",
    "     f. Removing Stopwords\n",
    "     g. Remove special characters and repeating characters\n",
    "     g. Spelling corrections\n",
    "\n",
    "\n",
    "\n"
   ],
   "metadata": {
    "collapsed": false
   }
  },
  {
   "cell_type": "code",
   "execution_count": 2,
   "outputs": [],
   "source": [
    "def child_process(number):\n",
    "    number.value = 0\n",
    "    while True:\n",
    "        number.value += 1\n",
    "        #print(number)\n",
    "\n",
    "def parse(path):\n",
    "  g = gzip.open(path, 'rb')\n",
    "  for l in g:\n",
    "    yield json.loads(l)\n"
   ],
   "metadata": {
    "collapsed": false,
    "pycharm": {
     "name": "#%%\n",
     "is_executing": false
    }
   }
  },
  {
   "cell_type": "code",
   "execution_count": 3,
   "outputs": [],
   "source": [
    "def getDF(path):\n",
    "  i = 0\n",
    "  df = {}\n",
    "  for d in parse(path):\n",
    "    df[i] = d\n",
    "    i += 1\n",
    "  return pd.DataFrame.from_dict(df, orient='index')\n",
    "\n"
   ],
   "metadata": {
    "collapsed": false,
    "pycharm": {
     "name": "#%%\n",
     "is_executing": false
    }
   }
  },
  {
   "cell_type": "markdown",
   "source": [
    "# ============================================\n",
    "#  Load Product Metadata \n",
    "# ============================================\n"
   ],
   "metadata": {
    "collapsed": false
   }
  },
  {
   "cell_type": "code",
   "execution_count": null,
   "outputs": [],
   "source": [
    "metadfraw = getDF('./data/cell_reviews_meta.json.gz')"
   ],
   "metadata": {
    "collapsed": false,
    "pycharm": {
     "name": "#%%\n"
    }
   }
  },
  {
   "cell_type": "code",
   "execution_count": null,
   "outputs": [],
   "source": [
    "print('Total products metadata : ' + str(len(metadfraw)))\n",
    "# Sample of raw dataset\n",
    "metadfraw.head(10)\n"
   ],
   "metadata": {
    "collapsed": false,
    "pycharm": {
     "name": "#%%\n"
    }
   }
  },
  {
   "cell_type": "code",
   "execution_count": null,
   "outputs": [],
   "source": [
    "#remove rows with bad category\n",
    "metadfraw.dropna(subset=['category'], inplace=True)\n"
   ],
   "metadata": {
    "collapsed": false,
    "pycharm": {
     "name": "#%%\n"
    }
   }
  },
  {
   "cell_type": "code",
   "execution_count": null,
   "outputs": [],
   "source": [
    "#catlist=[]\n",
    "#does main category contain cellphones\n",
    "def isCellphone(x):\n",
    "\n",
    "    y=False\n",
    "\n",
    "    try:   \n",
    "#        for item in x:\n",
    "#            if item not in catlist:\n",
    "#                catlist.append(item)\n",
    "        y= ('Cell Phones' in x) | ('Unlocked Cell Phones' in x) | ('Carrier Cell Phones' in x)\n",
    "\n",
    "    except TypeError as te:\n",
    "        y=False\n",
    "        print(x)\n",
    "    \n",
    "    return y;\n",
    "\n",
    "\n",
    "#derive iscellphone\n",
    "metadfraw['iscellphone']=metadfraw.apply(lambda x: isCellphone(x['category']),axis=1)\n",
    "\n",
    "#drop if not cellphone\n",
    "metadfraw=metadfraw[metadfraw.iscellphone]\n",
    "\n",
    "#print(catlist)"
   ],
   "metadata": {
    "collapsed": false,
    "pycharm": {
     "name": "#%%\n"
    }
   }
  },
  {
   "cell_type": "code",
   "execution_count": null,
   "outputs": [],
   "source": [
    "print('Filtered cellphone metadata: ' + str(len(metadfraw)))\n",
    "# Sample of raw dataset\n",
    "metadfraw.head(20)\n"
   ],
   "metadata": {
    "collapsed": false,
    "pycharm": {
     "name": "#%%\n"
    }
   }
  },
  {
   "cell_type": "code",
   "execution_count": null,
   "outputs": [],
   "source": [
    "#remove rows that have no use\n",
    "metadfraw.dropna(subset=['asin'], inplace=True)\n",
    "metadfraw.dropna(subset=['brand'], inplace=True)\n"
   ],
   "metadata": {
    "collapsed": false,
    "pycharm": {
     "name": "#%%\n"
    }
   }
  },
  {
   "cell_type": "code",
   "execution_count": null,
   "outputs": [],
   "source": [
    "print('Filtered further for missing bad asins and brands: ' + str(len(metadfraw)))\n",
    "# Sample of raw dataset\n",
    "metadfraw.head(20)\n",
    "\n"
   ],
   "metadata": {
    "collapsed": false,
    "pycharm": {
     "name": "#%%\n"
    }
   }
  },
  {
   "cell_type": "code",
   "execution_count": null,
   "outputs": [],
   "source": [
    "#strip asin\n",
    "metadfraw['asin'] = metadfraw['asin'].str.strip().astype(str)\n",
    "\n",
    "#metadfraw['asin'].replace('', np.NaN, inplace=True)\n",
    "#metadfraw['brand'] = metadfraw['brand'].str.strip().astype(str)\n",
    "#metadfraw['brand'].replace('', np.NaN, inplace=True)\n",
    "#metadfraw['feature'] = metadfraw['feature'].str.strip().astype(str)\n",
    "#metadfraw['feature'].replace('', np.NaN, inplace=True)\n",
    "#metadfraw['title'] = metadfraw['title'].str.strip().astype(str)\n",
    "#metadfraw['title'].replace('', np.NaN, inplace=True)\n",
    "#metadfraw['price'] = metadfraw['price'].str.strip().astype(str)\n",
    "#metadfraw['price'].replace('', np.NaN, inplace=True)\n",
    "\n",
    "#metadfraw.dropna(subset=['asin'], inplace=True)\n",
    "#drop where price and/or brand is na\n",
    "#metadfraw.dropna(subset=['price'], inplace=True)\n",
    "#metadfraw.dropna(subset=['brand'], inplace=True)\n",
    "\n"
   ],
   "metadata": {
    "collapsed": false,
    "pycharm": {
     "name": "#%%\n"
    }
   }
  },
  {
   "cell_type": "code",
   "execution_count": null,
   "outputs": [],
   "source": [
    "metadfraw.drop_duplicates(subset =\"asin\", keep = 'first', inplace = True) \n"
   ],
   "metadata": {
    "collapsed": false,
    "pycharm": {
     "name": "#%%\n"
    }
   }
  },
  {
   "cell_type": "code",
   "execution_count": null,
   "outputs": [],
   "source": [
    "print('Filtered further to remove duplicate asins: ' + str(len(metadfraw)))\n",
    "# Sample of raw dataset\n",
    "metadfraw.head(20)\n"
   ],
   "metadata": {
    "collapsed": false,
    "pycharm": {
     "name": "#%%\n"
    }
   }
  },
  {
   "cell_type": "code",
   "execution_count": null,
   "outputs": [],
   "source": [
    "def convertCurrency(x):\n",
    "    y=np.NaN\n",
    "    try:\n",
    "        y= float(x[1:])\n",
    "    except:\n",
    "        y=np.NaN\n",
    "    return y;\n",
    "\n",
    "#derive price\n",
    "#metadfraw['price_parsed']=metadfraw.apply(convertCurrency)\n",
    "metadfraw['price_parsed']=metadfraw.apply(lambda x: convertCurrency(x['price']),axis=1)\n"
   ],
   "metadata": {
    "collapsed": false,
    "pycharm": {
     "name": "#%%\n"
    }
   }
  },
  {
   "cell_type": "code",
   "execution_count": null,
   "outputs": [],
   "source": [
    "print('Price is parsed for : ' + str(len(metadfraw)))\n",
    "# Sample of raw dataset\n",
    "metadfraw.head(20)\n"
   ],
   "metadata": {
    "collapsed": false,
    "pycharm": {
     "name": "#%%\n"
    }
   }
  },
  {
   "cell_type": "code",
   "execution_count": null,
   "outputs": [],
   "source": [
    "#drop uneeded columns\n",
    "metadfraw=metadfraw[['asin', 'title', 'brand','feature','price_parsed']]"
   ],
   "metadata": {
    "collapsed": false,
    "pycharm": {
     "name": "#%%\n"
    }
   }
  },
  {
   "cell_type": "code",
   "execution_count": null,
   "outputs": [],
   "source": [
    "print('Final cellphone metadata for : ' + str(len(metadfraw)))\n",
    "# Sample of raw dataset\n",
    "metadfraw.head(20)\n",
    "\n"
   ],
   "metadata": {
    "collapsed": false,
    "pycharm": {
     "name": "#%%\n"
    }
   }
  },
  {
   "cell_type": "markdown",
   "source": [
    "# ============================================\n",
    "#   Load review data \n",
    "# ============================================\n"
   ],
   "metadata": {
    "collapsed": false
   }
  },
  {
   "cell_type": "code",
   "execution_count": null,
   "outputs": [],
   "source": [
    "dfraw = getDF('./data/cell_reviews_5core.json.gz')\n"
   ],
   "metadata": {
    "collapsed": false,
    "pycharm": {
     "name": "#%%\n"
    }
   }
  },
  {
   "cell_type": "code",
   "execution_count": null,
   "outputs": [],
   "source": [
    "print('Total raw reviews: ' + str(len(dfraw)))\n",
    "# Sample of raw dataset\n",
    "dfraw.head(20)\n"
   ],
   "metadata": {
    "collapsed": false,
    "pycharm": {
     "name": "#%%\n"
    }
   }
  },
  {
   "cell_type": "markdown",
   "source": [
    "# ======================================================================================================\n",
    "#   concatenate columns summary and reviewText because sometimes summary is very indicative of sentiment\n",
    "# ======================================================================================================"
   ],
   "metadata": {
    "collapsed": false
   }
  },
  {
   "cell_type": "code",
   "execution_count": null,
   "outputs": [],
   "source": [
    "#take out leading and trailing blanks\n",
    "dfraw['reviewText'] = dfraw['reviewText'].str.strip().astype(str)\n",
    "dfraw['summary'] = dfraw['summary'].str.strip().astype(str)\n",
    "dfraw['reviewText']=dfraw['reviewText']+' . '+dfraw['summary'] \n",
    "\n"
   ],
   "metadata": {
    "collapsed": false,
    "pycharm": {
     "name": "#%%\n"
    }
   }
  },
  {
   "cell_type": "markdown",
   "source": [
    "# ============================================\n",
    "#   Drop uneeded rows\n",
    "# ============================================"
   ],
   "metadata": {
    "collapsed": false
   }
  },
  {
   "cell_type": "code",
   "execution_count": null,
   "outputs": [],
   "source": [
    "def cleanDataFrame(frame):\n",
    "    #strip\n",
    "    dfraw['asin'] = dfraw['asin'].str.strip().astype(str)\n",
    "    dfraw['reviewText'] = dfraw['reviewText'].str.strip().astype(str)\n",
    "\n",
    "    #replace blank columns\n",
    "    dfraw['reviewText'].replace('', np.NaN, inplace=True)\n",
    "    dfraw['reviewTime'].replace('', np.NaN, inplace=True)\n",
    "    dfraw['asin'].replace('', np.NaN, inplace=True)\n",
    "    dfraw['overall'].replace('', np.NaN, inplace=True)\n",
    "\n",
    "    #remove observations with nan reviews\n",
    "    dfraw.dropna(subset=['reviewText','reviewTime','asin','overall'], inplace=True)\n",
    "\n",
    "cleanDataFrame(dfraw)"
   ],
   "metadata": {
    "collapsed": false,
    "pycharm": {
     "name": "#%%\n"
    }
   }
  },
  {
   "cell_type": "code",
   "execution_count": null,
   "outputs": [],
   "source": [
    "print('Total reviews after removing NaNs and blanks: ' + str(len(dfraw)))\n",
    "# Sample of raw dataset\n",
    "dfraw.head(20)"
   ],
   "metadata": {
    "collapsed": false,
    "pycharm": {
     "name": "#%%\n"
    }
   }
  },
  {
   "cell_type": "markdown",
   "source": [
    "# ============================================\n",
    "#   Infer sentiment based on stars\n",
    "# ============================================"
   ],
   "metadata": {
    "collapsed": false
   }
  },
  {
   "cell_type": "code",
   "execution_count": null,
   "outputs": [],
   "source": [
    "#infer sentiment positive and negative based on star reviews and add to dataset\n",
    "#negative= star reviews 0,1,2,\n",
    "#positive= star reviews 4,5\n",
    "#create new column for sentiment\n",
    "#sentiment column is labeled target\n",
    "dfraw.loc[(dfraw['overall'] >= 0.0) & (dfraw['overall'] < 3.0), 'sentiment'] = 0\n",
    "dfraw.loc[(dfraw['overall'] >= 3.0) & (dfraw['overall'] < 4.0), 'sentiment'] = -1\n",
    "dfraw.loc[(dfraw['overall'] >= 4.0) & (dfraw['overall'] <= 5.0), 'sentiment'] = 1\n",
    "\n",
    "#drop 3 stars which are neutral\n",
    "dfraw.drop( dfraw[ dfraw['sentiment'] == -1 ].index , inplace=True)\n"
   ],
   "metadata": {
    "collapsed": false,
    "pycharm": {
     "name": "#%%\n"
    }
   }
  },
  {
   "cell_type": "markdown",
   "source": [
    "# =================================================================================\n",
    "# Inner join dataset and metadata. Add columns brand and price_parsed from metadata \n",
    "# =================================================================================\n"
   ],
   "metadata": {
    "collapsed": false
   }
  },
  {
   "cell_type": "code",
   "execution_count": null,
   "outputs": [],
   "source": [
    "print('Total reviews BEFORE inner join: ' + str(len(dfraw)))"
   ],
   "metadata": {
    "collapsed": false,
    "pycharm": {
     "name": "#%%\n"
    }
   }
  },
  {
   "cell_type": "code",
   "execution_count": null,
   "outputs": [],
   "source": [
    "#df1 = dfraw.merge(metadfraw, on='asin',how='inner')\n",
    "df1=pd.merge(dfraw, metadfraw, how='left', on=['asin', 'asin'])\n"
   ],
   "metadata": {
    "collapsed": false,
    "pycharm": {
     "name": "#%%\n"
    }
   }
  },
  {
   "cell_type": "code",
   "execution_count": null,
   "outputs": [],
   "source": [
    "print('Total reviews AFTER inner join: ' + str(len(df1)))\n",
    "df1.head(20)"
   ],
   "metadata": {
    "collapsed": false,
    "pycharm": {
     "name": "#%%\n"
    }
   }
  },
  {
   "cell_type": "code",
   "execution_count": null,
   "outputs": [],
   "source": [
    "# drop nans on brand\n",
    "df1.dropna(subset=['brand'], inplace=True)"
   ],
   "metadata": {
    "collapsed": false,
    "pycharm": {
     "name": "#%%\n"
    }
   }
  },
  {
   "cell_type": "code",
   "execution_count": null,
   "outputs": [],
   "source": [
    "print('Total reviews AFTER dropping NaN brands: ' + str(len(df1)))\n",
    "df1.head(20)\n"
   ],
   "metadata": {
    "collapsed": false,
    "pycharm": {
     "name": "#%%\n"
    }
   }
  },
  {
   "cell_type": "markdown",
   "source": [
    "# ============================================\n",
    "#   Check how balanced the dataset is \n",
    "# ============================================"
   ],
   "metadata": {
    "collapsed": false
   }
  },
  {
   "cell_type": "code",
   "execution_count": null,
   "outputs": [],
   "source": [
    "target_count = df1.sentiment.value_counts()\n",
    "print('Class 0:', target_count[0])\n",
    "print('Class 1:', target_count[1])\n",
    "print('Proportion:', round(target_count[0] / target_count[1], 2), ': 1')\n",
    "\n",
    "target_count.plot(kind='bar', title='Sentiment distribution BEFORE Balancing');\n"
   ],
   "metadata": {
    "collapsed": false,
    "pycharm": {
     "name": "#%%\n"
    }
   }
  },
  {
   "cell_type": "markdown",
   "source": [
    "# ======================================================\n",
    "# Balance dataset by picking equal numbers for each star\n",
    "# ====================================================="
   ],
   "metadata": {
    "collapsed": false
   }
  },
  {
   "cell_type": "code",
   "execution_count": 5,
   "outputs": [
    {
     "name": "stdout",
     "text": [
      "Total Rows: 800",
      "\n"
     ],
     "output_type": "stream"
    },
    {
     "data": {
      "text/plain": "    overall  verified   reviewTime      reviewerID        asin  \\\n0       5.0      True   08 4, 2014  A24E3SXTC62LJI  7508492919   \n1       5.0      True  02 12, 2014  A269FLZCB4GIPV  7508492919   \n7       5.0      True  01 17, 2014  A31OVFL91BCKXG  7508492919   \n11      5.0      True  10 23, 2013  A2ZB7KGUSBR9P3  7508492919   \n14      5.0      True  09 10, 2013  A18U23JWTMQX5C  7508492919   \n15      5.0      True  08 28, 2013  A1JQUCTFM4UKMQ  7508492919   \n18      5.0      True   06 4, 2013  A29KSIE8BKYVQN  7508492919   \n19      5.0      True   06 3, 2013  A2CQO0FORCTC2R  7508492919   \n21      5.0      True   05 4, 2013  A2ROMLP8COJ6JA  7508492919   \n22      5.0      True  04 24, 2013  A23MRCVKI8M8OY  7508492919   \n\n                   style          reviewerName  \\\n0   {'Color:': ' Bling'}      Claudia Valdivia   \n1                    NaN           sarah ponce   \n7                    NaN  Ashley Nicole Miller   \n11                   NaN              E. Bryce   \n14                   NaN          KaitlynxO625   \n15                   NaN           M. Antillon   \n18                   NaN            Janine  B.   \n19                   NaN                 Sulli   \n21                   NaN    Mary Beth Anderson   \n22                   NaN                  T...   \n\n                                           reviewText  \\\n0   Looks even better in person. Be careful to not...   \n1   When you don't want to spend a whole lot of ca...   \n7   It is a very cute case. None of the jewels hav...   \n11  Another great product that my daughter she use...   \n14  Beautiful quality and outstanding product! Eve...   \n15  It is such a good case for a low price. I have...   \n18  Super durable and I get compliments on it dail...   \n19  I have used this case for a couple weeks & so ...   \n21  I chose this case because it is so beautiful. ...   \n22  Of all my cases this is the one that I have on...   \n\n                                summary  unixReviewTime vote image  \n0   Can't stop won't stop looking at it      1407110400  NaN   NaN  \n1                                     1      1392163200  NaN   NaN  \n7                             Cute case      1389916800  NaN   NaN  \n11            Bling bling for iPhone 4S      1382486400  NaN   NaN  \n14        I can't stop using this case!      1378771200  NaN   NaN  \n15                            I love it      1377648000  NaN   NaN  \n18                            Good case      1370304000  NaN   NaN  \n19                         very sparkly      1370217600  NaN   NaN  \n21                            Beautiful      1367625600  NaN   NaN  \n22                             pink bow      1366761600  NaN   NaN  ",
      "text/html": "<div>\n<style scoped>\n    .dataframe tbody tr th:only-of-type {\n        vertical-align: middle;\n    }\n\n    .dataframe tbody tr th {\n        vertical-align: top;\n    }\n\n    .dataframe thead th {\n        text-align: right;\n    }\n</style>\n<table border=\"1\" class=\"dataframe\">\n  <thead>\n    <tr style=\"text-align: right;\">\n      <th></th>\n      <th>overall</th>\n      <th>verified</th>\n      <th>reviewTime</th>\n      <th>reviewerID</th>\n      <th>asin</th>\n      <th>style</th>\n      <th>reviewerName</th>\n      <th>reviewText</th>\n      <th>summary</th>\n      <th>unixReviewTime</th>\n      <th>vote</th>\n      <th>image</th>\n    </tr>\n  </thead>\n  <tbody>\n    <tr>\n      <th>0</th>\n      <td>5.0</td>\n      <td>True</td>\n      <td>08 4, 2014</td>\n      <td>A24E3SXTC62LJI</td>\n      <td>7508492919</td>\n      <td>{'Color:': ' Bling'}</td>\n      <td>Claudia Valdivia</td>\n      <td>Looks even better in person. Be careful to not...</td>\n      <td>Can't stop won't stop looking at it</td>\n      <td>1407110400</td>\n      <td>NaN</td>\n      <td>NaN</td>\n    </tr>\n    <tr>\n      <th>1</th>\n      <td>5.0</td>\n      <td>True</td>\n      <td>02 12, 2014</td>\n      <td>A269FLZCB4GIPV</td>\n      <td>7508492919</td>\n      <td>NaN</td>\n      <td>sarah ponce</td>\n      <td>When you don't want to spend a whole lot of ca...</td>\n      <td>1</td>\n      <td>1392163200</td>\n      <td>NaN</td>\n      <td>NaN</td>\n    </tr>\n    <tr>\n      <th>7</th>\n      <td>5.0</td>\n      <td>True</td>\n      <td>01 17, 2014</td>\n      <td>A31OVFL91BCKXG</td>\n      <td>7508492919</td>\n      <td>NaN</td>\n      <td>Ashley Nicole Miller</td>\n      <td>It is a very cute case. None of the jewels hav...</td>\n      <td>Cute case</td>\n      <td>1389916800</td>\n      <td>NaN</td>\n      <td>NaN</td>\n    </tr>\n    <tr>\n      <th>11</th>\n      <td>5.0</td>\n      <td>True</td>\n      <td>10 23, 2013</td>\n      <td>A2ZB7KGUSBR9P3</td>\n      <td>7508492919</td>\n      <td>NaN</td>\n      <td>E. Bryce</td>\n      <td>Another great product that my daughter she use...</td>\n      <td>Bling bling for iPhone 4S</td>\n      <td>1382486400</td>\n      <td>NaN</td>\n      <td>NaN</td>\n    </tr>\n    <tr>\n      <th>14</th>\n      <td>5.0</td>\n      <td>True</td>\n      <td>09 10, 2013</td>\n      <td>A18U23JWTMQX5C</td>\n      <td>7508492919</td>\n      <td>NaN</td>\n      <td>KaitlynxO625</td>\n      <td>Beautiful quality and outstanding product! Eve...</td>\n      <td>I can't stop using this case!</td>\n      <td>1378771200</td>\n      <td>NaN</td>\n      <td>NaN</td>\n    </tr>\n    <tr>\n      <th>15</th>\n      <td>5.0</td>\n      <td>True</td>\n      <td>08 28, 2013</td>\n      <td>A1JQUCTFM4UKMQ</td>\n      <td>7508492919</td>\n      <td>NaN</td>\n      <td>M. Antillon</td>\n      <td>It is such a good case for a low price. I have...</td>\n      <td>I love it</td>\n      <td>1377648000</td>\n      <td>NaN</td>\n      <td>NaN</td>\n    </tr>\n    <tr>\n      <th>18</th>\n      <td>5.0</td>\n      <td>True</td>\n      <td>06 4, 2013</td>\n      <td>A29KSIE8BKYVQN</td>\n      <td>7508492919</td>\n      <td>NaN</td>\n      <td>Janine  B.</td>\n      <td>Super durable and I get compliments on it dail...</td>\n      <td>Good case</td>\n      <td>1370304000</td>\n      <td>NaN</td>\n      <td>NaN</td>\n    </tr>\n    <tr>\n      <th>19</th>\n      <td>5.0</td>\n      <td>True</td>\n      <td>06 3, 2013</td>\n      <td>A2CQO0FORCTC2R</td>\n      <td>7508492919</td>\n      <td>NaN</td>\n      <td>Sulli</td>\n      <td>I have used this case for a couple weeks &amp; so ...</td>\n      <td>very sparkly</td>\n      <td>1370217600</td>\n      <td>NaN</td>\n      <td>NaN</td>\n    </tr>\n    <tr>\n      <th>21</th>\n      <td>5.0</td>\n      <td>True</td>\n      <td>05 4, 2013</td>\n      <td>A2ROMLP8COJ6JA</td>\n      <td>7508492919</td>\n      <td>NaN</td>\n      <td>Mary Beth Anderson</td>\n      <td>I chose this case because it is so beautiful. ...</td>\n      <td>Beautiful</td>\n      <td>1367625600</td>\n      <td>NaN</td>\n      <td>NaN</td>\n    </tr>\n    <tr>\n      <th>22</th>\n      <td>5.0</td>\n      <td>True</td>\n      <td>04 24, 2013</td>\n      <td>A23MRCVKI8M8OY</td>\n      <td>7508492919</td>\n      <td>NaN</td>\n      <td>T...</td>\n      <td>Of all my cases this is the one that I have on...</td>\n      <td>pink bow</td>\n      <td>1366761600</td>\n      <td>NaN</td>\n      <td>NaN</td>\n    </tr>\n  </tbody>\n</table>\n</div>"
     },
     "metadata": {},
     "output_type": "execute_result",
     "execution_count": 5
    }
   ],
   "source": [
    "#subset for local runs, will remove on final runs or on server\n",
    "five=(df1['overall'] == 5.0)\n",
    "four=(df1['overall'] >= 4.0) & (df1['overall'] < 5.0)\n",
    "two=(df1['overall'] >= 2.0) & (df1['overall'] < 3.0)\n",
    "one=(df1['overall'] >= 1.0) & (df1['overall'] < 2.0)\n",
    "\n",
    "df5=df1[five]\n",
    "df4=df1[four]\n",
    "df2=df1[two]\n",
    "dfone=df1[one]\n",
    "\n",
    "\n",
    "#calculate smallest slice\n",
    "slices=[len(df5),len(df4),len(df2),len(dfone)]\n",
    "slice=min(slices)\n",
    "\n",
    "\n",
    "df=pd.DataFrame(columns = df1.columns)\n",
    "\n",
    "df=shuffle(df5).iloc[0:slice]\n",
    "df=df.append(shuffle(df4).iloc[0:slice])\n",
    "df=df.append(shuffle(df2).iloc[0:slice])\n",
    "df=df.append(shuffle(dfone).iloc[0:slice])\n",
    "\n",
    "#randomize dataset\n",
    "df = shuffle(df)\n"
   ],
   "metadata": {
    "collapsed": false,
    "pycharm": {
     "name": "#%%\n",
     "is_executing": false
    }
   }
  },
  {
   "cell_type": "markdown",
   "source": [
    "# =====================================================\n",
    "#   Check how balanced the dataset is after balancing\n",
    "# ===================================================="
   ],
   "metadata": {
    "collapsed": false,
    "pycharm": {
     "name": "#%% md\n"
    }
   }
  },
  {
   "cell_type": "code",
   "execution_count": null,
   "outputs": [],
   "source": [
    "target_count = df.sentiment.value_counts()\n",
    "print('Class 0:', target_count[0])\n",
    "print('Class 1:', target_count[1])\n",
    "print('Proportion:', round(target_count[0] / target_count[1], 2), ': 1')\n",
    "\n",
    "target_count.plot(kind='bar', title='Sentiment distribution AFTER Balancing');\n"
   ],
   "metadata": {
    "collapsed": false,
    "pycharm": {
     "name": "#%%\n"
    }
   }
  },
  {
   "cell_type": "markdown",
   "source": [
    "# =================================================\n",
    "# Clean reviews - reformat dates, add counts\n",
    "# ================================================="
   ],
   "metadata": {
    "collapsed": false
   }
  },
  {
   "cell_type": "code",
   "execution_count": 6,
   "outputs": [
    {
     "name": "stdout",
     "text": [
      "Total Rows: 800",
      "\n"
     ],
     "output_type": "stream"
    },
    {
     "data": {
      "text/plain": "    overall  verified      reviewerID        asin          reviewerName  \\\n0       5.0      True  A24E3SXTC62LJI  7508492919      Claudia Valdivia   \n1       5.0      True  A269FLZCB4GIPV  7508492919           sarah ponce   \n7       5.0      True  A31OVFL91BCKXG  7508492919  Ashley Nicole Miller   \n11      5.0      True  A2ZB7KGUSBR9P3  7508492919              E. Bryce   \n14      5.0      True  A18U23JWTMQX5C  7508492919          KaitlynxO625   \n15      5.0      True  A1JQUCTFM4UKMQ  7508492919           M. Antillon   \n18      5.0      True  A29KSIE8BKYVQN  7508492919            Janine  B.   \n19      5.0      True  A2CQO0FORCTC2R  7508492919                 Sulli   \n21      5.0      True  A2ROMLP8COJ6JA  7508492919    Mary Beth Anderson   \n22      5.0      True  A23MRCVKI8M8OY  7508492919                  T...   \n25      5.0      True  A1TE996LYGSJYW  7508492919                 Ldiaz   \n28      5.0      True  A322P08DWO7GD0  7508492919                   AKR   \n29      5.0      True  A372K41F91T9CD  7508492919          teri illchen   \n32      5.0      True  A2KCKROPJ72AE3  7508492919         Doni Washburn   \n33      5.0      True  A26G0P1P4Q7DVE  7508492919                   CAF   \n34      5.0      True  A3HU46Z3Y8CMDT  7508492919               Adnoral   \n39      5.0      True  A22FTS797LWDIK  7508492919        Corinne Ubence   \n41      5.0      True   AG176YH633HXF  7508492919                  RENE   \n42      5.0      True  A1SAZP6P8VQ0E6  7508492919              Sunshine   \n43      5.0      True  A3K3I77ZWF65RO  7508492919             Christine   \n\n                                           reviewText  \\\n0   Looks even better in person. Be careful to not...   \n1   When you don't want to spend a whole lot of ca...   \n7   It is a very cute case. None of the jewels hav...   \n11  Another great product that my daughter she use...   \n14  Beautiful quality and outstanding product! Eve...   \n15  It is such a good case for a low price. I have...   \n18  Super durable and I get compliments on it dail...   \n19  I have used this case for a couple weeks & so ...   \n21  I chose this case because it is so beautiful. ...   \n22  Of all my cases this is the one that I have on...   \n25  here is another I love as well!!!, I am so hap...   \n28  This case is soo super pretty! This case may l...   \n29  This is a great case if you love the bling.  I...   \n32  Ive never had any problems with anything ... i...   \n33  BEAUTIFUL.  This instantly transforms your IPh...   \n34  It looks like I actually bedazzled my phone.  ...   \n39  It is so cute!  Love the bling and love the pi...   \n41  THIS IS A VERY PRETTY 4S CELL PHONE CASE ANS I...   \n42  I ordered this case for my daughter for Christ...   \n43  soooo cute! I got many complaints when I had t...   \n\n                                            summary  unixReviewTime vote  \\\n0               Can't stop won't stop looking at it      1407110400  NaN   \n1                                                 1      1392163200  NaN   \n7                                         Cute case      1389916800  NaN   \n11                        Bling bling for iPhone 4S      1382486400  NaN   \n14                    I can't stop using this case!      1378771200  NaN   \n15                                        I love it      1377648000  NaN   \n18                                        Good case      1370304000  NaN   \n19                                     very sparkly      1370217600  NaN   \n21                                        Beautiful      1367625600  NaN   \n22                                         pink bow      1366761600  NaN   \n25                         love this phone cover!!!      1365206400  NaN   \n28                                        BEAUTIFUL      1364256000  NaN   \n29                                       Love it...      1361923200  NaN   \n32                                             good      1361145600    2   \n33  3d BLING CRYSTAL BOW TRANSPARENT CAE FOR IPHONE      1360454400  NaN   \n34                                   Invisible case      1359763200  NaN   \n39                                  Love this case!      1358208000  NaN   \n41                                    4S PHONE CASE      1358035200  NaN   \n42                                      Loves it!!!      1357862400  NaN   \n43                                          so cute      1357776000  NaN   \n\n    sentiment Review_Time  Month  Year  \n0           1  2014-08-04      8  2014  \n1           1  2014-02-12      2  2014  \n7           1  2014-01-17      1  2014  \n11          1  2013-10-23     10  2013  \n14          1  2013-09-10      9  2013  \n15          1  2013-08-28      8  2013  \n18          1  2013-06-04      6  2013  \n19          1  2013-06-03      6  2013  \n21          1  2013-05-04      5  2013  \n22          1  2013-04-24      4  2013  \n25          1  2013-04-06      4  2013  \n28          1  2013-03-26      3  2013  \n29          1  2013-02-27      2  2013  \n32          1  2013-02-18      2  2013  \n33          1  2013-02-10      2  2013  \n34          1  2013-02-02      2  2013  \n39          1  2013-01-15      1  2013  \n41          1  2013-01-13      1  2013  \n42          1  2013-01-11      1  2013  \n43          1  2013-01-10      1  2013  ",
      "text/html": "<div>\n<style scoped>\n    .dataframe tbody tr th:only-of-type {\n        vertical-align: middle;\n    }\n\n    .dataframe tbody tr th {\n        vertical-align: top;\n    }\n\n    .dataframe thead th {\n        text-align: right;\n    }\n</style>\n<table border=\"1\" class=\"dataframe\">\n  <thead>\n    <tr style=\"text-align: right;\">\n      <th></th>\n      <th>overall</th>\n      <th>verified</th>\n      <th>reviewerID</th>\n      <th>asin</th>\n      <th>reviewerName</th>\n      <th>reviewText</th>\n      <th>summary</th>\n      <th>unixReviewTime</th>\n      <th>vote</th>\n      <th>sentiment</th>\n      <th>Review_Time</th>\n      <th>Month</th>\n      <th>Year</th>\n    </tr>\n  </thead>\n  <tbody>\n    <tr>\n      <th>0</th>\n      <td>5.0</td>\n      <td>True</td>\n      <td>A24E3SXTC62LJI</td>\n      <td>7508492919</td>\n      <td>Claudia Valdivia</td>\n      <td>Looks even better in person. Be careful to not...</td>\n      <td>Can't stop won't stop looking at it</td>\n      <td>1407110400</td>\n      <td>NaN</td>\n      <td>1</td>\n      <td>2014-08-04</td>\n      <td>8</td>\n      <td>2014</td>\n    </tr>\n    <tr>\n      <th>1</th>\n      <td>5.0</td>\n      <td>True</td>\n      <td>A269FLZCB4GIPV</td>\n      <td>7508492919</td>\n      <td>sarah ponce</td>\n      <td>When you don't want to spend a whole lot of ca...</td>\n      <td>1</td>\n      <td>1392163200</td>\n      <td>NaN</td>\n      <td>1</td>\n      <td>2014-02-12</td>\n      <td>2</td>\n      <td>2014</td>\n    </tr>\n    <tr>\n      <th>7</th>\n      <td>5.0</td>\n      <td>True</td>\n      <td>A31OVFL91BCKXG</td>\n      <td>7508492919</td>\n      <td>Ashley Nicole Miller</td>\n      <td>It is a very cute case. None of the jewels hav...</td>\n      <td>Cute case</td>\n      <td>1389916800</td>\n      <td>NaN</td>\n      <td>1</td>\n      <td>2014-01-17</td>\n      <td>1</td>\n      <td>2014</td>\n    </tr>\n    <tr>\n      <th>11</th>\n      <td>5.0</td>\n      <td>True</td>\n      <td>A2ZB7KGUSBR9P3</td>\n      <td>7508492919</td>\n      <td>E. Bryce</td>\n      <td>Another great product that my daughter she use...</td>\n      <td>Bling bling for iPhone 4S</td>\n      <td>1382486400</td>\n      <td>NaN</td>\n      <td>1</td>\n      <td>2013-10-23</td>\n      <td>10</td>\n      <td>2013</td>\n    </tr>\n    <tr>\n      <th>14</th>\n      <td>5.0</td>\n      <td>True</td>\n      <td>A18U23JWTMQX5C</td>\n      <td>7508492919</td>\n      <td>KaitlynxO625</td>\n      <td>Beautiful quality and outstanding product! Eve...</td>\n      <td>I can't stop using this case!</td>\n      <td>1378771200</td>\n      <td>NaN</td>\n      <td>1</td>\n      <td>2013-09-10</td>\n      <td>9</td>\n      <td>2013</td>\n    </tr>\n    <tr>\n      <th>15</th>\n      <td>5.0</td>\n      <td>True</td>\n      <td>A1JQUCTFM4UKMQ</td>\n      <td>7508492919</td>\n      <td>M. Antillon</td>\n      <td>It is such a good case for a low price. I have...</td>\n      <td>I love it</td>\n      <td>1377648000</td>\n      <td>NaN</td>\n      <td>1</td>\n      <td>2013-08-28</td>\n      <td>8</td>\n      <td>2013</td>\n    </tr>\n    <tr>\n      <th>18</th>\n      <td>5.0</td>\n      <td>True</td>\n      <td>A29KSIE8BKYVQN</td>\n      <td>7508492919</td>\n      <td>Janine  B.</td>\n      <td>Super durable and I get compliments on it dail...</td>\n      <td>Good case</td>\n      <td>1370304000</td>\n      <td>NaN</td>\n      <td>1</td>\n      <td>2013-06-04</td>\n      <td>6</td>\n      <td>2013</td>\n    </tr>\n    <tr>\n      <th>19</th>\n      <td>5.0</td>\n      <td>True</td>\n      <td>A2CQO0FORCTC2R</td>\n      <td>7508492919</td>\n      <td>Sulli</td>\n      <td>I have used this case for a couple weeks &amp; so ...</td>\n      <td>very sparkly</td>\n      <td>1370217600</td>\n      <td>NaN</td>\n      <td>1</td>\n      <td>2013-06-03</td>\n      <td>6</td>\n      <td>2013</td>\n    </tr>\n    <tr>\n      <th>21</th>\n      <td>5.0</td>\n      <td>True</td>\n      <td>A2ROMLP8COJ6JA</td>\n      <td>7508492919</td>\n      <td>Mary Beth Anderson</td>\n      <td>I chose this case because it is so beautiful. ...</td>\n      <td>Beautiful</td>\n      <td>1367625600</td>\n      <td>NaN</td>\n      <td>1</td>\n      <td>2013-05-04</td>\n      <td>5</td>\n      <td>2013</td>\n    </tr>\n    <tr>\n      <th>22</th>\n      <td>5.0</td>\n      <td>True</td>\n      <td>A23MRCVKI8M8OY</td>\n      <td>7508492919</td>\n      <td>T...</td>\n      <td>Of all my cases this is the one that I have on...</td>\n      <td>pink bow</td>\n      <td>1366761600</td>\n      <td>NaN</td>\n      <td>1</td>\n      <td>2013-04-24</td>\n      <td>4</td>\n      <td>2013</td>\n    </tr>\n    <tr>\n      <th>25</th>\n      <td>5.0</td>\n      <td>True</td>\n      <td>A1TE996LYGSJYW</td>\n      <td>7508492919</td>\n      <td>Ldiaz</td>\n      <td>here is another I love as well!!!, I am so hap...</td>\n      <td>love this phone cover!!!</td>\n      <td>1365206400</td>\n      <td>NaN</td>\n      <td>1</td>\n      <td>2013-04-06</td>\n      <td>4</td>\n      <td>2013</td>\n    </tr>\n    <tr>\n      <th>28</th>\n      <td>5.0</td>\n      <td>True</td>\n      <td>A322P08DWO7GD0</td>\n      <td>7508492919</td>\n      <td>AKR</td>\n      <td>This case is soo super pretty! This case may l...</td>\n      <td>BEAUTIFUL</td>\n      <td>1364256000</td>\n      <td>NaN</td>\n      <td>1</td>\n      <td>2013-03-26</td>\n      <td>3</td>\n      <td>2013</td>\n    </tr>\n    <tr>\n      <th>29</th>\n      <td>5.0</td>\n      <td>True</td>\n      <td>A372K41F91T9CD</td>\n      <td>7508492919</td>\n      <td>teri illchen</td>\n      <td>This is a great case if you love the bling.  I...</td>\n      <td>Love it...</td>\n      <td>1361923200</td>\n      <td>NaN</td>\n      <td>1</td>\n      <td>2013-02-27</td>\n      <td>2</td>\n      <td>2013</td>\n    </tr>\n    <tr>\n      <th>32</th>\n      <td>5.0</td>\n      <td>True</td>\n      <td>A2KCKROPJ72AE3</td>\n      <td>7508492919</td>\n      <td>Doni Washburn</td>\n      <td>Ive never had any problems with anything ... i...</td>\n      <td>good</td>\n      <td>1361145600</td>\n      <td>2</td>\n      <td>1</td>\n      <td>2013-02-18</td>\n      <td>2</td>\n      <td>2013</td>\n    </tr>\n    <tr>\n      <th>33</th>\n      <td>5.0</td>\n      <td>True</td>\n      <td>A26G0P1P4Q7DVE</td>\n      <td>7508492919</td>\n      <td>CAF</td>\n      <td>BEAUTIFUL.  This instantly transforms your IPh...</td>\n      <td>3d BLING CRYSTAL BOW TRANSPARENT CAE FOR IPHONE</td>\n      <td>1360454400</td>\n      <td>NaN</td>\n      <td>1</td>\n      <td>2013-02-10</td>\n      <td>2</td>\n      <td>2013</td>\n    </tr>\n    <tr>\n      <th>34</th>\n      <td>5.0</td>\n      <td>True</td>\n      <td>A3HU46Z3Y8CMDT</td>\n      <td>7508492919</td>\n      <td>Adnoral</td>\n      <td>It looks like I actually bedazzled my phone.  ...</td>\n      <td>Invisible case</td>\n      <td>1359763200</td>\n      <td>NaN</td>\n      <td>1</td>\n      <td>2013-02-02</td>\n      <td>2</td>\n      <td>2013</td>\n    </tr>\n    <tr>\n      <th>39</th>\n      <td>5.0</td>\n      <td>True</td>\n      <td>A22FTS797LWDIK</td>\n      <td>7508492919</td>\n      <td>Corinne Ubence</td>\n      <td>It is so cute!  Love the bling and love the pi...</td>\n      <td>Love this case!</td>\n      <td>1358208000</td>\n      <td>NaN</td>\n      <td>1</td>\n      <td>2013-01-15</td>\n      <td>1</td>\n      <td>2013</td>\n    </tr>\n    <tr>\n      <th>41</th>\n      <td>5.0</td>\n      <td>True</td>\n      <td>AG176YH633HXF</td>\n      <td>7508492919</td>\n      <td>RENE</td>\n      <td>THIS IS A VERY PRETTY 4S CELL PHONE CASE ANS I...</td>\n      <td>4S PHONE CASE</td>\n      <td>1358035200</td>\n      <td>NaN</td>\n      <td>1</td>\n      <td>2013-01-13</td>\n      <td>1</td>\n      <td>2013</td>\n    </tr>\n    <tr>\n      <th>42</th>\n      <td>5.0</td>\n      <td>True</td>\n      <td>A1SAZP6P8VQ0E6</td>\n      <td>7508492919</td>\n      <td>Sunshine</td>\n      <td>I ordered this case for my daughter for Christ...</td>\n      <td>Loves it!!!</td>\n      <td>1357862400</td>\n      <td>NaN</td>\n      <td>1</td>\n      <td>2013-01-11</td>\n      <td>1</td>\n      <td>2013</td>\n    </tr>\n    <tr>\n      <th>43</th>\n      <td>5.0</td>\n      <td>True</td>\n      <td>A3K3I77ZWF65RO</td>\n      <td>7508492919</td>\n      <td>Christine</td>\n      <td>soooo cute! I got many complaints when I had t...</td>\n      <td>so cute</td>\n      <td>1357776000</td>\n      <td>NaN</td>\n      <td>1</td>\n      <td>2013-01-10</td>\n      <td>1</td>\n      <td>2013</td>\n    </tr>\n  </tbody>\n</table>\n</div>"
     },
     "metadata": {},
     "output_type": "execute_result",
     "execution_count": 6
    }
   ],
   "source": [
    "#convert review date to standard format\n",
    "df['Review_Time']= pd.to_datetime(df['reviewTime'])\n",
    "df['Month']=df['Review_Time'].dt.month\n",
    "df['Year']=df['Review_Time'].dt.year\n",
    "df['Day']=df['Review_Time'].dt.day\n",
    "\n",
    "#add length and word count to dataframe\n",
    "df['review_len'] = df['reviewText'].astype(str).apply(len)\n",
    "df['word_count'] = df['reviewText'].apply(lambda x: len(str(x).split()))"
   ],
   "metadata": {
    "collapsed": false,
    "pycharm": {
     "name": "#%%\n",
     "is_executing": false
    }
   }
  },
  {
   "cell_type": "code",
   "execution_count": null,
   "outputs": [],
   "source": [
    "#keep only the columns we want\n",
    "columns1=['asin', 'overall', 'verified', 'reviewText', 'summary',\n",
    "       'vote', 'sentiment', 'title', 'brand', 'feature', \n",
    "       'price_parsed', 'Month', 'Year', 'Day',\n",
    "       'review_len', 'word_count']\n",
    "df=df[columns1]"
   ],
   "metadata": {
    "collapsed": false,
    "pycharm": {
     "name": "#%%\n"
    }
   }
  },
  {
   "cell_type": "code",
   "execution_count": null,
   "outputs": [],
   "source": [
    "print('Total Rows: ' + str(len(df)))\n",
    "# Sample of raw dataset with dates reformatted. Notice new month and year columns\n",
    "df.head(20)\n"
   ],
   "metadata": {
    "collapsed": false,
    "pycharm": {
     "name": "#%%\n"
    }
   }
  },
  {
   "cell_type": "markdown",
   "source": [
    "# ============================================\n",
    "#   Preprocess reviews \n",
    "# ============================================"
   ],
   "metadata": {
    "collapsed": false
   }
  },
  {
   "cell_type": "code",
   "execution_count": 7,
   "outputs": [],
   "source": [
    "def writeToDisk(dfdb):\n",
    "    with open(PROCESSED_FILENAME, \"wb\") as f:\n",
    "        pickle.dump(dfdb, f)\n",
    "        \n",
    "        "
   ],
   "metadata": {
    "collapsed": false,
    "pycharm": {
     "name": "#%%\n",
     "is_executing": false
    }
   }
  },
  {
   "cell_type": "code",
   "execution_count": 8,
   "outputs": [
    {
     "name": "stdout",
     "text": [
      "To process: 800",
      "\n"
     ],
     "output_type": "stream"
    }
   ],
   "source": [
    "#nltk.download('all', halt_on_error = True)\n",
    "\n",
    "#number of observations\n",
    "size=len(df)\n",
    "#number of observations to normalize in each process\n",
    "iterSize=round(size/processors)\n",
    "#holds the processes\n",
    "processes=[]\n",
    "\n",
    "print('To process: ' + str(size))\n",
    " \n",
    "i=0\n",
    "\n",
    "dfholder=[]\n",
    "parent_conn_holder=[]\n",
    "\n",
    "columns2=columns1 + ['Clean_Review','Clean_Review_Tokens']\n",
    "\n",
    "dffile=pd.DataFrame(columns=columns2);\n",
    "\n",
    "print(dffile.columns)\n",
    "\n",
    "for i in range(0,processors):\n",
    "    start=i*iterSize\n",
    "    stop=start+iterSize\n",
    "    if(stop>size):\n",
    "        stop=size\n",
    "    #split df for parallel proc\n",
    "    dflist=df.iloc[start:stop]\n",
    "    # creating a pipe \n",
    "    parent_conn, child_conn = multiprocessing.Pipe() \n",
    "    p = Process(target=utils.multiprocNormalize, args=(dflist,child_conn,\"proc\"+str(i)))\n",
    "    #dfholder.append(utils.multiprocNormalize(dflist,\"proc\"+str(i)))\n",
    "    processes.append(p)\n",
    "    p.start()\n",
    "    parent_conn_holder.append(parent_conn)\n",
    "\n",
    "    \n",
    "for parent_conn in parent_conn_holder:\n",
    "    dfdb=parent_conn.recv()\n",
    "    #take out leading and trailing blanks\n",
    "    dfdb['Clean_Review'] = dfdb['Clean_Review'].str.strip().astype(str)\n",
    "    #replace blank ones with nan\n",
    "    dfdb['Clean_Review'].replace('', np.NaN, inplace=True)\n",
    "    #now drop all nuls\n",
    "    dfdb.dropna(subset=['Clean_Review'], inplace=True)\n",
    "    dfdb=dfdb.reset_index(drop=True)\n",
    "    dffile=pd.concat([dffile, dfdb], axis=0)\n",
    "\n",
    "for p in processes:\n",
    "    p.join()"
   ],
   "metadata": {
    "collapsed": false,
    "pycharm": {
     "name": "#%%\n",
     "is_executing": false
    }
   }
  },
  {
   "cell_type": "code",
   "execution_count": null,
   "outputs": [],
   "source": [
    "print('Total Rows on processed dataset: ' + str(len(dffile)))\n",
    "print('Sample of processed dataset. Notice the column named Clean_Review');\n",
    "dffile.head(20)"
   ],
   "metadata": {
    "collapsed": false,
    "pycharm": {
     "name": "#%%\n"
    }
   }
  },
  {
   "cell_type": "code",
   "execution_count": null,
   "outputs": [],
   "source": [
    "writeToDisk(dffile)"
   ],
   "metadata": {
    "collapsed": false,
    "pycharm": {
     "name": "#%%\n"
    }
   }
  },
  {
   "cell_type": "code",
   "execution_count": 9,
   "outputs": [
    {
     "name": "stdout",
     "text": [
      "done",
      "\n"
     ],
     "output_type": "stream"
    }
   ],
   "source": [
    "print('done')"
   ],
   "metadata": {
    "collapsed": false,
    "pycharm": {
     "name": "#%%\n",
     "is_executing": false
    }
   }
  },
  {
   "cell_type": "code",
   "execution_count": 10,
   "outputs": [
    {
     "name": "stdout",
     "text": [
      "Total Rows on processed dataset: 800",
      "\n",
      "Sample of processed dataset. Notice the column named Clean_Review",
      "\n"
     ],
     "output_type": "stream"
    }
   ],
   "source": [
    "\n",
    "with open(PROCESSED_FILENAME, \"rb\") as f:\n",
    "    dfread = pickle.load(f)\n",
    "    print('Total Rows on processed dataset: ' + str(len(dfread)))\n",
    "    "
   ],
   "metadata": {
    "collapsed": false,
    "pycharm": {
     "name": "#%%\n",
     "is_executing": false
    }
   }
  }
 ],
 "metadata": {
  "kernelspec": {
   "display_name": "Python 3",
   "language": "python",
   "name": "python3"
  },
  "language_info": {
   "codemirror_mode": {
    "name": "ipython",
    "version": 2
   },
   "file_extension": ".py",
   "mimetype": "text/x-python",
   "name": "python",
   "nbconvert_exporter": "python",
   "pygments_lexer": "ipython2",
   "version": "2.7.6"
  },
  "pycharm": {
   "stem_cell": {
    "cell_type": "raw",
    "source": [
     "    #%% md\n",
     "\n",
     "# Sentiment Analysis for Amazon reviews on cellphones and accessories\n",
     "# Cellphone reviews dataset is at http://deepyeti.ucsd.edu/jianmo/amazon/categoryFilesSmall/Cell_Phones_and_Accessories_5.json.gz\n"
    ],
    "metadata": {
     "collapsed": false
    }
   }
  }
 },
 "nbformat": 4,
 "nbformat_minor": 0
}