{
 "cells": [
  {
   "cell_type": "markdown",
   "source": [
    "# Sentiment Analysis for Amazon reviews on cellphones and accessories\n",
    "# Cellphone reviews dataset is at http://deepyeti.ucsd.edu/jianmo/amazon/categoryFilesSmall/Cell_Phones_and_Accessories_5.json.gz\n",
    "\n"
   ],
   "metadata": {
    "collapsed": false,
    "pycharm": {
     "name": "#%% md\n"
    }
   }
  },
  {
   "cell_type": "code",
   "execution_count": 2,
   "outputs": [],
   "source": [
    "### Import necessary depencencies\n",
    "\n",
    "import gzip\n",
    "import json\n",
    "import multiprocessing\n",
    "import sqlite3\n",
    "from multiprocessing import Process\n",
    "\n",
    "import pandas as pd\n",
    "from nltk.tokenize.toktok import ToktokTokenizer\n",
    "\n",
    "import utils"
   ],
   "metadata": {
    "collapsed": false,
    "pycharm": {
     "name": "#%%\n",
     "is_executing": false
    }
   }
  },
  {
   "cell_type": "markdown",
   "source": [
    "# ============================================\n",
    "#   Overall plan to pre-processing dataset \n",
    "# ============================================\n",
    "### 0. Load data\n",
    "### 1. Prune for local development\n",
    "### 2. Reformat dates and times for visualization\n",
    "### 3. Cleaning review text\n",
    "     a. strip HTML\n",
    "     b. Removing accented characters\n",
    "     c. Expanding Contractions\n",
    "     d. Removing Special Characters\n",
    "     e. Lemmatizing text\n",
    "     f. Removing Stopwords\n",
    "     g. Remove special characters and repeating characters\n",
    "     g. Spelling corrections\n",
    "\n",
    "\n",
    "\n"
   ],
   "metadata": {
    "collapsed": false
   }
  },
  {
   "cell_type": "code",
   "execution_count": 3,
   "outputs": [],
   "source": [
    "def child_process(number):\n",
    "    number.value = 0\n",
    "    while True:\n",
    "        number.value += 1\n",
    "        #print(number)\n",
    "\n",
    "def parse(path):\n",
    "  g = gzip.open(path, 'rb')\n",
    "  for l in g:\n",
    "    yield json.loads(l)\n"
   ],
   "metadata": {
    "collapsed": false,
    "pycharm": {
     "name": "#%%\n",
     "is_executing": false
    }
   }
  },
  {
   "cell_type": "code",
   "execution_count": 4,
   "outputs": [],
   "source": [
    "def getDF(path):\n",
    "  i = 0\n",
    "  df = {}\n",
    "  for d in parse(path):\n",
    "    df[i] = d\n",
    "    i += 1\n",
    "  return pd.DataFrame.from_dict(df, orient='index')\n"
   ],
   "metadata": {
    "collapsed": false,
    "pycharm": {
     "name": "#%%\n",
     "is_executing": false
    }
   }
  },
  {
   "cell_type": "markdown",
   "source": [
    "# ============================================\n",
    "# 0.  Load data \n",
    "# ============================================\n"
   ],
   "metadata": {
    "collapsed": false
   }
  },
  {
   "cell_type": "code",
   "source": [
    "dfraw = getDF('./data/cell_reviews_5core.json.gz')\n",
    "\n",
    "print('Total Rows: ' + str(len(dfraw)))\n",
    "# Sample of raw dataset\n",
    "dfraw.head(20)\n",
    "\n"
   ],
   "metadata": {
    "collapsed": false,
    "pycharm": {
     "name": "#%%\n",
     "is_executing": false
    }
   },
   "execution_count": 5,
   "outputs": [
    {
     "name": "stdout",
     "text": [
      "Total Rows: 1128437",
      "\n"
     ],
     "output_type": "stream"
    },
    {
     "data": {
      "text/plain": "    overall  verified   reviewTime      reviewerID        asin  \\\n0       5.0      True   08 4, 2014  A24E3SXTC62LJI  7508492919   \n1       5.0      True  02 12, 2014  A269FLZCB4GIPV  7508492919   \n2       3.0      True   02 8, 2014   AB6CHQWHZW4TV  7508492919   \n3       2.0      True   02 4, 2014   A1M117A53LEI8  7508492919   \n4       4.0      True   02 3, 2014  A272DUT8M88ZS8  7508492919   \n5       2.0      True  01 27, 2014  A1DW2L6XCC5TJS  7508492919   \n6       3.0      True  01 23, 2014   AQC61R4UST7UH  7508492919   \n7       5.0      True  01 17, 2014  A31OVFL91BCKXG  7508492919   \n8       1.0      True  12 27, 2013  A1K0VLK6O5Z22M  7508492919   \n9       4.0      True  12 16, 2013  A1K3BWU73YB44P  7508492919   \n10      4.0      True  10 27, 2013  A1LBVKZ3X50ES7  7508492919   \n11      5.0      True  10 23, 2013  A2ZB7KGUSBR9P3  7508492919   \n12      1.0      True   10 8, 2013  A1ROZSS0KIE0CC  7508492919   \n13      4.0     False  09 19, 2013  A1EHAOK0XD3P8E  7508492919   \n14      5.0      True  09 10, 2013  A18U23JWTMQX5C  7508492919   \n15      5.0      True  08 28, 2013  A1JQUCTFM4UKMQ  7508492919   \n16      3.0      True  07 14, 2013  A3NS9QFI3TYGYP  7508492919   \n17      2.0      True  06 27, 2013  A1BZ055LW3TDLP  7508492919   \n18      5.0      True   06 4, 2013  A29KSIE8BKYVQN  7508492919   \n19      5.0      True   06 3, 2013  A2CQO0FORCTC2R  7508492919   \n\n                   style          reviewerName  \\\n0   {'Color:': ' Bling'}      Claudia Valdivia   \n1                    NaN           sarah ponce   \n2                    NaN                   Kai   \n3                    NaN       Sharon Williams   \n4                    NaN       Bella Rodriguez   \n5                    NaN       Amazon Customer   \n6                    NaN          DaMara Estep   \n7                    NaN  Ashley Nicole Miller   \n8                    NaN             BeeLove21   \n9                    NaN            Mrs. Ochoa   \n10                   NaN                 Paige   \n11                   NaN              E. Bryce   \n12                   NaN                  Tina   \n13                   NaN                  barb   \n14                   NaN          KaitlynxO625   \n15                   NaN           M. Antillon   \n16                   NaN               Anthony   \n17                   NaN              Chasitty   \n18                   NaN            Janine  B.   \n19                   NaN                 Sulli   \n\n                                           reviewText  \\\n0   Looks even better in person. Be careful to not...   \n1   When you don't want to spend a whole lot of ca...   \n2   so the case came on time, i love the design. I...   \n3   DON'T CARE FOR IT.  GAVE IT AS A GIFT AND THEY...   \n4   I liked it because it was cute, but the studs ...   \n5   The product looked exactly like the picture an...   \n6   I FINALLY got my case today. It took forever t...   \n7   It is a very cute case. None of the jewels hav...   \n8   DO NOT BUY! this item is seriously cheap as he...   \n9   I really love this case... you have to keep yo...   \n10  its super cute and makes my phone pretting and...   \n11  Another great product that my daughter she use...   \n12  Very cheap broke the first time we put it on :...   \n13  I purchased this for my grand-daughters phone....   \n14  Beautiful quality and outstanding product! Eve...   \n15  It is such a good case for a low price. I have...   \n16  Can not argue with the price or appearance. Lo...   \n17  I used this case for not even a week and the b...   \n18  Super durable and I get compliments on it dail...   \n19  I have used this case for a couple weeks & so ...   \n\n                                summary  unixReviewTime vote image  \n0   Can't stop won't stop looking at it      1407110400  NaN   NaN  \n1                                     1      1392163200  NaN   NaN  \n2                              Its okay      1391817600  NaN   NaN  \n3                                  CASE      1391472000  NaN   NaN  \n4                                 Cute!      1391385600  NaN   NaN  \n5                          Not so happy      1390780800  NaN   NaN  \n6                            It's cute!      1390435200  NaN   NaN  \n7                             Cute case      1389916800  NaN   NaN  \n8                           WORST ITEM!      1388102400  NaN   NaN  \n9                          Pretty Cute!      1387152000  NaN   NaN  \n10                                 case      1382832000  NaN   NaN  \n11            Bling bling for iPhone 4S      1382486400  NaN   NaN  \n12                        cheap plastic      1381190400  NaN   NaN  \n13                                Great      1379548800  NaN   NaN  \n14        I can't stop using this case!      1378771200  NaN   NaN  \n15                            I love it      1377648000  NaN   NaN  \n16                      Great for price      1373760000  NaN   NaN  \n17                                 ....      1372291200  NaN   NaN  \n18                            Good case      1370304000  NaN   NaN  \n19                         very sparkly      1370217600  NaN   NaN  ",
      "text/html": "<div>\n<style scoped>\n    .dataframe tbody tr th:only-of-type {\n        vertical-align: middle;\n    }\n\n    .dataframe tbody tr th {\n        vertical-align: top;\n    }\n\n    .dataframe thead th {\n        text-align: right;\n    }\n</style>\n<table border=\"1\" class=\"dataframe\">\n  <thead>\n    <tr style=\"text-align: right;\">\n      <th></th>\n      <th>overall</th>\n      <th>verified</th>\n      <th>reviewTime</th>\n      <th>reviewerID</th>\n      <th>asin</th>\n      <th>style</th>\n      <th>reviewerName</th>\n      <th>reviewText</th>\n      <th>summary</th>\n      <th>unixReviewTime</th>\n      <th>vote</th>\n      <th>image</th>\n    </tr>\n  </thead>\n  <tbody>\n    <tr>\n      <th>0</th>\n      <td>5.0</td>\n      <td>True</td>\n      <td>08 4, 2014</td>\n      <td>A24E3SXTC62LJI</td>\n      <td>7508492919</td>\n      <td>{'Color:': ' Bling'}</td>\n      <td>Claudia Valdivia</td>\n      <td>Looks even better in person. Be careful to not...</td>\n      <td>Can't stop won't stop looking at it</td>\n      <td>1407110400</td>\n      <td>NaN</td>\n      <td>NaN</td>\n    </tr>\n    <tr>\n      <th>1</th>\n      <td>5.0</td>\n      <td>True</td>\n      <td>02 12, 2014</td>\n      <td>A269FLZCB4GIPV</td>\n      <td>7508492919</td>\n      <td>NaN</td>\n      <td>sarah ponce</td>\n      <td>When you don't want to spend a whole lot of ca...</td>\n      <td>1</td>\n      <td>1392163200</td>\n      <td>NaN</td>\n      <td>NaN</td>\n    </tr>\n    <tr>\n      <th>2</th>\n      <td>3.0</td>\n      <td>True</td>\n      <td>02 8, 2014</td>\n      <td>AB6CHQWHZW4TV</td>\n      <td>7508492919</td>\n      <td>NaN</td>\n      <td>Kai</td>\n      <td>so the case came on time, i love the design. I...</td>\n      <td>Its okay</td>\n      <td>1391817600</td>\n      <td>NaN</td>\n      <td>NaN</td>\n    </tr>\n    <tr>\n      <th>3</th>\n      <td>2.0</td>\n      <td>True</td>\n      <td>02 4, 2014</td>\n      <td>A1M117A53LEI8</td>\n      <td>7508492919</td>\n      <td>NaN</td>\n      <td>Sharon Williams</td>\n      <td>DON'T CARE FOR IT.  GAVE IT AS A GIFT AND THEY...</td>\n      <td>CASE</td>\n      <td>1391472000</td>\n      <td>NaN</td>\n      <td>NaN</td>\n    </tr>\n    <tr>\n      <th>4</th>\n      <td>4.0</td>\n      <td>True</td>\n      <td>02 3, 2014</td>\n      <td>A272DUT8M88ZS8</td>\n      <td>7508492919</td>\n      <td>NaN</td>\n      <td>Bella Rodriguez</td>\n      <td>I liked it because it was cute, but the studs ...</td>\n      <td>Cute!</td>\n      <td>1391385600</td>\n      <td>NaN</td>\n      <td>NaN</td>\n    </tr>\n    <tr>\n      <th>5</th>\n      <td>2.0</td>\n      <td>True</td>\n      <td>01 27, 2014</td>\n      <td>A1DW2L6XCC5TJS</td>\n      <td>7508492919</td>\n      <td>NaN</td>\n      <td>Amazon Customer</td>\n      <td>The product looked exactly like the picture an...</td>\n      <td>Not so happy</td>\n      <td>1390780800</td>\n      <td>NaN</td>\n      <td>NaN</td>\n    </tr>\n    <tr>\n      <th>6</th>\n      <td>3.0</td>\n      <td>True</td>\n      <td>01 23, 2014</td>\n      <td>AQC61R4UST7UH</td>\n      <td>7508492919</td>\n      <td>NaN</td>\n      <td>DaMara Estep</td>\n      <td>I FINALLY got my case today. It took forever t...</td>\n      <td>It's cute!</td>\n      <td>1390435200</td>\n      <td>NaN</td>\n      <td>NaN</td>\n    </tr>\n    <tr>\n      <th>7</th>\n      <td>5.0</td>\n      <td>True</td>\n      <td>01 17, 2014</td>\n      <td>A31OVFL91BCKXG</td>\n      <td>7508492919</td>\n      <td>NaN</td>\n      <td>Ashley Nicole Miller</td>\n      <td>It is a very cute case. None of the jewels hav...</td>\n      <td>Cute case</td>\n      <td>1389916800</td>\n      <td>NaN</td>\n      <td>NaN</td>\n    </tr>\n    <tr>\n      <th>8</th>\n      <td>1.0</td>\n      <td>True</td>\n      <td>12 27, 2013</td>\n      <td>A1K0VLK6O5Z22M</td>\n      <td>7508492919</td>\n      <td>NaN</td>\n      <td>BeeLove21</td>\n      <td>DO NOT BUY! this item is seriously cheap as he...</td>\n      <td>WORST ITEM!</td>\n      <td>1388102400</td>\n      <td>NaN</td>\n      <td>NaN</td>\n    </tr>\n    <tr>\n      <th>9</th>\n      <td>4.0</td>\n      <td>True</td>\n      <td>12 16, 2013</td>\n      <td>A1K3BWU73YB44P</td>\n      <td>7508492919</td>\n      <td>NaN</td>\n      <td>Mrs. Ochoa</td>\n      <td>I really love this case... you have to keep yo...</td>\n      <td>Pretty Cute!</td>\n      <td>1387152000</td>\n      <td>NaN</td>\n      <td>NaN</td>\n    </tr>\n    <tr>\n      <th>10</th>\n      <td>4.0</td>\n      <td>True</td>\n      <td>10 27, 2013</td>\n      <td>A1LBVKZ3X50ES7</td>\n      <td>7508492919</td>\n      <td>NaN</td>\n      <td>Paige</td>\n      <td>its super cute and makes my phone pretting and...</td>\n      <td>case</td>\n      <td>1382832000</td>\n      <td>NaN</td>\n      <td>NaN</td>\n    </tr>\n    <tr>\n      <th>11</th>\n      <td>5.0</td>\n      <td>True</td>\n      <td>10 23, 2013</td>\n      <td>A2ZB7KGUSBR9P3</td>\n      <td>7508492919</td>\n      <td>NaN</td>\n      <td>E. Bryce</td>\n      <td>Another great product that my daughter she use...</td>\n      <td>Bling bling for iPhone 4S</td>\n      <td>1382486400</td>\n      <td>NaN</td>\n      <td>NaN</td>\n    </tr>\n    <tr>\n      <th>12</th>\n      <td>1.0</td>\n      <td>True</td>\n      <td>10 8, 2013</td>\n      <td>A1ROZSS0KIE0CC</td>\n      <td>7508492919</td>\n      <td>NaN</td>\n      <td>Tina</td>\n      <td>Very cheap broke the first time we put it on :...</td>\n      <td>cheap plastic</td>\n      <td>1381190400</td>\n      <td>NaN</td>\n      <td>NaN</td>\n    </tr>\n    <tr>\n      <th>13</th>\n      <td>4.0</td>\n      <td>False</td>\n      <td>09 19, 2013</td>\n      <td>A1EHAOK0XD3P8E</td>\n      <td>7508492919</td>\n      <td>NaN</td>\n      <td>barb</td>\n      <td>I purchased this for my grand-daughters phone....</td>\n      <td>Great</td>\n      <td>1379548800</td>\n      <td>NaN</td>\n      <td>NaN</td>\n    </tr>\n    <tr>\n      <th>14</th>\n      <td>5.0</td>\n      <td>True</td>\n      <td>09 10, 2013</td>\n      <td>A18U23JWTMQX5C</td>\n      <td>7508492919</td>\n      <td>NaN</td>\n      <td>KaitlynxO625</td>\n      <td>Beautiful quality and outstanding product! Eve...</td>\n      <td>I can't stop using this case!</td>\n      <td>1378771200</td>\n      <td>NaN</td>\n      <td>NaN</td>\n    </tr>\n    <tr>\n      <th>15</th>\n      <td>5.0</td>\n      <td>True</td>\n      <td>08 28, 2013</td>\n      <td>A1JQUCTFM4UKMQ</td>\n      <td>7508492919</td>\n      <td>NaN</td>\n      <td>M. Antillon</td>\n      <td>It is such a good case for a low price. I have...</td>\n      <td>I love it</td>\n      <td>1377648000</td>\n      <td>NaN</td>\n      <td>NaN</td>\n    </tr>\n    <tr>\n      <th>16</th>\n      <td>3.0</td>\n      <td>True</td>\n      <td>07 14, 2013</td>\n      <td>A3NS9QFI3TYGYP</td>\n      <td>7508492919</td>\n      <td>NaN</td>\n      <td>Anthony</td>\n      <td>Can not argue with the price or appearance. Lo...</td>\n      <td>Great for price</td>\n      <td>1373760000</td>\n      <td>NaN</td>\n      <td>NaN</td>\n    </tr>\n    <tr>\n      <th>17</th>\n      <td>2.0</td>\n      <td>True</td>\n      <td>06 27, 2013</td>\n      <td>A1BZ055LW3TDLP</td>\n      <td>7508492919</td>\n      <td>NaN</td>\n      <td>Chasitty</td>\n      <td>I used this case for not even a week and the b...</td>\n      <td>....</td>\n      <td>1372291200</td>\n      <td>NaN</td>\n      <td>NaN</td>\n    </tr>\n    <tr>\n      <th>18</th>\n      <td>5.0</td>\n      <td>True</td>\n      <td>06 4, 2013</td>\n      <td>A29KSIE8BKYVQN</td>\n      <td>7508492919</td>\n      <td>NaN</td>\n      <td>Janine  B.</td>\n      <td>Super durable and I get compliments on it dail...</td>\n      <td>Good case</td>\n      <td>1370304000</td>\n      <td>NaN</td>\n      <td>NaN</td>\n    </tr>\n    <tr>\n      <th>19</th>\n      <td>5.0</td>\n      <td>True</td>\n      <td>06 3, 2013</td>\n      <td>A2CQO0FORCTC2R</td>\n      <td>7508492919</td>\n      <td>NaN</td>\n      <td>Sulli</td>\n      <td>I have used this case for a couple weeks &amp; so ...</td>\n      <td>very sparkly</td>\n      <td>1370217600</td>\n      <td>NaN</td>\n      <td>NaN</td>\n    </tr>\n  </tbody>\n</table>\n</div>"
     },
     "metadata": {},
     "output_type": "execute_result",
     "execution_count": 5
    }
   ]
  },
  {
   "cell_type": "markdown",
   "source": [
    "# ============================================\n",
    "# 1. Prune for local development\n",
    "# ============================================"
   ],
   "metadata": {
    "collapsed": false
   }
  },
  {
   "cell_type": "code",
   "execution_count": 6,
   "outputs": [
    {
     "name": "stdout",
     "text": [
      "Total Rows: 2000",
      "\n"
     ],
     "output_type": "stream"
    },
    {
     "data": {
      "text/plain": "    overall  verified   reviewTime      reviewerID        asin  \\\n0       5.0      True   08 4, 2014  A24E3SXTC62LJI  7508492919   \n1       5.0      True  02 12, 2014  A269FLZCB4GIPV  7508492919   \n7       5.0      True  01 17, 2014  A31OVFL91BCKXG  7508492919   \n11      5.0      True  10 23, 2013  A2ZB7KGUSBR9P3  7508492919   \n14      5.0      True  09 10, 2013  A18U23JWTMQX5C  7508492919   \n15      5.0      True  08 28, 2013  A1JQUCTFM4UKMQ  7508492919   \n18      5.0      True   06 4, 2013  A29KSIE8BKYVQN  7508492919   \n19      5.0      True   06 3, 2013  A2CQO0FORCTC2R  7508492919   \n21      5.0      True   05 4, 2013  A2ROMLP8COJ6JA  7508492919   \n22      5.0      True  04 24, 2013  A23MRCVKI8M8OY  7508492919   \n\n                   style          reviewerName  \\\n0   {'Color:': ' Bling'}      Claudia Valdivia   \n1                    NaN           sarah ponce   \n7                    NaN  Ashley Nicole Miller   \n11                   NaN              E. Bryce   \n14                   NaN          KaitlynxO625   \n15                   NaN           M. Antillon   \n18                   NaN            Janine  B.   \n19                   NaN                 Sulli   \n21                   NaN    Mary Beth Anderson   \n22                   NaN                  T...   \n\n                                           reviewText  \\\n0   Looks even better in person. Be careful to not...   \n1   When you don't want to spend a whole lot of ca...   \n7   It is a very cute case. None of the jewels hav...   \n11  Another great product that my daughter she use...   \n14  Beautiful quality and outstanding product! Eve...   \n15  It is such a good case for a low price. I have...   \n18  Super durable and I get compliments on it dail...   \n19  I have used this case for a couple weeks & so ...   \n21  I chose this case because it is so beautiful. ...   \n22  Of all my cases this is the one that I have on...   \n\n                                summary  unixReviewTime vote image  \n0   Can't stop won't stop looking at it      1407110400  NaN   NaN  \n1                                     1      1392163200  NaN   NaN  \n7                             Cute case      1389916800  NaN   NaN  \n11            Bling bling for iPhone 4S      1382486400  NaN   NaN  \n14        I can't stop using this case!      1378771200  NaN   NaN  \n15                            I love it      1377648000  NaN   NaN  \n18                            Good case      1370304000  NaN   NaN  \n19                         very sparkly      1370217600  NaN   NaN  \n21                            Beautiful      1367625600  NaN   NaN  \n22                             pink bow      1366761600  NaN   NaN  ",
      "text/html": "<div>\n<style scoped>\n    .dataframe tbody tr th:only-of-type {\n        vertical-align: middle;\n    }\n\n    .dataframe tbody tr th {\n        vertical-align: top;\n    }\n\n    .dataframe thead th {\n        text-align: right;\n    }\n</style>\n<table border=\"1\" class=\"dataframe\">\n  <thead>\n    <tr style=\"text-align: right;\">\n      <th></th>\n      <th>overall</th>\n      <th>verified</th>\n      <th>reviewTime</th>\n      <th>reviewerID</th>\n      <th>asin</th>\n      <th>style</th>\n      <th>reviewerName</th>\n      <th>reviewText</th>\n      <th>summary</th>\n      <th>unixReviewTime</th>\n      <th>vote</th>\n      <th>image</th>\n    </tr>\n  </thead>\n  <tbody>\n    <tr>\n      <th>0</th>\n      <td>5.0</td>\n      <td>True</td>\n      <td>08 4, 2014</td>\n      <td>A24E3SXTC62LJI</td>\n      <td>7508492919</td>\n      <td>{'Color:': ' Bling'}</td>\n      <td>Claudia Valdivia</td>\n      <td>Looks even better in person. Be careful to not...</td>\n      <td>Can't stop won't stop looking at it</td>\n      <td>1407110400</td>\n      <td>NaN</td>\n      <td>NaN</td>\n    </tr>\n    <tr>\n      <th>1</th>\n      <td>5.0</td>\n      <td>True</td>\n      <td>02 12, 2014</td>\n      <td>A269FLZCB4GIPV</td>\n      <td>7508492919</td>\n      <td>NaN</td>\n      <td>sarah ponce</td>\n      <td>When you don't want to spend a whole lot of ca...</td>\n      <td>1</td>\n      <td>1392163200</td>\n      <td>NaN</td>\n      <td>NaN</td>\n    </tr>\n    <tr>\n      <th>7</th>\n      <td>5.0</td>\n      <td>True</td>\n      <td>01 17, 2014</td>\n      <td>A31OVFL91BCKXG</td>\n      <td>7508492919</td>\n      <td>NaN</td>\n      <td>Ashley Nicole Miller</td>\n      <td>It is a very cute case. None of the jewels hav...</td>\n      <td>Cute case</td>\n      <td>1389916800</td>\n      <td>NaN</td>\n      <td>NaN</td>\n    </tr>\n    <tr>\n      <th>11</th>\n      <td>5.0</td>\n      <td>True</td>\n      <td>10 23, 2013</td>\n      <td>A2ZB7KGUSBR9P3</td>\n      <td>7508492919</td>\n      <td>NaN</td>\n      <td>E. Bryce</td>\n      <td>Another great product that my daughter she use...</td>\n      <td>Bling bling for iPhone 4S</td>\n      <td>1382486400</td>\n      <td>NaN</td>\n      <td>NaN</td>\n    </tr>\n    <tr>\n      <th>14</th>\n      <td>5.0</td>\n      <td>True</td>\n      <td>09 10, 2013</td>\n      <td>A18U23JWTMQX5C</td>\n      <td>7508492919</td>\n      <td>NaN</td>\n      <td>KaitlynxO625</td>\n      <td>Beautiful quality and outstanding product! Eve...</td>\n      <td>I can't stop using this case!</td>\n      <td>1378771200</td>\n      <td>NaN</td>\n      <td>NaN</td>\n    </tr>\n    <tr>\n      <th>15</th>\n      <td>5.0</td>\n      <td>True</td>\n      <td>08 28, 2013</td>\n      <td>A1JQUCTFM4UKMQ</td>\n      <td>7508492919</td>\n      <td>NaN</td>\n      <td>M. Antillon</td>\n      <td>It is such a good case for a low price. I have...</td>\n      <td>I love it</td>\n      <td>1377648000</td>\n      <td>NaN</td>\n      <td>NaN</td>\n    </tr>\n    <tr>\n      <th>18</th>\n      <td>5.0</td>\n      <td>True</td>\n      <td>06 4, 2013</td>\n      <td>A29KSIE8BKYVQN</td>\n      <td>7508492919</td>\n      <td>NaN</td>\n      <td>Janine  B.</td>\n      <td>Super durable and I get compliments on it dail...</td>\n      <td>Good case</td>\n      <td>1370304000</td>\n      <td>NaN</td>\n      <td>NaN</td>\n    </tr>\n    <tr>\n      <th>19</th>\n      <td>5.0</td>\n      <td>True</td>\n      <td>06 3, 2013</td>\n      <td>A2CQO0FORCTC2R</td>\n      <td>7508492919</td>\n      <td>NaN</td>\n      <td>Sulli</td>\n      <td>I have used this case for a couple weeks &amp; so ...</td>\n      <td>very sparkly</td>\n      <td>1370217600</td>\n      <td>NaN</td>\n      <td>NaN</td>\n    </tr>\n    <tr>\n      <th>21</th>\n      <td>5.0</td>\n      <td>True</td>\n      <td>05 4, 2013</td>\n      <td>A2ROMLP8COJ6JA</td>\n      <td>7508492919</td>\n      <td>NaN</td>\n      <td>Mary Beth Anderson</td>\n      <td>I chose this case because it is so beautiful. ...</td>\n      <td>Beautiful</td>\n      <td>1367625600</td>\n      <td>NaN</td>\n      <td>NaN</td>\n    </tr>\n    <tr>\n      <th>22</th>\n      <td>5.0</td>\n      <td>True</td>\n      <td>04 24, 2013</td>\n      <td>A23MRCVKI8M8OY</td>\n      <td>7508492919</td>\n      <td>NaN</td>\n      <td>T...</td>\n      <td>Of all my cases this is the one that I have on...</td>\n      <td>pink bow</td>\n      <td>1366761600</td>\n      <td>NaN</td>\n      <td>NaN</td>\n    </tr>\n  </tbody>\n</table>\n</div>"
     },
     "metadata": {},
     "output_type": "execute_result",
     "execution_count": 6
    }
   ],
   "source": [
    "trial=0\n",
    "\n",
    "#subset for local runs, will remove on final runs or on server\n",
    "five=(dfraw['overall'] == 5.0)\n",
    "four=(dfraw['overall'] >= 4.0) & (dfraw['overall'] < 5.0)\n",
    "three=(dfraw['overall'] >= 3.0) & (dfraw['overall'] < 4.0)\n",
    "two=(dfraw['overall'] >= 2.0) & (dfraw['overall'] < 3.0)\n",
    "one=(dfraw['overall'] >= 1.0) & (dfraw['overall'] < 2.0)\n",
    "zero=(dfraw['overall'] >= 0.0) & (dfraw['overall'] < 1.0)\n",
    "\n",
    "df=pd.DataFrame(columns = dfraw.columns)\n",
    "if(trial>0):\n",
    "    df=dfraw[five].iloc[0:trial]\n",
    "    df=df.append(dfraw[four].iloc[0:trial])\n",
    "    #ignoring star rating=3 as it is neither positive or negative\n",
    "    #df=df.append(dfraw[three].iloc[0:trial])\n",
    "    df=df.append(dfraw[two].iloc[0:trial])\n",
    "    df=df.append(dfraw[one].iloc[0:trial])\n",
    "    df=df.append(dfraw[zero].iloc[0:trial])\n",
    "else:\n",
    "    #ignoring star rating=3 as it is neither positive or negative\n",
    "    df=dfraw[five]\n",
    "    df=df.append(dfraw[four])\n",
    "    df=df.append(dfraw[two])\n",
    "    df=df.append(dfraw[one])\n",
    "    df=df.append(dfraw[zero])\n",
    "    \n",
    "print('Total Rows: ' + str(len(df)))\n",
    "# Sample of Unprocessed reviews pruned for local development\n",
    "df.head(10)\n"
   ],
   "metadata": {
    "collapsed": false,
    "pycharm": {
     "name": "#%%\n",
     "is_executing": false
    }
   }
  },
  {
   "cell_type": "markdown",
   "source": [
    "# =================================================\n",
    "# 2. Reformat dates and convert rating to sentiment\n",
    "# ================================================="
   ],
   "metadata": {
    "collapsed": false
   }
  },
  {
   "cell_type": "code",
   "execution_count": 7,
   "outputs": [
    {
     "name": "stdout",
     "text": [
      "Total Rows: 2000",
      "\n"
     ],
     "output_type": "stream"
    },
    {
     "data": {
      "text/plain": "    overall  verified      reviewerID        asin          reviewerName  \\\n0       5.0      True  A24E3SXTC62LJI  7508492919      Claudia Valdivia   \n1       5.0      True  A269FLZCB4GIPV  7508492919           sarah ponce   \n7       5.0      True  A31OVFL91BCKXG  7508492919  Ashley Nicole Miller   \n11      5.0      True  A2ZB7KGUSBR9P3  7508492919              E. Bryce   \n14      5.0      True  A18U23JWTMQX5C  7508492919          KaitlynxO625   \n15      5.0      True  A1JQUCTFM4UKMQ  7508492919           M. Antillon   \n18      5.0      True  A29KSIE8BKYVQN  7508492919            Janine  B.   \n19      5.0      True  A2CQO0FORCTC2R  7508492919                 Sulli   \n21      5.0      True  A2ROMLP8COJ6JA  7508492919    Mary Beth Anderson   \n22      5.0      True  A23MRCVKI8M8OY  7508492919                  T...   \n25      5.0      True  A1TE996LYGSJYW  7508492919                 Ldiaz   \n28      5.0      True  A322P08DWO7GD0  7508492919                   AKR   \n29      5.0      True  A372K41F91T9CD  7508492919          teri illchen   \n32      5.0      True  A2KCKROPJ72AE3  7508492919         Doni Washburn   \n33      5.0      True  A26G0P1P4Q7DVE  7508492919                   CAF   \n34      5.0      True  A3HU46Z3Y8CMDT  7508492919               Adnoral   \n39      5.0      True  A22FTS797LWDIK  7508492919        Corinne Ubence   \n41      5.0      True   AG176YH633HXF  7508492919                  RENE   \n42      5.0      True  A1SAZP6P8VQ0E6  7508492919              Sunshine   \n43      5.0      True  A3K3I77ZWF65RO  7508492919             Christine   \n\n                                           reviewText  \\\n0   Looks even better in person. Be careful to not...   \n1   When you don't want to spend a whole lot of ca...   \n7   It is a very cute case. None of the jewels hav...   \n11  Another great product that my daughter she use...   \n14  Beautiful quality and outstanding product! Eve...   \n15  It is such a good case for a low price. I have...   \n18  Super durable and I get compliments on it dail...   \n19  I have used this case for a couple weeks & so ...   \n21  I chose this case because it is so beautiful. ...   \n22  Of all my cases this is the one that I have on...   \n25  here is another I love as well!!!, I am so hap...   \n28  This case is soo super pretty! This case may l...   \n29  This is a great case if you love the bling.  I...   \n32  Ive never had any problems with anything ... i...   \n33  BEAUTIFUL.  This instantly transforms your IPh...   \n34  It looks like I actually bedazzled my phone.  ...   \n39  It is so cute!  Love the bling and love the pi...   \n41  THIS IS A VERY PRETTY 4S CELL PHONE CASE ANS I...   \n42  I ordered this case for my daughter for Christ...   \n43  soooo cute! I got many complaints when I had t...   \n\n                                            summary  unixReviewTime vote  \\\n0               Can't stop won't stop looking at it      1407110400  NaN   \n1                                                 1      1392163200  NaN   \n7                                         Cute case      1389916800  NaN   \n11                        Bling bling for iPhone 4S      1382486400  NaN   \n14                    I can't stop using this case!      1378771200  NaN   \n15                                        I love it      1377648000  NaN   \n18                                        Good case      1370304000  NaN   \n19                                     very sparkly      1370217600  NaN   \n21                                        Beautiful      1367625600  NaN   \n22                                         pink bow      1366761600  NaN   \n25                         love this phone cover!!!      1365206400  NaN   \n28                                        BEAUTIFUL      1364256000  NaN   \n29                                       Love it...      1361923200  NaN   \n32                                             good      1361145600    2   \n33  3d BLING CRYSTAL BOW TRANSPARENT CAE FOR IPHONE      1360454400  NaN   \n34                                   Invisible case      1359763200  NaN   \n39                                  Love this case!      1358208000  NaN   \n41                                    4S PHONE CASE      1358035200  NaN   \n42                                      Loves it!!!      1357862400  NaN   \n43                                          so cute      1357776000  NaN   \n\n   Review_Time  Month  Year  \n0   2014-08-04      8  2014  \n1   2014-02-12      2  2014  \n7   2014-01-17      1  2014  \n11  2013-10-23     10  2013  \n14  2013-09-10      9  2013  \n15  2013-08-28      8  2013  \n18  2013-06-04      6  2013  \n19  2013-06-03      6  2013  \n21  2013-05-04      5  2013  \n22  2013-04-24      4  2013  \n25  2013-04-06      4  2013  \n28  2013-03-26      3  2013  \n29  2013-02-27      2  2013  \n32  2013-02-18      2  2013  \n33  2013-02-10      2  2013  \n34  2013-02-02      2  2013  \n39  2013-01-15      1  2013  \n41  2013-01-13      1  2013  \n42  2013-01-11      1  2013  \n43  2013-01-10      1  2013  ",
      "text/html": "<div>\n<style scoped>\n    .dataframe tbody tr th:only-of-type {\n        vertical-align: middle;\n    }\n\n    .dataframe tbody tr th {\n        vertical-align: top;\n    }\n\n    .dataframe thead th {\n        text-align: right;\n    }\n</style>\n<table border=\"1\" class=\"dataframe\">\n  <thead>\n    <tr style=\"text-align: right;\">\n      <th></th>\n      <th>overall</th>\n      <th>verified</th>\n      <th>reviewerID</th>\n      <th>asin</th>\n      <th>reviewerName</th>\n      <th>reviewText</th>\n      <th>summary</th>\n      <th>unixReviewTime</th>\n      <th>vote</th>\n      <th>Review_Time</th>\n      <th>Month</th>\n      <th>Year</th>\n    </tr>\n  </thead>\n  <tbody>\n    <tr>\n      <th>0</th>\n      <td>5.0</td>\n      <td>True</td>\n      <td>A24E3SXTC62LJI</td>\n      <td>7508492919</td>\n      <td>Claudia Valdivia</td>\n      <td>Looks even better in person. Be careful to not...</td>\n      <td>Can't stop won't stop looking at it</td>\n      <td>1407110400</td>\n      <td>NaN</td>\n      <td>2014-08-04</td>\n      <td>8</td>\n      <td>2014</td>\n    </tr>\n    <tr>\n      <th>1</th>\n      <td>5.0</td>\n      <td>True</td>\n      <td>A269FLZCB4GIPV</td>\n      <td>7508492919</td>\n      <td>sarah ponce</td>\n      <td>When you don't want to spend a whole lot of ca...</td>\n      <td>1</td>\n      <td>1392163200</td>\n      <td>NaN</td>\n      <td>2014-02-12</td>\n      <td>2</td>\n      <td>2014</td>\n    </tr>\n    <tr>\n      <th>7</th>\n      <td>5.0</td>\n      <td>True</td>\n      <td>A31OVFL91BCKXG</td>\n      <td>7508492919</td>\n      <td>Ashley Nicole Miller</td>\n      <td>It is a very cute case. None of the jewels hav...</td>\n      <td>Cute case</td>\n      <td>1389916800</td>\n      <td>NaN</td>\n      <td>2014-01-17</td>\n      <td>1</td>\n      <td>2014</td>\n    </tr>\n    <tr>\n      <th>11</th>\n      <td>5.0</td>\n      <td>True</td>\n      <td>A2ZB7KGUSBR9P3</td>\n      <td>7508492919</td>\n      <td>E. Bryce</td>\n      <td>Another great product that my daughter she use...</td>\n      <td>Bling bling for iPhone 4S</td>\n      <td>1382486400</td>\n      <td>NaN</td>\n      <td>2013-10-23</td>\n      <td>10</td>\n      <td>2013</td>\n    </tr>\n    <tr>\n      <th>14</th>\n      <td>5.0</td>\n      <td>True</td>\n      <td>A18U23JWTMQX5C</td>\n      <td>7508492919</td>\n      <td>KaitlynxO625</td>\n      <td>Beautiful quality and outstanding product! Eve...</td>\n      <td>I can't stop using this case!</td>\n      <td>1378771200</td>\n      <td>NaN</td>\n      <td>2013-09-10</td>\n      <td>9</td>\n      <td>2013</td>\n    </tr>\n    <tr>\n      <th>15</th>\n      <td>5.0</td>\n      <td>True</td>\n      <td>A1JQUCTFM4UKMQ</td>\n      <td>7508492919</td>\n      <td>M. Antillon</td>\n      <td>It is such a good case for a low price. I have...</td>\n      <td>I love it</td>\n      <td>1377648000</td>\n      <td>NaN</td>\n      <td>2013-08-28</td>\n      <td>8</td>\n      <td>2013</td>\n    </tr>\n    <tr>\n      <th>18</th>\n      <td>5.0</td>\n      <td>True</td>\n      <td>A29KSIE8BKYVQN</td>\n      <td>7508492919</td>\n      <td>Janine  B.</td>\n      <td>Super durable and I get compliments on it dail...</td>\n      <td>Good case</td>\n      <td>1370304000</td>\n      <td>NaN</td>\n      <td>2013-06-04</td>\n      <td>6</td>\n      <td>2013</td>\n    </tr>\n    <tr>\n      <th>19</th>\n      <td>5.0</td>\n      <td>True</td>\n      <td>A2CQO0FORCTC2R</td>\n      <td>7508492919</td>\n      <td>Sulli</td>\n      <td>I have used this case for a couple weeks &amp; so ...</td>\n      <td>very sparkly</td>\n      <td>1370217600</td>\n      <td>NaN</td>\n      <td>2013-06-03</td>\n      <td>6</td>\n      <td>2013</td>\n    </tr>\n    <tr>\n      <th>21</th>\n      <td>5.0</td>\n      <td>True</td>\n      <td>A2ROMLP8COJ6JA</td>\n      <td>7508492919</td>\n      <td>Mary Beth Anderson</td>\n      <td>I chose this case because it is so beautiful. ...</td>\n      <td>Beautiful</td>\n      <td>1367625600</td>\n      <td>NaN</td>\n      <td>2013-05-04</td>\n      <td>5</td>\n      <td>2013</td>\n    </tr>\n    <tr>\n      <th>22</th>\n      <td>5.0</td>\n      <td>True</td>\n      <td>A23MRCVKI8M8OY</td>\n      <td>7508492919</td>\n      <td>T...</td>\n      <td>Of all my cases this is the one that I have on...</td>\n      <td>pink bow</td>\n      <td>1366761600</td>\n      <td>NaN</td>\n      <td>2013-04-24</td>\n      <td>4</td>\n      <td>2013</td>\n    </tr>\n    <tr>\n      <th>25</th>\n      <td>5.0</td>\n      <td>True</td>\n      <td>A1TE996LYGSJYW</td>\n      <td>7508492919</td>\n      <td>Ldiaz</td>\n      <td>here is another I love as well!!!, I am so hap...</td>\n      <td>love this phone cover!!!</td>\n      <td>1365206400</td>\n      <td>NaN</td>\n      <td>2013-04-06</td>\n      <td>4</td>\n      <td>2013</td>\n    </tr>\n    <tr>\n      <th>28</th>\n      <td>5.0</td>\n      <td>True</td>\n      <td>A322P08DWO7GD0</td>\n      <td>7508492919</td>\n      <td>AKR</td>\n      <td>This case is soo super pretty! This case may l...</td>\n      <td>BEAUTIFUL</td>\n      <td>1364256000</td>\n      <td>NaN</td>\n      <td>2013-03-26</td>\n      <td>3</td>\n      <td>2013</td>\n    </tr>\n    <tr>\n      <th>29</th>\n      <td>5.0</td>\n      <td>True</td>\n      <td>A372K41F91T9CD</td>\n      <td>7508492919</td>\n      <td>teri illchen</td>\n      <td>This is a great case if you love the bling.  I...</td>\n      <td>Love it...</td>\n      <td>1361923200</td>\n      <td>NaN</td>\n      <td>2013-02-27</td>\n      <td>2</td>\n      <td>2013</td>\n    </tr>\n    <tr>\n      <th>32</th>\n      <td>5.0</td>\n      <td>True</td>\n      <td>A2KCKROPJ72AE3</td>\n      <td>7508492919</td>\n      <td>Doni Washburn</td>\n      <td>Ive never had any problems with anything ... i...</td>\n      <td>good</td>\n      <td>1361145600</td>\n      <td>2</td>\n      <td>2013-02-18</td>\n      <td>2</td>\n      <td>2013</td>\n    </tr>\n    <tr>\n      <th>33</th>\n      <td>5.0</td>\n      <td>True</td>\n      <td>A26G0P1P4Q7DVE</td>\n      <td>7508492919</td>\n      <td>CAF</td>\n      <td>BEAUTIFUL.  This instantly transforms your IPh...</td>\n      <td>3d BLING CRYSTAL BOW TRANSPARENT CAE FOR IPHONE</td>\n      <td>1360454400</td>\n      <td>NaN</td>\n      <td>2013-02-10</td>\n      <td>2</td>\n      <td>2013</td>\n    </tr>\n    <tr>\n      <th>34</th>\n      <td>5.0</td>\n      <td>True</td>\n      <td>A3HU46Z3Y8CMDT</td>\n      <td>7508492919</td>\n      <td>Adnoral</td>\n      <td>It looks like I actually bedazzled my phone.  ...</td>\n      <td>Invisible case</td>\n      <td>1359763200</td>\n      <td>NaN</td>\n      <td>2013-02-02</td>\n      <td>2</td>\n      <td>2013</td>\n    </tr>\n    <tr>\n      <th>39</th>\n      <td>5.0</td>\n      <td>True</td>\n      <td>A22FTS797LWDIK</td>\n      <td>7508492919</td>\n      <td>Corinne Ubence</td>\n      <td>It is so cute!  Love the bling and love the pi...</td>\n      <td>Love this case!</td>\n      <td>1358208000</td>\n      <td>NaN</td>\n      <td>2013-01-15</td>\n      <td>1</td>\n      <td>2013</td>\n    </tr>\n    <tr>\n      <th>41</th>\n      <td>5.0</td>\n      <td>True</td>\n      <td>AG176YH633HXF</td>\n      <td>7508492919</td>\n      <td>RENE</td>\n      <td>THIS IS A VERY PRETTY 4S CELL PHONE CASE ANS I...</td>\n      <td>4S PHONE CASE</td>\n      <td>1358035200</td>\n      <td>NaN</td>\n      <td>2013-01-13</td>\n      <td>1</td>\n      <td>2013</td>\n    </tr>\n    <tr>\n      <th>42</th>\n      <td>5.0</td>\n      <td>True</td>\n      <td>A1SAZP6P8VQ0E6</td>\n      <td>7508492919</td>\n      <td>Sunshine</td>\n      <td>I ordered this case for my daughter for Christ...</td>\n      <td>Loves it!!!</td>\n      <td>1357862400</td>\n      <td>NaN</td>\n      <td>2013-01-11</td>\n      <td>1</td>\n      <td>2013</td>\n    </tr>\n    <tr>\n      <th>43</th>\n      <td>5.0</td>\n      <td>True</td>\n      <td>A3K3I77ZWF65RO</td>\n      <td>7508492919</td>\n      <td>Christine</td>\n      <td>soooo cute! I got many complaints when I had t...</td>\n      <td>so cute</td>\n      <td>1357776000</td>\n      <td>NaN</td>\n      <td>2013-01-10</td>\n      <td>1</td>\n      <td>2013</td>\n    </tr>\n  </tbody>\n</table>\n</div>"
     },
     "metadata": {},
     "output_type": "execute_result",
     "execution_count": 7
    }
   ],
   "source": [
    "#infer sentiment positive and negative based on star reviews and add to dataset\n",
    "#negative= star reviews 0,1,2,\n",
    "#positive= star reviews 4,5\n",
    "#create new column for sentiment\n",
    "#sentiment column is labeled target\n",
    "df['sentiment']=1\n",
    "df.loc[(df['overall'] >= 0.0) & (df['overall'] < 3.0), 'sentiment'] = 0\n",
    "\n",
    "#convert review date to standard format\n",
    "df['Review_Time']= pd.to_datetime(df['reviewTime'])\n",
    "df['Month']=df['Review_Time'].dt.month\n",
    "df['Year']=df['Review_Time'].dt.year\n",
    "\n",
    "\n",
    "#drop uneeded columns\n",
    "df.drop('reviewTime', axis=1,inplace=True)\n",
    "df.drop('style', axis=1,inplace=True)\n",
    "df.drop('image', axis=1,inplace=True)\n",
    "\n",
    "print('Total Rows: ' + str(len(df)))\n",
    "# Sample of raw dataset with dates reformatted. Notice new month and year columns\n",
    "df.head(20)\n"
   ],
   "metadata": {
    "collapsed": false,
    "pycharm": {
     "name": "#%%\n",
     "is_executing": false
    }
   }
  },
  {
   "cell_type": "markdown",
   "source": [
    "# ============================================\n",
    "#   3. Clean data as below \n",
    "# ============================================\n",
    "##     a.  strip HTML: using regex, not BeautifulSoup (which is slow)\n",
    "##     b.  Removing accented characters using Regex\n",
    "##     c.  Expanding Contractions using a map of common contractions\n",
    "##     d.  Removing Special Characters using Regex\n",
    "##     e.  Lemmatizing text using Spacy and WordNet\n",
    "##     f.  Removing Stopwords using ToktokTokenizer (NLTK)  \n",
    "##     g.  Removing special characters and repeating characters using Regex\n",
    "##     h.  Spelling corrections using TextBlob\n"
   ],
   "metadata": {
    "collapsed": false
   }
  },
  {
   "cell_type": "code",
   "execution_count": null,
   "outputs": [],
   "source": [
    "#drop table because we will reload the table in this run\n",
    "con = sqlite3.connect('./data/amazon_cellreviews.db')\n",
    "dropQuery = \"DROP TABLE IF EXISTS reviews\";\n",
    "con.execute(dropQuery)\n"
   ],
   "metadata": {
    "collapsed": false,
    "pycharm": {
     "name": "#%%\n"
    }
   }
  },
  {
   "cell_type": "code",
   "execution_count": null,
   "outputs": [],
   "source": [
    "def writeToDatabase(dfdb):\n",
    "    dfdb.to_sql('reviews', con, if_exists=\"append\")\n",
    "    con.commit()\n",
    "        "
   ],
   "metadata": {
    "collapsed": false,
    "pycharm": {
     "name": "#%%\n"
    }
   }
  },
  {
   "cell_type": "code",
   "execution_count": 12,
   "outputs": [
    {
     "name": "stdout",
     "text": [
      "To process: 2000",
      "\n"
     ],
     "output_type": "stream"
    },
    {
     "traceback": [
      "\u001b[1;31m---------------------------------------------------------------------------\u001b[0m",
      "\u001b[1;31mValueError\u001b[0m                                Traceback (most recent call last)",
      "\u001b[1;32m<ipython-input-12-ce25654133f6>\u001b[0m in \u001b[0;36m<module>\u001b[1;34m\u001b[0m\n\u001b[0;32m     36\u001b[0m \u001b[1;32mfor\u001b[0m \u001b[0mi\u001b[0m \u001b[1;32min\u001b[0m \u001b[0mrange\u001b[0m\u001b[1;33m(\u001b[0m\u001b[1;36m0\u001b[0m\u001b[1;33m,\u001b[0m\u001b[0mprocessors\u001b[0m\u001b[1;33m)\u001b[0m\u001b[1;33m:\u001b[0m\u001b[1;33m\u001b[0m\u001b[1;33m\u001b[0m\u001b[0m\n\u001b[0;32m     37\u001b[0m     \u001b[0mdfi\u001b[0m\u001b[1;33m=\u001b[0m\u001b[0mdf_dflist\u001b[0m\u001b[1;33m[\u001b[0m\u001b[0mi\u001b[0m\u001b[1;33m]\u001b[0m\u001b[1;33m\u001b[0m\u001b[1;33m\u001b[0m\u001b[0m\n\u001b[1;32m---> 38\u001b[1;33m     \u001b[0mdfi\u001b[0m\u001b[1;33m.\u001b[0m\u001b[0minsert\u001b[0m\u001b[1;33m(\u001b[0m\u001b[1;36m8\u001b[0m\u001b[1;33m,\u001b[0m\u001b[1;34m'Clean_Review'\u001b[0m\u001b[1;33m,\u001b[0m\u001b[0mdf_clean_reviews\u001b[0m\u001b[1;33m[\u001b[0m\u001b[0mi\u001b[0m\u001b[1;33m]\u001b[0m\u001b[1;33m)\u001b[0m\u001b[1;33m\u001b[0m\u001b[1;33m\u001b[0m\u001b[0m\n\u001b[0m\u001b[0;32m     39\u001b[0m \u001b[1;33m\u001b[0m\u001b[0m\n",
      "\u001b[1;32mC:\\ProgramData\\Anaconda3\\lib\\site-packages\\pandas\\core\\frame.py\u001b[0m in \u001b[0;36minsert\u001b[1;34m(self, loc, column, value, allow_duplicates)\u001b[0m\n\u001b[0;32m   3588\u001b[0m         \"\"\"\n\u001b[0;32m   3589\u001b[0m         \u001b[0mself\u001b[0m\u001b[1;33m.\u001b[0m\u001b[0m_ensure_valid_index\u001b[0m\u001b[1;33m(\u001b[0m\u001b[0mvalue\u001b[0m\u001b[1;33m)\u001b[0m\u001b[1;33m\u001b[0m\u001b[1;33m\u001b[0m\u001b[0m\n\u001b[1;32m-> 3590\u001b[1;33m         \u001b[0mvalue\u001b[0m \u001b[1;33m=\u001b[0m \u001b[0mself\u001b[0m\u001b[1;33m.\u001b[0m\u001b[0m_sanitize_column\u001b[0m\u001b[1;33m(\u001b[0m\u001b[0mcolumn\u001b[0m\u001b[1;33m,\u001b[0m \u001b[0mvalue\u001b[0m\u001b[1;33m,\u001b[0m \u001b[0mbroadcast\u001b[0m\u001b[1;33m=\u001b[0m\u001b[1;32mFalse\u001b[0m\u001b[1;33m)\u001b[0m\u001b[1;33m\u001b[0m\u001b[1;33m\u001b[0m\u001b[0m\n\u001b[0m\u001b[0;32m   3591\u001b[0m         \u001b[0mself\u001b[0m\u001b[1;33m.\u001b[0m\u001b[0m_data\u001b[0m\u001b[1;33m.\u001b[0m\u001b[0minsert\u001b[0m\u001b[1;33m(\u001b[0m\u001b[0mloc\u001b[0m\u001b[1;33m,\u001b[0m \u001b[0mcolumn\u001b[0m\u001b[1;33m,\u001b[0m \u001b[0mvalue\u001b[0m\u001b[1;33m,\u001b[0m \u001b[0mallow_duplicates\u001b[0m\u001b[1;33m=\u001b[0m\u001b[0mallow_duplicates\u001b[0m\u001b[1;33m)\u001b[0m\u001b[1;33m\u001b[0m\u001b[1;33m\u001b[0m\u001b[0m\n\u001b[0;32m   3592\u001b[0m \u001b[1;33m\u001b[0m\u001b[0m\n",
      "\u001b[1;32mC:\\ProgramData\\Anaconda3\\lib\\site-packages\\pandas\\core\\frame.py\u001b[0m in \u001b[0;36m_sanitize_column\u001b[1;34m(self, key, value, broadcast)\u001b[0m\n\u001b[0;32m   3747\u001b[0m \u001b[1;33m\u001b[0m\u001b[0m\n\u001b[0;32m   3748\u001b[0m             \u001b[1;31m# turn me into an ndarray\u001b[0m\u001b[1;33m\u001b[0m\u001b[1;33m\u001b[0m\u001b[1;33m\u001b[0m\u001b[0m\n\u001b[1;32m-> 3749\u001b[1;33m             \u001b[0mvalue\u001b[0m \u001b[1;33m=\u001b[0m \u001b[0msanitize_index\u001b[0m\u001b[1;33m(\u001b[0m\u001b[0mvalue\u001b[0m\u001b[1;33m,\u001b[0m \u001b[0mself\u001b[0m\u001b[1;33m.\u001b[0m\u001b[0mindex\u001b[0m\u001b[1;33m,\u001b[0m \u001b[0mcopy\u001b[0m\u001b[1;33m=\u001b[0m\u001b[1;32mFalse\u001b[0m\u001b[1;33m)\u001b[0m\u001b[1;33m\u001b[0m\u001b[1;33m\u001b[0m\u001b[0m\n\u001b[0m\u001b[0;32m   3750\u001b[0m             \u001b[1;32mif\u001b[0m \u001b[1;32mnot\u001b[0m \u001b[0misinstance\u001b[0m\u001b[1;33m(\u001b[0m\u001b[0mvalue\u001b[0m\u001b[1;33m,\u001b[0m \u001b[1;33m(\u001b[0m\u001b[0mnp\u001b[0m\u001b[1;33m.\u001b[0m\u001b[0mndarray\u001b[0m\u001b[1;33m,\u001b[0m \u001b[0mIndex\u001b[0m\u001b[1;33m)\u001b[0m\u001b[1;33m)\u001b[0m\u001b[1;33m:\u001b[0m\u001b[1;33m\u001b[0m\u001b[1;33m\u001b[0m\u001b[0m\n\u001b[0;32m   3751\u001b[0m                 \u001b[1;32mif\u001b[0m \u001b[0misinstance\u001b[0m\u001b[1;33m(\u001b[0m\u001b[0mvalue\u001b[0m\u001b[1;33m,\u001b[0m \u001b[0mlist\u001b[0m\u001b[1;33m)\u001b[0m \u001b[1;32mand\u001b[0m \u001b[0mlen\u001b[0m\u001b[1;33m(\u001b[0m\u001b[0mvalue\u001b[0m\u001b[1;33m)\u001b[0m \u001b[1;33m>\u001b[0m \u001b[1;36m0\u001b[0m\u001b[1;33m:\u001b[0m\u001b[1;33m\u001b[0m\u001b[1;33m\u001b[0m\u001b[0m\n",
      "\u001b[1;32mC:\\ProgramData\\Anaconda3\\lib\\site-packages\\pandas\\core\\internals\\construction.py\u001b[0m in \u001b[0;36msanitize_index\u001b[1;34m(data, index, copy)\u001b[0m\n\u001b[0;32m    610\u001b[0m \u001b[1;33m\u001b[0m\u001b[0m\n\u001b[0;32m    611\u001b[0m     \u001b[1;32mif\u001b[0m \u001b[0mlen\u001b[0m\u001b[1;33m(\u001b[0m\u001b[0mdata\u001b[0m\u001b[1;33m)\u001b[0m \u001b[1;33m!=\u001b[0m \u001b[0mlen\u001b[0m\u001b[1;33m(\u001b[0m\u001b[0mindex\u001b[0m\u001b[1;33m)\u001b[0m\u001b[1;33m:\u001b[0m\u001b[1;33m\u001b[0m\u001b[1;33m\u001b[0m\u001b[0m\n\u001b[1;32m--> 612\u001b[1;33m         \u001b[1;32mraise\u001b[0m \u001b[0mValueError\u001b[0m\u001b[1;33m(\u001b[0m\u001b[1;34m\"Length of values does not match length of index\"\u001b[0m\u001b[1;33m)\u001b[0m\u001b[1;33m\u001b[0m\u001b[1;33m\u001b[0m\u001b[0m\n\u001b[0m\u001b[0;32m    613\u001b[0m \u001b[1;33m\u001b[0m\u001b[0m\n\u001b[0;32m    614\u001b[0m     \u001b[1;32mif\u001b[0m \u001b[0misinstance\u001b[0m\u001b[1;33m(\u001b[0m\u001b[0mdata\u001b[0m\u001b[1;33m,\u001b[0m \u001b[0mABCIndexClass\u001b[0m\u001b[1;33m)\u001b[0m \u001b[1;32mand\u001b[0m \u001b[1;32mnot\u001b[0m \u001b[0mcopy\u001b[0m\u001b[1;33m:\u001b[0m\u001b[1;33m\u001b[0m\u001b[1;33m\u001b[0m\u001b[0m\n",
      "\u001b[1;31mValueError\u001b[0m: Length of values does not match length of index"
     ],
     "ename": "ValueError",
     "evalue": "Length of values does not match length of index",
     "output_type": "error"
    }
   ],
   "source": [
    "#nltk.download('all', halt_on_error = True)\n",
    "\n",
    "tokenizer = ToktokTokenizer()\n",
    "#number of processes to run in multiprocessing\n",
    "processors=16\n",
    "#number of observations\n",
    "size=len(df)\n",
    "#number of observations to normalize in each process\n",
    "iterSize=round(size/processors)\n",
    "#holds the processes\n",
    "processes=[]\n",
    "\n",
    "print('To process: ' + str(size))\n",
    " \n",
    "i=0\n",
    "\n",
    "#dfholder=[]\n",
    "parent_conn_holder=[]\n",
    "\n",
    "for i in range(0,processors):\n",
    "    start=i*iterSize\n",
    "    stop=start+iterSize\n",
    "    if(stop>size):\n",
    "        stop=size\n",
    "    #split df for parallel proc\n",
    "    dflist=df.iloc[start:stop]\n",
    "    # creating a pipe \n",
    "    parent_conn, child_conn = multiprocessing.Pipe() \n",
    "    p = Process(target=utils.multiprocNormalize, args=(dflist,child_conn,\"proc\"+str(i)))\n",
    "    #dfholder.append(utils.multiprocNormalize(dflist,\"proc\"+str(i)))\n",
    "    processes.append(p)\n",
    "    p.start()\n",
    "    parent_conn_holder.append(parent_conn)\n",
    "    #dflocal.head(10)\n",
    "\n",
    "for parent_conn in parent_conn_holder:\n",
    "    dfdb=parent_conn.recv()\n",
    "    writeToDatabase(dfdb)\n",
    "    del dfdb\n",
    "\n",
    "\n",
    "for p in processes:\n",
    "    p.join()\n",
    "\n",
    "\n",
    "   "
   ],
   "metadata": {
    "collapsed": false,
    "pycharm": {
     "name": "#%%\n",
     "is_executing": false
    }
   }
  },
  {
   "cell_type": "code",
   "execution_count": null,
   "outputs": [],
   "source": [
    "print('done')"
   ],
   "metadata": {
    "collapsed": false,
    "pycharm": {
     "name": "#%%\n"
    }
   }
  },
  {
   "cell_type": "code",
   "execution_count": 11,
   "outputs": [
    {
     "data": {
      "text/plain": "    overall  verified      reviewerID        asin          reviewerName  \\\n0       5.0      True  A24E3SXTC62LJI  7508492919      Claudia Valdivia   \n1       5.0      True  A269FLZCB4GIPV  7508492919           sarah ponce   \n7       5.0      True  A31OVFL91BCKXG  7508492919  Ashley Nicole Miller   \n11      5.0      True  A2ZB7KGUSBR9P3  7508492919              E. Bryce   \n14      5.0      True  A18U23JWTMQX5C  7508492919          KaitlynxO625   \n15      5.0      True  A1JQUCTFM4UKMQ  7508492919           M. Antillon   \n18      5.0      True  A29KSIE8BKYVQN  7508492919            Janine  B.   \n19      5.0      True  A2CQO0FORCTC2R  7508492919                 Sulli   \n21      5.0      True  A2ROMLP8COJ6JA  7508492919    Mary Beth Anderson   \n22      5.0      True  A23MRCVKI8M8OY  7508492919                  T...   \n25      5.0      True  A1TE996LYGSJYW  7508492919                 Ldiaz   \n28      5.0      True  A322P08DWO7GD0  7508492919                   AKR   \n29      5.0      True  A372K41F91T9CD  7508492919          teri illchen   \n32      5.0      True  A2KCKROPJ72AE3  7508492919         Doni Washburn   \n33      5.0      True  A26G0P1P4Q7DVE  7508492919                   CAF   \n34      5.0      True  A3HU46Z3Y8CMDT  7508492919               Adnoral   \n39      5.0      True  A22FTS797LWDIK  7508492919        Corinne Ubence   \n41      5.0      True   AG176YH633HXF  7508492919                  RENE   \n42      5.0      True  A1SAZP6P8VQ0E6  7508492919              Sunshine   \n43      5.0      True  A3K3I77ZWF65RO  7508492919             Christine   \n\n                                           reviewText  \\\n0   Looks even better in person. Be careful to not...   \n1   When you don't want to spend a whole lot of ca...   \n7   It is a very cute case. None of the jewels hav...   \n11  Another great product that my daughter she use...   \n14  Beautiful quality and outstanding product! Eve...   \n15  It is such a good case for a low price. I have...   \n18  Super durable and I get compliments on it dail...   \n19  I have used this case for a couple weeks & so ...   \n21  I chose this case because it is so beautiful. ...   \n22  Of all my cases this is the one that I have on...   \n25  here is another I love as well!!!, I am so hap...   \n28  This case is soo super pretty! This case may l...   \n29  This is a great case if you love the bling.  I...   \n32  Ive never had any problems with anything ... i...   \n33  BEAUTIFUL.  This instantly transforms your IPh...   \n34  It looks like I actually bedazzled my phone.  ...   \n39  It is so cute!  Love the bling and love the pi...   \n41  THIS IS A VERY PRETTY 4S CELL PHONE CASE ANS I...   \n42  I ordered this case for my daughter for Christ...   \n43  soooo cute! I got many complaints when I had t...   \n\n                                            summary  unixReviewTime  \\\n0               Can't stop won't stop looking at it      1407110400   \n1                                                 1      1392163200   \n7                                         Cute case      1389916800   \n11                        Bling bling for iPhone 4S      1382486400   \n14                    I can't stop using this case!      1378771200   \n15                                        I love it      1377648000   \n18                                        Good case      1370304000   \n19                                     very sparkly      1370217600   \n21                                        Beautiful      1367625600   \n22                                         pink bow      1366761600   \n25                         love this phone cover!!!      1365206400   \n28                                        BEAUTIFUL      1364256000   \n29                                       Love it...      1361923200   \n32                                             good      1361145600   \n33  3d BLING CRYSTAL BOW TRANSPARENT CAE FOR IPHONE      1360454400   \n34                                   Invisible case      1359763200   \n39                                  Love this case!      1358208000   \n41                                    4S PHONE CASE      1358035200   \n42                                      Loves it!!!      1357862400   \n43                                          so cute      1357776000   \n\n                                         Clean_Review vote Review_Time  Month  \\\n0   look even well person careful drop phone often...  NaN  2014-08-04      8   \n1   want spend whole lot cash want great deal shop...  NaN  2014-02-12      2   \n7   it cute case none jewel fall bow glue well com...  NaN  2014-01-17      1   \n11  another great product daughter use long time i...  NaN  2013-10-23     10   \n14  beautiful quality outstanding product everyone...  NaN  2013-09-10      9   \n15  it good case low price i right never problem b...  NaN  2013-08-28      8   \n18  super durable i get compliment daily i find on...  NaN  2013-06-04      6   \n19  i use case couple week far great little bling ...  NaN  2013-06-03      6   \n21  i choose case beautiful everyone like ask coul...  NaN  2013-05-04      5   \n22  case one i phone right i love love love fit gr...  NaN  2013-04-24      4   \n25  another i love well i happy phone cover i get ...  NaN  2013-04-06      4   \n28  case so super pretty case may look breakable s...  NaN  2013-03-26      3   \n29  great case love bling i get lot compliment i u...  NaN  2013-02-27      2   \n32  i never problem anything damage send new miss ...    2  2013-02-18      2   \n33  beautiful instantly transform iphone thing bea...  NaN  2013-02-10      2   \n34  it look like i actually bedazzle phone case we...  NaN  2013-02-02      2   \n39  it cute love bling love pink it cute case i ge...  NaN  2013-01-15      1   \n41       pretty cell phone case ans pretty thank rene  NaN  2013-01-13      1   \n42  i order case daughter christmas get iphone chr...  NaN  2013-01-11      1   \n43  sooo cute i get many complaint i cover i take ...  NaN  2013-01-10      1   \n\n    Year  \n0   2014  \n1   2014  \n7   2014  \n11  2013  \n14  2013  \n15  2013  \n18  2013  \n19  2013  \n21  2013  \n22  2013  \n25  2013  \n28  2013  \n29  2013  \n32  2013  \n33  2013  \n34  2013  \n39  2013  \n41  2013  \n42  2013  \n43  2013  ",
      "text/html": "<div>\n<style scoped>\n    .dataframe tbody tr th:only-of-type {\n        vertical-align: middle;\n    }\n\n    .dataframe tbody tr th {\n        vertical-align: top;\n    }\n\n    .dataframe thead th {\n        text-align: right;\n    }\n</style>\n<table border=\"1\" class=\"dataframe\">\n  <thead>\n    <tr style=\"text-align: right;\">\n      <th></th>\n      <th>overall</th>\n      <th>verified</th>\n      <th>reviewerID</th>\n      <th>asin</th>\n      <th>reviewerName</th>\n      <th>reviewText</th>\n      <th>summary</th>\n      <th>unixReviewTime</th>\n      <th>Clean_Review</th>\n      <th>vote</th>\n      <th>Review_Time</th>\n      <th>Month</th>\n      <th>Year</th>\n    </tr>\n  </thead>\n  <tbody>\n    <tr>\n      <th>0</th>\n      <td>5.0</td>\n      <td>True</td>\n      <td>A24E3SXTC62LJI</td>\n      <td>7508492919</td>\n      <td>Claudia Valdivia</td>\n      <td>Looks even better in person. Be careful to not...</td>\n      <td>Can't stop won't stop looking at it</td>\n      <td>1407110400</td>\n      <td>look even well person careful drop phone often...</td>\n      <td>NaN</td>\n      <td>2014-08-04</td>\n      <td>8</td>\n      <td>2014</td>\n    </tr>\n    <tr>\n      <th>1</th>\n      <td>5.0</td>\n      <td>True</td>\n      <td>A269FLZCB4GIPV</td>\n      <td>7508492919</td>\n      <td>sarah ponce</td>\n      <td>When you don't want to spend a whole lot of ca...</td>\n      <td>1</td>\n      <td>1392163200</td>\n      <td>want spend whole lot cash want great deal shop...</td>\n      <td>NaN</td>\n      <td>2014-02-12</td>\n      <td>2</td>\n      <td>2014</td>\n    </tr>\n    <tr>\n      <th>7</th>\n      <td>5.0</td>\n      <td>True</td>\n      <td>A31OVFL91BCKXG</td>\n      <td>7508492919</td>\n      <td>Ashley Nicole Miller</td>\n      <td>It is a very cute case. None of the jewels hav...</td>\n      <td>Cute case</td>\n      <td>1389916800</td>\n      <td>it cute case none jewel fall bow glue well com...</td>\n      <td>NaN</td>\n      <td>2014-01-17</td>\n      <td>1</td>\n      <td>2014</td>\n    </tr>\n    <tr>\n      <th>11</th>\n      <td>5.0</td>\n      <td>True</td>\n      <td>A2ZB7KGUSBR9P3</td>\n      <td>7508492919</td>\n      <td>E. Bryce</td>\n      <td>Another great product that my daughter she use...</td>\n      <td>Bling bling for iPhone 4S</td>\n      <td>1382486400</td>\n      <td>another great product daughter use long time i...</td>\n      <td>NaN</td>\n      <td>2013-10-23</td>\n      <td>10</td>\n      <td>2013</td>\n    </tr>\n    <tr>\n      <th>14</th>\n      <td>5.0</td>\n      <td>True</td>\n      <td>A18U23JWTMQX5C</td>\n      <td>7508492919</td>\n      <td>KaitlynxO625</td>\n      <td>Beautiful quality and outstanding product! Eve...</td>\n      <td>I can't stop using this case!</td>\n      <td>1378771200</td>\n      <td>beautiful quality outstanding product everyone...</td>\n      <td>NaN</td>\n      <td>2013-09-10</td>\n      <td>9</td>\n      <td>2013</td>\n    </tr>\n    <tr>\n      <th>15</th>\n      <td>5.0</td>\n      <td>True</td>\n      <td>A1JQUCTFM4UKMQ</td>\n      <td>7508492919</td>\n      <td>M. Antillon</td>\n      <td>It is such a good case for a low price. I have...</td>\n      <td>I love it</td>\n      <td>1377648000</td>\n      <td>it good case low price i right never problem b...</td>\n      <td>NaN</td>\n      <td>2013-08-28</td>\n      <td>8</td>\n      <td>2013</td>\n    </tr>\n    <tr>\n      <th>18</th>\n      <td>5.0</td>\n      <td>True</td>\n      <td>A29KSIE8BKYVQN</td>\n      <td>7508492919</td>\n      <td>Janine  B.</td>\n      <td>Super durable and I get compliments on it dail...</td>\n      <td>Good case</td>\n      <td>1370304000</td>\n      <td>super durable i get compliment daily i find on...</td>\n      <td>NaN</td>\n      <td>2013-06-04</td>\n      <td>6</td>\n      <td>2013</td>\n    </tr>\n    <tr>\n      <th>19</th>\n      <td>5.0</td>\n      <td>True</td>\n      <td>A2CQO0FORCTC2R</td>\n      <td>7508492919</td>\n      <td>Sulli</td>\n      <td>I have used this case for a couple weeks &amp; so ...</td>\n      <td>very sparkly</td>\n      <td>1370217600</td>\n      <td>i use case couple week far great little bling ...</td>\n      <td>NaN</td>\n      <td>2013-06-03</td>\n      <td>6</td>\n      <td>2013</td>\n    </tr>\n    <tr>\n      <th>21</th>\n      <td>5.0</td>\n      <td>True</td>\n      <td>A2ROMLP8COJ6JA</td>\n      <td>7508492919</td>\n      <td>Mary Beth Anderson</td>\n      <td>I chose this case because it is so beautiful. ...</td>\n      <td>Beautiful</td>\n      <td>1367625600</td>\n      <td>i choose case beautiful everyone like ask coul...</td>\n      <td>NaN</td>\n      <td>2013-05-04</td>\n      <td>5</td>\n      <td>2013</td>\n    </tr>\n    <tr>\n      <th>22</th>\n      <td>5.0</td>\n      <td>True</td>\n      <td>A23MRCVKI8M8OY</td>\n      <td>7508492919</td>\n      <td>T...</td>\n      <td>Of all my cases this is the one that I have on...</td>\n      <td>pink bow</td>\n      <td>1366761600</td>\n      <td>case one i phone right i love love love fit gr...</td>\n      <td>NaN</td>\n      <td>2013-04-24</td>\n      <td>4</td>\n      <td>2013</td>\n    </tr>\n    <tr>\n      <th>25</th>\n      <td>5.0</td>\n      <td>True</td>\n      <td>A1TE996LYGSJYW</td>\n      <td>7508492919</td>\n      <td>Ldiaz</td>\n      <td>here is another I love as well!!!, I am so hap...</td>\n      <td>love this phone cover!!!</td>\n      <td>1365206400</td>\n      <td>another i love well i happy phone cover i get ...</td>\n      <td>NaN</td>\n      <td>2013-04-06</td>\n      <td>4</td>\n      <td>2013</td>\n    </tr>\n    <tr>\n      <th>28</th>\n      <td>5.0</td>\n      <td>True</td>\n      <td>A322P08DWO7GD0</td>\n      <td>7508492919</td>\n      <td>AKR</td>\n      <td>This case is soo super pretty! This case may l...</td>\n      <td>BEAUTIFUL</td>\n      <td>1364256000</td>\n      <td>case so super pretty case may look breakable s...</td>\n      <td>NaN</td>\n      <td>2013-03-26</td>\n      <td>3</td>\n      <td>2013</td>\n    </tr>\n    <tr>\n      <th>29</th>\n      <td>5.0</td>\n      <td>True</td>\n      <td>A372K41F91T9CD</td>\n      <td>7508492919</td>\n      <td>teri illchen</td>\n      <td>This is a great case if you love the bling.  I...</td>\n      <td>Love it...</td>\n      <td>1361923200</td>\n      <td>great case love bling i get lot compliment i u...</td>\n      <td>NaN</td>\n      <td>2013-02-27</td>\n      <td>2</td>\n      <td>2013</td>\n    </tr>\n    <tr>\n      <th>32</th>\n      <td>5.0</td>\n      <td>True</td>\n      <td>A2KCKROPJ72AE3</td>\n      <td>7508492919</td>\n      <td>Doni Washburn</td>\n      <td>Ive never had any problems with anything ... i...</td>\n      <td>good</td>\n      <td>1361145600</td>\n      <td>i never problem anything damage send new miss ...</td>\n      <td>2</td>\n      <td>2013-02-18</td>\n      <td>2</td>\n      <td>2013</td>\n    </tr>\n    <tr>\n      <th>33</th>\n      <td>5.0</td>\n      <td>True</td>\n      <td>A26G0P1P4Q7DVE</td>\n      <td>7508492919</td>\n      <td>CAF</td>\n      <td>BEAUTIFUL.  This instantly transforms your IPh...</td>\n      <td>3d BLING CRYSTAL BOW TRANSPARENT CAE FOR IPHONE</td>\n      <td>1360454400</td>\n      <td>beautiful instantly transform iphone thing bea...</td>\n      <td>NaN</td>\n      <td>2013-02-10</td>\n      <td>2</td>\n      <td>2013</td>\n    </tr>\n    <tr>\n      <th>34</th>\n      <td>5.0</td>\n      <td>True</td>\n      <td>A3HU46Z3Y8CMDT</td>\n      <td>7508492919</td>\n      <td>Adnoral</td>\n      <td>It looks like I actually bedazzled my phone.  ...</td>\n      <td>Invisible case</td>\n      <td>1359763200</td>\n      <td>it look like i actually bedazzle phone case we...</td>\n      <td>NaN</td>\n      <td>2013-02-02</td>\n      <td>2</td>\n      <td>2013</td>\n    </tr>\n    <tr>\n      <th>39</th>\n      <td>5.0</td>\n      <td>True</td>\n      <td>A22FTS797LWDIK</td>\n      <td>7508492919</td>\n      <td>Corinne Ubence</td>\n      <td>It is so cute!  Love the bling and love the pi...</td>\n      <td>Love this case!</td>\n      <td>1358208000</td>\n      <td>it cute love bling love pink it cute case i ge...</td>\n      <td>NaN</td>\n      <td>2013-01-15</td>\n      <td>1</td>\n      <td>2013</td>\n    </tr>\n    <tr>\n      <th>41</th>\n      <td>5.0</td>\n      <td>True</td>\n      <td>AG176YH633HXF</td>\n      <td>7508492919</td>\n      <td>RENE</td>\n      <td>THIS IS A VERY PRETTY 4S CELL PHONE CASE ANS I...</td>\n      <td>4S PHONE CASE</td>\n      <td>1358035200</td>\n      <td>pretty cell phone case ans pretty thank rene</td>\n      <td>NaN</td>\n      <td>2013-01-13</td>\n      <td>1</td>\n      <td>2013</td>\n    </tr>\n    <tr>\n      <th>42</th>\n      <td>5.0</td>\n      <td>True</td>\n      <td>A1SAZP6P8VQ0E6</td>\n      <td>7508492919</td>\n      <td>Sunshine</td>\n      <td>I ordered this case for my daughter for Christ...</td>\n      <td>Loves it!!!</td>\n      <td>1357862400</td>\n      <td>i order case daughter christmas get iphone chr...</td>\n      <td>NaN</td>\n      <td>2013-01-11</td>\n      <td>1</td>\n      <td>2013</td>\n    </tr>\n    <tr>\n      <th>43</th>\n      <td>5.0</td>\n      <td>True</td>\n      <td>A3K3I77ZWF65RO</td>\n      <td>7508492919</td>\n      <td>Christine</td>\n      <td>soooo cute! I got many complaints when I had t...</td>\n      <td>so cute</td>\n      <td>1357776000</td>\n      <td>sooo cute i get many complaint i cover i take ...</td>\n      <td>NaN</td>\n      <td>2013-01-10</td>\n      <td>1</td>\n      <td>2013</td>\n    </tr>\n  </tbody>\n</table>\n</div>"
     },
     "metadata": {},
     "output_type": "execute_result",
     "execution_count": 11
    }
   ],
   "source": [
    "con1 = sqlite3.connect('./data/amazon_cellreviews.db')\n",
    "#check database\n",
    "sql = \" SELECT * FROM reviews where overall=2.0\"\n",
    "dfdb = pd.read_sql_query(sql, con1)\n",
    "con1.close()"
   ],
   "metadata": {
    "collapsed": false,
    "pycharm": {
     "name": "#%%\n",
     "is_executing": false
    }
   }
  },
  {
   "cell_type": "code",
   "execution_count": null,
   "outputs": [],
   "source": [
    "print('Total Rows: ' + str(len(dfdb)))\n",
    "print('Sample of processed dataset. Notice the column named Clean_Review');\n",
    "dfdb.head(20)"
   ],
   "metadata": {
    "collapsed": false,
    "pycharm": {
     "name": "#%%\n"
    }
   }
  }
 ],
 "metadata": {
  "kernelspec": {
   "display_name": "Python 3",
   "language": "python",
   "name": "python3"
  },
  "language_info": {
   "codemirror_mode": {
    "name": "ipython",
    "version": 2
   },
   "file_extension": ".py",
   "mimetype": "text/x-python",
   "name": "python",
   "nbconvert_exporter": "python",
   "pygments_lexer": "ipython2",
   "version": "2.7.6"
  },
  "pycharm": {
   "stem_cell": {
    "cell_type": "raw",
    "source": [],
    "metadata": {
     "collapsed": false
    }
   }
  }
 },
 "nbformat": 4,
 "nbformat_minor": 0
}