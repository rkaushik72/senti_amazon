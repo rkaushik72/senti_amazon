{
 "nbformat": 4,
 "nbformat_minor": 0,
 "metadata": {
  "kernelspec": {
   "display_name": "Python 3",
   "language": "python",
   "name": "python3"
  },
  "language_info": {
   "codemirror_mode": {
    "name": "ipython",
    "version": 2
   },
   "file_extension": ".py",
   "mimetype": "text/x-python",
   "name": "python",
   "nbconvert_exporter": "python",
   "pygments_lexer": "ipython2",
   "version": "2.7.6"
  },
  "pycharm": {
   "stem_cell": {
    "cell_type": "raw",
    "source": [],
    "metadata": {
     "collapsed": false
    }
   }
  },
  "colab": {
   "name": "Updated_data_exploration.ipynb",
   "provenance": [
    {
     "file_id": "https://github.com/rkaushik72/senti_amazon/blob/master/data_exploration.ipynb",
     "timestamp": 1575556660957
    }
   ],
   "collapsed_sections": []
  }
 },
 "cells": [
  {
   "cell_type": "markdown",
   "metadata": {
    "collapsed": false,
    "pycharm": {
     "name": "#%% md\n"
    },
    "id": "426DxniQDg2g",
    "colab_type": "text"
   },
   "source": [
    "## cellphone reviews at ...\n",
    "## data at http://deepyeti.ucsd.edu/jianmo/amazon/categoryFilesSmall/Cell_Phones_and_Accessories_5.json.gz\n"
   ]
  },
  {
   "cell_type": "code",
   "metadata": {
    "pycharm": {
     "name": "#%%\n",
     "is_executing": false
    },
    "id": "b7LQtX_HDg2k",
    "colab_type": "code",
    "colab": {}
   },
   "source": [
    "import json\n",
    "import pandas as pd\n",
    "import numpy as np\n",
    "import gzip\n",
    "import pickle\n",
    "\n",
    "PROCESSED_FILENAME= './data/amazon_reviews_processed_partA.pickle' \n",
    "\n"
   ],
   "execution_count": 0,
   "outputs": []
  },
  {
   "cell_type": "code",
   "execution_count": null,
   "outputs": [],
   "source": [
    "def readFromDisk():\n",
    "    with open(PROCESSED_FILENAME, \"rb\") as f:\n",
    "        dfread = pickle.load(f)\n",
    "        return dfread\n",
    "       \n",
    "        "
   ],
   "metadata": {
    "collapsed": false,
    "pycharm": {
     "name": "#%%\n"
    }
   }
  },
  {
   "cell_type": "code",
   "execution_count": null,
   "outputs": [],
   "source": [
    "#nltk.download('all', halt_on_error = True)\n",
    "\n",
    "df=readFromDisk()\n"
   ],
   "metadata": {
    "collapsed": false,
    "pycharm": {
     "name": "#%%\n"
    }
   }
  },
  {
   "cell_type": "code",
   "metadata": {
    "pycharm": {
     "name": "#%%\n",
     "is_executing": false
    },
    "id": "KLtO9aOSDg2x",
    "colab_type": "code",
    "outputId": "563d64a8-ad14-4638-e895-3a9c2f86e865",
    "executionInfo": {
     "status": "ok",
     "timestamp": 1575558133832,
     "user_tz": -240,
     "elapsed": 46909,
     "user": {
      "displayName": "pratik chandwani",
      "photoUrl": "https://lh3.googleusercontent.com/a-/AAuE7mDqW3wRt0KCUPkKoPIMa1Ou8HzQpEDnmS3cAOkQBg=s64",
      "userId": "09466863638936889667"
     }
    },
    "colab": {
     "base_uri": "https://localhost:8080/",
     "height": 34
    }
   },
   "source": [
    "#Pratik: Google Colab: Pulling the dataset from Google Drive\n",
    "#from google.colab import drive\n",
    "#drive.mount('/content/gdrive')\n",
    "#dfraw = getDF('gdrive/My Drive/Machine_Learning/cell_reviews_5core.json.gz')\n",
    "\n",
    "#Code to read the dataset from a local folder\n",
    "#dfraw = getDF('./data/cell_reviews_5core.json.gz')\n",
    "#metadfraw = getDF('./data/cell_reviews_meta.json.gz')\n"
   ],
   "execution_count": 4,
   "outputs": [
    {
     "output_type": "stream",
     "text": [
      "Drive already mounted at /content/gdrive; to attempt to forcibly remount, call drive.mount(\"/content/gdrive\", force_remount=True).\n"
     ],
     "name": "stdout"
    }
   ]
  },
  {
   "cell_type": "code",
   "metadata": {
    "pycharm": {
     "name": "#%%\n",
     "is_executing": false
    },
    "id": "GuDtArbxDg28",
    "colab_type": "code",
    "outputId": "e2b3572b-cf77-4e1d-ff17-1fc1c95264bf",
    "executionInfo": {
     "status": "ok",
     "timestamp": 1575558138100,
     "user_tz": -240,
     "elapsed": 51111,
     "user": {
      "displayName": "pratik chandwani",
      "photoUrl": "https://lh3.googleusercontent.com/a-/AAuE7mDqW3wRt0KCUPkKoPIMa1Ou8HzQpEDnmS3cAOkQBg=s64",
      "userId": "09466863638936889667"
     }
    },
    "colab": {
     "base_uri": "https://localhost:8080/",
     "height": 547
    }
   },
   "source": [
    "# take a peek at the data\n",
    "df.head()\n",
    "\n"
   ],
   "execution_count": 7,
   "outputs": [
    {
     "output_type": "execute_result",
     "data": {
      "text/html": [
       "<div>\n",
       "<style scoped>\n",
       "    .dataframe tbody tr th:only-of-type {\n",
       "        vertical-align: middle;\n",
       "    }\n",
       "\n",
       "    .dataframe tbody tr th {\n",
       "        vertical-align: top;\n",
       "    }\n",
       "\n",
       "    .dataframe thead th {\n",
       "        text-align: right;\n",
       "    }\n",
       "</style>\n",
       "<table border=\"1\" class=\"dataframe\">\n",
       "  <thead>\n",
       "    <tr style=\"text-align: right;\">\n",
       "      <th></th>\n",
       "      <th>overall</th>\n",
       "      <th>verified</th>\n",
       "      <th>reviewTime</th>\n",
       "      <th>reviewerID</th>\n",
       "      <th>asin</th>\n",
       "      <th>style</th>\n",
       "      <th>reviewerName</th>\n",
       "      <th>reviewText</th>\n",
       "      <th>summary</th>\n",
       "      <th>unixReviewTime</th>\n",
       "      <th>vote</th>\n",
       "      <th>image</th>\n",
       "      <th>Review_Time</th>\n",
       "      <th>Month</th>\n",
       "      <th>Year</th>\n",
       "    </tr>\n",
       "  </thead>\n",
       "  <tbody>\n",
       "    <tr>\n",
       "      <th>0</th>\n",
       "      <td>5.0</td>\n",
       "      <td>True</td>\n",
       "      <td>08 4, 2014</td>\n",
       "      <td>A24E3SXTC62LJI</td>\n",
       "      <td>7508492919</td>\n",
       "      <td>{'Color:': ' Bling'}</td>\n",
       "      <td>Claudia Valdivia</td>\n",
       "      <td>Looks even better in person. Be careful to not...</td>\n",
       "      <td>Can't stop won't stop looking at it</td>\n",
       "      <td>1407110400</td>\n",
       "      <td>NaN</td>\n",
       "      <td>NaN</td>\n",
       "      <td>2014-08-04</td>\n",
       "      <td>8</td>\n",
       "      <td>2014</td>\n",
       "    </tr>\n",
       "    <tr>\n",
       "      <th>1</th>\n",
       "      <td>5.0</td>\n",
       "      <td>True</td>\n",
       "      <td>02 12, 2014</td>\n",
       "      <td>A269FLZCB4GIPV</td>\n",
       "      <td>7508492919</td>\n",
       "      <td>NaN</td>\n",
       "      <td>sarah ponce</td>\n",
       "      <td>When you don't want to spend a whole lot of ca...</td>\n",
       "      <td>1</td>\n",
       "      <td>1392163200</td>\n",
       "      <td>NaN</td>\n",
       "      <td>NaN</td>\n",
       "      <td>2014-02-12</td>\n",
       "      <td>2</td>\n",
       "      <td>2014</td>\n",
       "    </tr>\n",
       "    <tr>\n",
       "      <th>7</th>\n",
       "      <td>5.0</td>\n",
       "      <td>True</td>\n",
       "      <td>01 17, 2014</td>\n",
       "      <td>A31OVFL91BCKXG</td>\n",
       "      <td>7508492919</td>\n",
       "      <td>NaN</td>\n",
       "      <td>Ashley Nicole Miller</td>\n",
       "      <td>It is a very cute case. None of the jewels hav...</td>\n",
       "      <td>Cute case</td>\n",
       "      <td>1389916800</td>\n",
       "      <td>NaN</td>\n",
       "      <td>NaN</td>\n",
       "      <td>2014-01-17</td>\n",
       "      <td>1</td>\n",
       "      <td>2014</td>\n",
       "    </tr>\n",
       "    <tr>\n",
       "      <th>11</th>\n",
       "      <td>5.0</td>\n",
       "      <td>True</td>\n",
       "      <td>10 23, 2013</td>\n",
       "      <td>A2ZB7KGUSBR9P3</td>\n",
       "      <td>7508492919</td>\n",
       "      <td>NaN</td>\n",
       "      <td>E. Bryce</td>\n",
       "      <td>Another great product that my daughter she use...</td>\n",
       "      <td>Bling bling for iPhone 4S</td>\n",
       "      <td>1382486400</td>\n",
       "      <td>NaN</td>\n",
       "      <td>NaN</td>\n",
       "      <td>2013-10-23</td>\n",
       "      <td>10</td>\n",
       "      <td>2013</td>\n",
       "    </tr>\n",
       "    <tr>\n",
       "      <th>14</th>\n",
       "      <td>5.0</td>\n",
       "      <td>True</td>\n",
       "      <td>09 10, 2013</td>\n",
       "      <td>A18U23JWTMQX5C</td>\n",
       "      <td>7508492919</td>\n",
       "      <td>NaN</td>\n",
       "      <td>KaitlynxO625</td>\n",
       "      <td>Beautiful quality and outstanding product! Eve...</td>\n",
       "      <td>I can't stop using this case!</td>\n",
       "      <td>1378771200</td>\n",
       "      <td>NaN</td>\n",
       "      <td>NaN</td>\n",
       "      <td>2013-09-10</td>\n",
       "      <td>9</td>\n",
       "      <td>2013</td>\n",
       "    </tr>\n",
       "  </tbody>\n",
       "</table>\n",
       "</div>"
      ],
      "text/plain": [
       "    overall  verified   reviewTime  ... Review_Time Month  Year\n",
       "0       5.0      True   08 4, 2014  ...  2014-08-04     8  2014\n",
       "1       5.0      True  02 12, 2014  ...  2014-02-12     2  2014\n",
       "7       5.0      True  01 17, 2014  ...  2014-01-17     1  2014\n",
       "11      5.0      True  10 23, 2013  ...  2013-10-23    10  2013\n",
       "14      5.0      True  09 10, 2013  ...  2013-09-10     9  2013\n",
       "\n",
       "[5 rows x 15 columns]"
      ]
     },
     "metadata": {
      "tags": []
     },
     "execution_count": 7
    }
   ]
  },
  {
   "cell_type": "code",
   "metadata": {
    "pycharm": {
     "name": "#%%\n",
     "is_executing": false
    },
    "id": "0zzbnQ7FDg2-",
    "colab_type": "code",
    "outputId": "56db5464-1f5e-4cf8-8ff5-eb1b564366b2",
    "executionInfo": {
     "status": "ok",
     "timestamp": 1575558138108,
     "user_tz": -240,
     "elapsed": 51099,
     "user": {
      "displayName": "pratik chandwani",
      "photoUrl": "https://lh3.googleusercontent.com/a-/AAuE7mDqW3wRt0KCUPkKoPIMa1Ou8HzQpEDnmS3cAOkQBg=s64",
      "userId": "09466863638936889667"
     }
    },
    "colab": {
     "base_uri": "https://localhost:8080/",
     "height": 357
    }
   },
   "source": [
    "# take a peek at the data\n",
    "df.info()\n",
    "\n"
   ],
   "execution_count": 8,
   "outputs": [
    {
     "output_type": "stream",
     "text": [
      "<class 'pandas.core.frame.DataFrame'>\n",
      "Int64Index: 25000 entries, 0 to 52074\n",
      "Data columns (total 15 columns):\n",
      "overall           25000 non-null float64\n",
      "verified          25000 non-null bool\n",
      "reviewTime        25000 non-null object\n",
      "reviewerID        25000 non-null object\n",
      "asin              25000 non-null object\n",
      "style             7265 non-null object\n",
      "reviewerName      24996 non-null object\n",
      "reviewText        24999 non-null object\n",
      "summary           24997 non-null object\n",
      "unixReviewTime    25000 non-null int64\n",
      "vote              3910 non-null object\n",
      "image             181 non-null object\n",
      "Review_Time       25000 non-null datetime64[ns]\n",
      "Month             25000 non-null int64\n",
      "Year              25000 non-null int64\n",
      "dtypes: bool(1), datetime64[ns](1), float64(1), int64(3), object(9)\n",
      "memory usage: 2.9+ MB\n"
     ],
     "name": "stdout"
    }
   ]
  },
  {
   "cell_type": "code",
   "metadata": {
    "pycharm": {
     "name": "#%%\n",
     "is_executing": false
    },
    "id": "dFv1yOK2Dg3C",
    "colab_type": "code",
    "outputId": "e289856f-2bf1-48c4-daf3-62cd611593c0",
    "executionInfo": {
     "status": "ok",
     "timestamp": 1575558138116,
     "user_tz": -240,
     "elapsed": 51088,
     "user": {
      "displayName": "pratik chandwani",
      "photoUrl": "https://lh3.googleusercontent.com/a-/AAuE7mDqW3wRt0KCUPkKoPIMa1Ou8HzQpEDnmS3cAOkQBg=s64",
      "userId": "09466863638936889667"
     }
    },
    "colab": {
     "base_uri": "https://localhost:8080/",
     "height": 576
    }
   },
   "source": [
    "#count of reviews each year\n",
    "yearly=df.groupby(['Year'])['reviewerID'].count().reset_index()\n",
    "#change name of column\n",
    "yearly=yearly.rename(columns={'reviewerID': 'Number_Of_Reviews'})\n",
    "yearly"
   ],
   "execution_count": 9,
   "outputs": [
    {
     "output_type": "execute_result",
     "data": {
      "text/html": [
       "<div>\n",
       "<style scoped>\n",
       "    .dataframe tbody tr th:only-of-type {\n",
       "        vertical-align: middle;\n",
       "    }\n",
       "\n",
       "    .dataframe tbody tr th {\n",
       "        vertical-align: top;\n",
       "    }\n",
       "\n",
       "    .dataframe thead th {\n",
       "        text-align: right;\n",
       "    }\n",
       "</style>\n",
       "<table border=\"1\" class=\"dataframe\">\n",
       "  <thead>\n",
       "    <tr style=\"text-align: right;\">\n",
       "      <th></th>\n",
       "      <th>Year</th>\n",
       "      <th>Number_Of_Reviews</th>\n",
       "    </tr>\n",
       "  </thead>\n",
       "  <tbody>\n",
       "    <tr>\n",
       "      <th>0</th>\n",
       "      <td>2002</td>\n",
       "      <td>2</td>\n",
       "    </tr>\n",
       "    <tr>\n",
       "      <th>1</th>\n",
       "      <td>2003</td>\n",
       "      <td>16</td>\n",
       "    </tr>\n",
       "    <tr>\n",
       "      <th>2</th>\n",
       "      <td>2004</td>\n",
       "      <td>41</td>\n",
       "    </tr>\n",
       "    <tr>\n",
       "      <th>3</th>\n",
       "      <td>2005</td>\n",
       "      <td>127</td>\n",
       "    </tr>\n",
       "    <tr>\n",
       "      <th>4</th>\n",
       "      <td>2006</td>\n",
       "      <td>309</td>\n",
       "    </tr>\n",
       "    <tr>\n",
       "      <th>5</th>\n",
       "      <td>2007</td>\n",
       "      <td>654</td>\n",
       "    </tr>\n",
       "    <tr>\n",
       "      <th>6</th>\n",
       "      <td>2008</td>\n",
       "      <td>1453</td>\n",
       "    </tr>\n",
       "    <tr>\n",
       "      <th>7</th>\n",
       "      <td>2009</td>\n",
       "      <td>1665</td>\n",
       "    </tr>\n",
       "    <tr>\n",
       "      <th>8</th>\n",
       "      <td>2010</td>\n",
       "      <td>1719</td>\n",
       "    </tr>\n",
       "    <tr>\n",
       "      <th>9</th>\n",
       "      <td>2011</td>\n",
       "      <td>2423</td>\n",
       "    </tr>\n",
       "    <tr>\n",
       "      <th>10</th>\n",
       "      <td>2012</td>\n",
       "      <td>2879</td>\n",
       "    </tr>\n",
       "    <tr>\n",
       "      <th>11</th>\n",
       "      <td>2013</td>\n",
       "      <td>4527</td>\n",
       "    </tr>\n",
       "    <tr>\n",
       "      <th>12</th>\n",
       "      <td>2014</td>\n",
       "      <td>4211</td>\n",
       "    </tr>\n",
       "    <tr>\n",
       "      <th>13</th>\n",
       "      <td>2015</td>\n",
       "      <td>2901</td>\n",
       "    </tr>\n",
       "    <tr>\n",
       "      <th>14</th>\n",
       "      <td>2016</td>\n",
       "      <td>1350</td>\n",
       "    </tr>\n",
       "    <tr>\n",
       "      <th>15</th>\n",
       "      <td>2017</td>\n",
       "      <td>628</td>\n",
       "    </tr>\n",
       "    <tr>\n",
       "      <th>16</th>\n",
       "      <td>2018</td>\n",
       "      <td>95</td>\n",
       "    </tr>\n",
       "  </tbody>\n",
       "</table>\n",
       "</div>"
      ],
      "text/plain": [
       "    Year  Number_Of_Reviews\n",
       "0   2002                  2\n",
       "1   2003                 16\n",
       "2   2004                 41\n",
       "3   2005                127\n",
       "4   2006                309\n",
       "5   2007                654\n",
       "6   2008               1453\n",
       "7   2009               1665\n",
       "8   2010               1719\n",
       "9   2011               2423\n",
       "10  2012               2879\n",
       "11  2013               4527\n",
       "12  2014               4211\n",
       "13  2015               2901\n",
       "14  2016               1350\n",
       "15  2017                628\n",
       "16  2018                 95"
      ]
     },
     "metadata": {
      "tags": []
     },
     "execution_count": 9
    }
   ]
  },
  {
   "cell_type": "code",
   "metadata": {
    "pycharm": {
     "name": "#%%\n",
     "is_executing": false
    },
    "id": "ZNqx3_dgDg3F",
    "colab_type": "code",
    "outputId": "8bc87dc1-8bb3-4e11-ab7b-f926dbe81f3f",
    "executionInfo": {
     "status": "ok",
     "timestamp": 1575558138700,
     "user_tz": -240,
     "elapsed": 51649,
     "user": {
      "displayName": "pratik chandwani",
      "photoUrl": "https://lh3.googleusercontent.com/a-/AAuE7mDqW3wRt0KCUPkKoPIMa1Ou8HzQpEDnmS3cAOkQBg=s64",
      "userId": "09466863638936889667"
     }
    },
    "colab": {
     "base_uri": "https://localhost:8080/",
     "height": 295
    }
   },
   "source": [
    "#plot number of reviews by year\n",
    "yearly.plot(x=\"Year\",y=\"Number_Of_Reviews\",kind=\"line\",title=\"# Reviews by Year\")\n",
    "\n",
    "import matplotlib.pyplot as plt\n",
    "plt.show()\n",
    "\n"
   ],
   "execution_count": 10,
   "outputs": [
    {
     "output_type": "display_data",
     "data": {
      "image/png": "[encoded data removed]",
      "text/plain": [
       "<Figure size 432x288 with 1 Axes>"
      ]
     },
     "metadata": {
      "tags": []
     }
    }
   ]
  },
  {
   "cell_type": "code",
   "metadata": {
    "pycharm": {
     "name": "#%%\n",
     "is_executing": false
    },
    "id": "6R7LD-ZYDg3I",
    "colab_type": "code",
    "outputId": "4ff26e5b-82a4-46cf-e58e-16f78d67835f",
    "executionInfo": {
     "status": "ok",
     "timestamp": 1575558138702,
     "user_tz": -240,
     "elapsed": 51620,
     "user": {
      "displayName": "pratik chandwani",
      "photoUrl": "https://lh3.googleusercontent.com/a-/AAuE7mDqW3wRt0KCUPkKoPIMa1Ou8HzQpEDnmS3cAOkQBg=s64",
      "userId": "09466863638936889667"
     }
    },
    "colab": {
     "base_uri": "https://localhost:8080/",
     "height": 340
    }
   },
   "source": [
    "#number of reviews by month\n",
    "monthly=df.groupby(['Month'])['reviewerID'].count().reset_index()\n",
    "# Replacing digits of 'Month' column in 'Monthly' dataframe with words using 'Calendar' library\n",
    "\n",
    "import calendar\n",
    "monthly['Month'] = monthly['Month'].apply(lambda x: calendar.month_name[x])\n",
    "monthly=monthly.rename(columns={'reviewerID':'Number_of_Reviews'})\n",
    "monthly\n",
    "#barplot\n",
    "monthly.plot(x=\"Month\",y=\"Number_of_Reviews\",kind=\"bar\",title=\"# Reviews Monhtly\")\n",
    "plt.show()\n"
   ],
   "execution_count": 11,
   "outputs": [
    {
     "output_type": "display_data",
     "data": {
      "image/png": "[encoded data removed]",
      "text/plain": [
       "<Figure size 432x288 with 1 Axes>"
      ]
     },
     "metadata": {
      "tags": []
     }
    }
   ]
  },
  {
   "cell_type": "code",
   "metadata": {
    "pycharm": {
     "name": "#%%\n",
     "is_executing": false
    },
    "id": "womZjJenDg3L",
    "colab_type": "code",
    "outputId": "c8c606b2-1500-4bc0-882e-fb9cb571a0e0",
    "executionInfo": {
     "status": "ok",
     "timestamp": 1575558138703,
     "user_tz": -240,
     "elapsed": 51590,
     "user": {
      "displayName": "pratik chandwani",
      "photoUrl": "https://lh3.googleusercontent.com/a-/AAuE7mDqW3wRt0KCUPkKoPIMa1Ou8HzQpEDnmS3cAOkQBg=s64",
      "userId": "09466863638936889667"
     }
    },
    "colab": {
     "base_uri": "https://localhost:8080/",
     "height": 204
    }
   },
   "source": [
    "#AVERAGE OVERALL RATINGS OVER THE YEARS (1999-2014)\n",
    "\n",
    "Yearly_Avg_Rating=df.groupby(['Year'])['overall'].mean().reset_index()\n",
    "Yearly_Avg_Rating['Moving_Average']=Yearly_Avg_Rating['overall'].rolling(window=3).mean()\n",
    "Yearly_Avg_Rating.head()\n",
    "\n"
   ],
   "execution_count": 12,
   "outputs": [
    {
     "output_type": "execute_result",
     "data": {
      "text/html": [
       "<div>\n",
       "<style scoped>\n",
       "    .dataframe tbody tr th:only-of-type {\n",
       "        vertical-align: middle;\n",
       "    }\n",
       "\n",
       "    .dataframe tbody tr th {\n",
       "        vertical-align: top;\n",
       "    }\n",
       "\n",
       "    .dataframe thead th {\n",
       "        text-align: right;\n",
       "    }\n",
       "</style>\n",
       "<table border=\"1\" class=\"dataframe\">\n",
       "  <thead>\n",
       "    <tr style=\"text-align: right;\">\n",
       "      <th></th>\n",
       "      <th>Year</th>\n",
       "      <th>overall</th>\n",
       "      <th>Moving_Average</th>\n",
       "    </tr>\n",
       "  </thead>\n",
       "  <tbody>\n",
       "    <tr>\n",
       "      <th>0</th>\n",
       "      <td>2002</td>\n",
       "      <td>4.500000</td>\n",
       "      <td>NaN</td>\n",
       "    </tr>\n",
       "    <tr>\n",
       "      <th>1</th>\n",
       "      <td>2003</td>\n",
       "      <td>3.812500</td>\n",
       "      <td>NaN</td>\n",
       "    </tr>\n",
       "    <tr>\n",
       "      <th>2</th>\n",
       "      <td>2004</td>\n",
       "      <td>3.682927</td>\n",
       "      <td>3.998476</td>\n",
       "    </tr>\n",
       "    <tr>\n",
       "      <th>3</th>\n",
       "      <td>2005</td>\n",
       "      <td>3.440945</td>\n",
       "      <td>3.645457</td>\n",
       "    </tr>\n",
       "    <tr>\n",
       "      <th>4</th>\n",
       "      <td>2006</td>\n",
       "      <td>3.540453</td>\n",
       "      <td>3.554775</td>\n",
       "    </tr>\n",
       "  </tbody>\n",
       "</table>\n",
       "</div>"
      ],
      "text/plain": [
       "   Year   overall  Moving_Average\n",
       "0  2002  4.500000             NaN\n",
       "1  2003  3.812500             NaN\n",
       "2  2004  3.682927        3.998476\n",
       "3  2005  3.440945        3.645457\n",
       "4  2006  3.540453        3.554775"
      ]
     },
     "metadata": {
      "tags": []
     },
     "execution_count": 12
    }
   ]
  },
  {
   "cell_type": "code",
   "metadata": {
    "pycharm": {
     "name": "#%%\n",
     "is_executing": false
    },
    "id": "mrBG8dR1Dg3Q",
    "colab_type": "code",
    "colab": {
     "base_uri": "https://localhost:8080/",
     "height": 311
    },
    "outputId": "34dadfa7-ea43-43aa-d18b-601864a75ae4",
    "executionInfo": {
     "status": "ok",
     "timestamp": 1575558139470,
     "user_tz": -240,
     "elapsed": 52332,
     "user": {
      "displayName": "pratik chandwani",
      "photoUrl": "https://lh3.googleusercontent.com/a-/AAuE7mDqW3wRt0KCUPkKoPIMa1Ou8HzQpEDnmS3cAOkQBg=s64",
      "userId": "09466863638936889667"
     }
    }
   },
   "source": [
    "#Plot Bar Chart Plot for average overall ratings over the years\n",
    "Yearly_Avg_Rating.plot(x=\"Year\",y=[\"overall\",\"Moving_Average\"],kind=\"bar\",title=\"AVERAGE OVERALL RATINGS OVER THE YEARS\")\n",
    "plt.show()"
   ],
   "execution_count": 13,
   "outputs": [
    {
     "output_type": "display_data",
     "data": {
      "image/png": "[encoded data removed]",
      "text/plain": [
       "<Figure size 432x288 with 1 Axes>"
      ]
     },
     "metadata": {
      "tags": []
     }
    }
   ]
  },
  {
   "cell_type": "code",
   "metadata": {
    "pycharm": {
     "name": "#%%\n",
     "is_executing": false
    },
    "id": "rAFY4v57Dg3W",
    "colab_type": "code",
    "colab": {
     "base_uri": "https://localhost:8080/",
     "height": 204
    },
    "outputId": "8d7f28ff-ff1b-4447-debb-116f80b95673",
    "executionInfo": {
     "status": "ok",
     "timestamp": 1575558139472,
     "user_tz": -240,
     "elapsed": 52300,
     "user": {
      "displayName": "pratik chandwani",
      "photoUrl": "https://lh3.googleusercontent.com/a-/AAuE7mDqW3wRt0KCUPkKoPIMa1Ou8HzQpEDnmS3cAOkQBg=s64",
      "userId": "09466863638936889667"
     }
    }
   },
   "source": [
    "#DISTRIBUTUTION OF LENGTH OF REVIEWS ON AMAZON\n",
    "Review_Length=df[['reviewerID','reviewText']].fillna(\"\")\n",
    "# Word count\n",
    "Review_Length['Word_Length']=Review_Length['reviewText'].apply(lambda x: len(x.split()))\n",
    "# character count\n",
    "Review_Length['Character_Length']=Review_Length['reviewText'].apply(lambda x: len(x))\n",
    "Review_Length.head()"
   ],
   "execution_count": 14,
   "outputs": [
    {
     "output_type": "execute_result",
     "data": {
      "text/html": [
       "<div>\n",
       "<style scoped>\n",
       "    .dataframe tbody tr th:only-of-type {\n",
       "        vertical-align: middle;\n",
       "    }\n",
       "\n",
       "    .dataframe tbody tr th {\n",
       "        vertical-align: top;\n",
       "    }\n",
       "\n",
       "    .dataframe thead th {\n",
       "        text-align: right;\n",
       "    }\n",
       "</style>\n",
       "<table border=\"1\" class=\"dataframe\">\n",
       "  <thead>\n",
       "    <tr style=\"text-align: right;\">\n",
       "      <th></th>\n",
       "      <th>reviewerID</th>\n",
       "      <th>reviewerName</th>\n",
       "      <th>reviewText</th>\n",
       "      <th>Word_Length</th>\n",
       "      <th>Character_Length</th>\n",
       "    </tr>\n",
       "  </thead>\n",
       "  <tbody>\n",
       "    <tr>\n",
       "      <th>0</th>\n",
       "      <td>A24E3SXTC62LJI</td>\n",
       "      <td>Claudia Valdivia</td>\n",
       "      <td>Looks even better in person. Be careful to not...</td>\n",
       "      <td>49</td>\n",
       "      <td>271</td>\n",
       "    </tr>\n",
       "    <tr>\n",
       "      <th>1</th>\n",
       "      <td>A269FLZCB4GIPV</td>\n",
       "      <td>sarah ponce</td>\n",
       "      <td>When you don't want to spend a whole lot of ca...</td>\n",
       "      <td>22</td>\n",
       "      <td>102</td>\n",
       "    </tr>\n",
       "    <tr>\n",
       "      <th>7</th>\n",
       "      <td>A31OVFL91BCKXG</td>\n",
       "      <td>Ashley Nicole Miller</td>\n",
       "      <td>It is a very cute case. None of the jewels hav...</td>\n",
       "      <td>71</td>\n",
       "      <td>327</td>\n",
       "    </tr>\n",
       "    <tr>\n",
       "      <th>11</th>\n",
       "      <td>A2ZB7KGUSBR9P3</td>\n",
       "      <td>E. Bryce</td>\n",
       "      <td>Another great product that my daughter she use...</td>\n",
       "      <td>25</td>\n",
       "      <td>128</td>\n",
       "    </tr>\n",
       "    <tr>\n",
       "      <th>14</th>\n",
       "      <td>A18U23JWTMQX5C</td>\n",
       "      <td>KaitlynxO625</td>\n",
       "      <td>Beautiful quality and outstanding product! Eve...</td>\n",
       "      <td>23</td>\n",
       "      <td>133</td>\n",
       "    </tr>\n",
       "  </tbody>\n",
       "</table>\n",
       "</div>"
      ],
      "text/plain": [
       "        reviewerID          reviewerName  ... Word_Length  Character_Length\n",
       "0   A24E3SXTC62LJI      Claudia Valdivia  ...          49               271\n",
       "1   A269FLZCB4GIPV           sarah ponce  ...          22               102\n",
       "7   A31OVFL91BCKXG  Ashley Nicole Miller  ...          71               327\n",
       "11  A2ZB7KGUSBR9P3              E. Bryce  ...          25               128\n",
       "14  A18U23JWTMQX5C          KaitlynxO625  ...          23               133\n",
       "\n",
       "[5 rows x 5 columns]"
      ]
     },
     "metadata": {
      "tags": []
     },
     "execution_count": 14
    }
   ]
  },
  {
   "cell_type": "code",
   "metadata": {
    "pycharm": {
     "name": "#%%\n",
     "is_executing": false
    },
    "id": "lS1lCOT-Dg3Y",
    "colab_type": "code",
    "colab": {
     "base_uri": "https://localhost:8080/",
     "height": 204
    },
    "outputId": "7ef0864a-5713-4817-9436-532aab38eea0",
    "executionInfo": {
     "status": "ok",
     "timestamp": 1575558139473,
     "user_tz": -240,
     "elapsed": 52279,
     "user": {
      "displayName": "pratik chandwani",
      "photoUrl": "https://lh3.googleusercontent.com/a-/AAuE7mDqW3wRt0KCUPkKoPIMa1Ou8HzQpEDnmS3cAOkQBg=s64",
      "userId": "09466863638936889667"
     }
    }
   },
   "source": [
    "Char_Review_Length=Review_Length.groupby(pd.cut(Review_Length.Character_Length,np.arange(0, 1501, 100))).count()\n",
    "Char_Review_Length=Char_Review_Length.rename(columns={'Character_Length':'Count'})\n",
    "result_Char_Review_Length=Char_Review_Length.reset_index()\n",
    "\n",
    "Word_Review_Length=Review_Length.groupby(pd.cut(Review_Length.Word_Length,np.arange(0, 801, 100))).count()\n",
    "Word_Review_Length=Word_Review_Length.rename(columns={'Word_Length':'Count'})\n",
    "result_Word_Review_Length=Word_Review_Length.reset_index()\n",
    "\n",
    "result_Char_Review_Length[[\"Character_Length\",\"Count\"]].head()"
   ],
   "execution_count": 15,
   "outputs": [
    {
     "output_type": "execute_result",
     "data": {
      "text/html": [
       "<div>\n",
       "<style scoped>\n",
       "    .dataframe tbody tr th:only-of-type {\n",
       "        vertical-align: middle;\n",
       "    }\n",
       "\n",
       "    .dataframe tbody tr th {\n",
       "        vertical-align: top;\n",
       "    }\n",
       "\n",
       "    .dataframe thead th {\n",
       "        text-align: right;\n",
       "    }\n",
       "</style>\n",
       "<table border=\"1\" class=\"dataframe\">\n",
       "  <thead>\n",
       "    <tr style=\"text-align: right;\">\n",
       "      <th></th>\n",
       "      <th>Character_Length</th>\n",
       "      <th>Count</th>\n",
       "    </tr>\n",
       "  </thead>\n",
       "  <tbody>\n",
       "    <tr>\n",
       "      <th>0</th>\n",
       "      <td>(0, 100]</td>\n",
       "      <td>5315</td>\n",
       "    </tr>\n",
       "    <tr>\n",
       "      <th>1</th>\n",
       "      <td>(100, 200]</td>\n",
       "      <td>6332</td>\n",
       "    </tr>\n",
       "    <tr>\n",
       "      <th>2</th>\n",
       "      <td>(200, 300]</td>\n",
       "      <td>3246</td>\n",
       "    </tr>\n",
       "    <tr>\n",
       "      <th>3</th>\n",
       "      <td>(300, 400]</td>\n",
       "      <td>2163</td>\n",
       "    </tr>\n",
       "    <tr>\n",
       "      <th>4</th>\n",
       "      <td>(400, 500]</td>\n",
       "      <td>1528</td>\n",
       "    </tr>\n",
       "  </tbody>\n",
       "</table>\n",
       "</div>"
      ],
      "text/plain": [
       "  Character_Length  Count\n",
       "0         (0, 100]   5315\n",
       "1       (100, 200]   6332\n",
       "2       (200, 300]   3246\n",
       "3       (300, 400]   2163\n",
       "4       (400, 500]   1528"
      ]
     },
     "metadata": {
      "tags": []
     },
     "execution_count": 15
    }
   ]
  },
  {
   "cell_type": "code",
   "metadata": {
    "pycharm": {
     "name": "#%%\n",
     "is_executing": false
    },
    "id": "UXouww3HDg3d",
    "colab_type": "code",
    "colab": {
     "base_uri": "https://localhost:8080/",
     "height": 351
    },
    "outputId": "b8648751-9f5d-4f27-a8d7-53f143ec8fae",
    "executionInfo": {
     "status": "ok",
     "timestamp": 1575558140181,
     "user_tz": -240,
     "elapsed": 52966,
     "user": {
      "displayName": "pratik chandwani",
      "photoUrl": "https://lh3.googleusercontent.com/a-/AAuE7mDqW3wRt0KCUPkKoPIMa1Ou8HzQpEDnmS3cAOkQBg=s64",
      "userId": "09466863638936889667"
     }
    }
   },
   "source": [
    "#Bar Plot for distribution of Length of reviews on Amazon\n",
    "result_Char_Review_Length.plot(x=\"Character_Length\",y=\"Count\",kind=\"bar\",title=\"Distribution of Character Length\")\n",
    "plt.show()"
   ],
   "execution_count": 16,
   "outputs": [
    {
     "output_type": "display_data",
     "data": {
      "image/png": "[encoded data removed]",
      "text/plain": [
       "<Figure size 432x288 with 1 Axes>"
      ]
     },
     "metadata": {
      "tags": []
     }
    }
   ]
  },
  {
   "cell_type": "code",
   "metadata": {
    "id": "8zR710K4iy2O",
    "colab_type": "code",
    "colab": {
     "base_uri": "https://localhost:8080/",
     "height": 204
    },
    "outputId": "e4e7c057-465c-458a-b7c1-73f4b0cdeb27",
    "executionInfo": {
     "status": "ok",
     "timestamp": 1575558140183,
     "user_tz": -240,
     "elapsed": 52935,
     "user": {
      "displayName": "pratik chandwani",
      "photoUrl": "https://lh3.googleusercontent.com/a-/AAuE7mDqW3wRt0KCUPkKoPIMa1Ou8HzQpEDnmS3cAOkQBg=s64",
      "userId": "09466863638936889667"
     }
    }
   },
   "source": [
    "result_Word_Review_Length[[\"Word_Length\",\"Count\"]].head()"
   ],
   "execution_count": 17,
   "outputs": [
    {
     "output_type": "execute_result",
     "data": {
      "text/html": [
       "<div>\n",
       "<style scoped>\n",
       "    .dataframe tbody tr th:only-of-type {\n",
       "        vertical-align: middle;\n",
       "    }\n",
       "\n",
       "    .dataframe tbody tr th {\n",
       "        vertical-align: top;\n",
       "    }\n",
       "\n",
       "    .dataframe thead th {\n",
       "        text-align: right;\n",
       "    }\n",
       "</style>\n",
       "<table border=\"1\" class=\"dataframe\">\n",
       "  <thead>\n",
       "    <tr style=\"text-align: right;\">\n",
       "      <th></th>\n",
       "      <th>Word_Length</th>\n",
       "      <th>Count</th>\n",
       "    </tr>\n",
       "  </thead>\n",
       "  <tbody>\n",
       "    <tr>\n",
       "      <th>0</th>\n",
       "      <td>(0, 100]</td>\n",
       "      <td>19000</td>\n",
       "    </tr>\n",
       "    <tr>\n",
       "      <th>1</th>\n",
       "      <td>(100, 200]</td>\n",
       "      <td>3468</td>\n",
       "    </tr>\n",
       "    <tr>\n",
       "      <th>2</th>\n",
       "      <td>(200, 300]</td>\n",
       "      <td>1269</td>\n",
       "    </tr>\n",
       "    <tr>\n",
       "      <th>3</th>\n",
       "      <td>(300, 400]</td>\n",
       "      <td>507</td>\n",
       "    </tr>\n",
       "    <tr>\n",
       "      <th>4</th>\n",
       "      <td>(400, 500]</td>\n",
       "      <td>308</td>\n",
       "    </tr>\n",
       "  </tbody>\n",
       "</table>\n",
       "</div>"
      ],
      "text/plain": [
       "  Word_Length  Count\n",
       "0    (0, 100]  19000\n",
       "1  (100, 200]   3468\n",
       "2  (200, 300]   1269\n",
       "3  (300, 400]    507\n",
       "4  (400, 500]    308"
      ]
     },
     "metadata": {
      "tags": []
     },
     "execution_count": 17
    }
   ]
  },
  {
   "cell_type": "code",
   "metadata": {
    "id": "bPsBCysOi1lj",
    "colab_type": "code",
    "colab": {
     "base_uri": "https://localhost:8080/",
     "height": 338
    },
    "outputId": "15ae0c04-dd87-4168-a603-f2d041cbff67",
    "executionInfo": {
     "status": "ok",
     "timestamp": 1575558140189,
     "user_tz": -240,
     "elapsed": 52921,
     "user": {
      "displayName": "pratik chandwani",
      "photoUrl": "https://lh3.googleusercontent.com/a-/AAuE7mDqW3wRt0KCUPkKoPIMa1Ou8HzQpEDnmS3cAOkQBg=s64",
      "userId": "09466863638936889667"
     }
    }
   },
   "source": [
    "#Bar Plot for distribution of Length of reviews on Amazon\n",
    "result_Word_Review_Length.plot(x=\"Word_Length\",y=\"Count\",kind=\"bar\",title=\"Distribution of Word Length\")\n",
    "plt.show()"
   ],
   "execution_count": 18,
   "outputs": [
    {
     "output_type": "display_data",
     "data": {
      "image/png": "[encoded data removed]",
      "text/plain": [
       "<Figure size 432x288 with 1 Axes>"
      ]
     },
     "metadata": {
      "tags": []
     }
    }
   ]
  },
  {
   "cell_type": "code",
   "metadata": {
    "id": "5eKp_UzEjQDi",
    "colab_type": "code",
    "colab": {
     "base_uri": "https://localhost:8080/",
     "height": 204
    },
    "outputId": "08592610-57be-493b-c9c2-7635a4888e62",
    "executionInfo": {
     "status": "ok",
     "timestamp": 1575558140194,
     "user_tz": -240,
     "elapsed": 52858,
     "user": {
      "displayName": "pratik chandwani",
      "photoUrl": "https://lh3.googleusercontent.com/a-/AAuE7mDqW3wRt0KCUPkKoPIMa1Ou8HzQpEDnmS3cAOkQBg=s64",
      "userId": "09466863638936889667"
     }
    }
   },
   "source": [
    "#DISTRIBUTION OF NUMBER OF REVIEWS WRITTEN BY EACH USER\n",
    "User_Review=df[['reviewerID','asin']]\n",
    "User_Review2=User_Review.groupby(['reviewerID']).count().reset_index()\n",
    "User_Review3=User_Review2.sort_values('asin',ascending=False)\n",
    "User_Review3=User_Review3.rename(columns={'asin':'No_of_Reviews'})\n",
    "User_Review4=User_Review3.groupby('No_of_Reviews')['reviewerID'].count().reset_index()\n",
    "User_Review4=User_Review4.rename(columns={'reviewerID':'Count'})\n",
    "User_Review4=User_Review4.groupby(pd.cut(User_Review4.No_of_Reviews,np.arange(0, 200, 10))).sum()\n",
    "User_Review4=User_Review4.rename(columns={'No_of_Reviews':'x'})\n",
    "User_Review4=User_Review4.reset_index()\n",
    "User_Review4[['No_of_Reviews','Count']].head()"
   ],
   "execution_count": 19,
   "outputs": [
    {
     "output_type": "execute_result",
     "data": {
      "text/html": [
       "<div>\n",
       "<style scoped>\n",
       "    .dataframe tbody tr th:only-of-type {\n",
       "        vertical-align: middle;\n",
       "    }\n",
       "\n",
       "    .dataframe tbody tr th {\n",
       "        vertical-align: top;\n",
       "    }\n",
       "\n",
       "    .dataframe thead th {\n",
       "        text-align: right;\n",
       "    }\n",
       "</style>\n",
       "<table border=\"1\" class=\"dataframe\">\n",
       "  <thead>\n",
       "    <tr style=\"text-align: right;\">\n",
       "      <th></th>\n",
       "      <th>No_of_Reviews</th>\n",
       "      <th>Count</th>\n",
       "    </tr>\n",
       "  </thead>\n",
       "  <tbody>\n",
       "    <tr>\n",
       "      <th>0</th>\n",
       "      <td>(0, 10]</td>\n",
       "      <td>17971</td>\n",
       "    </tr>\n",
       "    <tr>\n",
       "      <th>1</th>\n",
       "      <td>(10, 20]</td>\n",
       "      <td>7</td>\n",
       "    </tr>\n",
       "    <tr>\n",
       "      <th>2</th>\n",
       "      <td>(20, 30]</td>\n",
       "      <td>0</td>\n",
       "    </tr>\n",
       "    <tr>\n",
       "      <th>3</th>\n",
       "      <td>(30, 40]</td>\n",
       "      <td>0</td>\n",
       "    </tr>\n",
       "    <tr>\n",
       "      <th>4</th>\n",
       "      <td>(40, 50]</td>\n",
       "      <td>0</td>\n",
       "    </tr>\n",
       "  </tbody>\n",
       "</table>\n",
       "</div>"
      ],
      "text/plain": [
       "  No_of_Reviews  Count\n",
       "0       (0, 10]  17971\n",
       "1      (10, 20]      7\n",
       "2      (20, 30]      0\n",
       "3      (30, 40]      0\n",
       "4      (40, 50]      0"
      ]
     },
     "metadata": {
      "tags": []
     },
     "execution_count": 19
    }
   ]
  },
  {
   "cell_type": "code",
   "metadata": {
    "id": "eiped5doj0S5",
    "colab_type": "code",
    "colab": {
     "base_uri": "https://localhost:8080/",
     "height": 338
    },
    "outputId": "6805b5d0-076c-4a0a-a015-32a0d4caf307",
    "executionInfo": {
     "status": "ok",
     "timestamp": 1575558140195,
     "user_tz": -240,
     "elapsed": 52785,
     "user": {
      "displayName": "pratik chandwani",
      "photoUrl": "https://lh3.googleusercontent.com/a-/AAuE7mDqW3wRt0KCUPkKoPIMa1Ou8HzQpEDnmS3cAOkQBg=s64",
      "userId": "09466863638936889667"
     }
    }
   },
   "source": [
    "#Bar Chart Plot for NUMBER OF REVIEWS WRITTEN BY EACH USER\n",
    "User_Review4.plot(x=\"No_of_Reviews\",y=\"Count\",kind=\"bar\",title=\"NUMBER OF REVIEWS WRITTEN BY EACH USER\")\n",
    "plt.show()"
   ],
   "execution_count": 20,
   "outputs": [
    {
     "output_type": "display_data",
     "data": {
      "image/png": "[encoded data removed]",
      "text/plain": [
       "<Figure size 432x288 with 1 Axes>"
      ]
     },
     "metadata": {
      "tags": []
     }
    }
   ]
  },
  {
   "cell_type": "code",
   "metadata": {
    "id": "T3k4HEbLkBh0",
    "colab_type": "code",
    "colab": {
     "base_uri": "https://localhost:8080/",
     "height": 204
    },
    "outputId": "54adf5d3-385f-4ac3-ac06-5e0138c80719",
    "executionInfo": {
     "status": "ok",
     "timestamp": 1575558140871,
     "user_tz": -240,
     "elapsed": 53283,
     "user": {
      "displayName": "pratik chandwani",
      "photoUrl": "https://lh3.googleusercontent.com/a-/AAuE7mDqW3wRt0KCUPkKoPIMa1Ou8HzQpEDnmS3cAOkQBg=s64",
      "userId": "09466863638936889667"
     }
    }
   },
   "source": [
    "#DISTRIBUTION OF AVERAGE RATINGS WRITTEN BY USERS\n",
    "User_No_Rating=df[['reviewerID','overall']]\n",
    "User_No_Rating2=User_No_Rating.groupby(['reviewerID'])['overall'].mean().reset_index()\n",
    "User_No_Rating3=User_No_Rating2.groupby('overall')['reviewerID'].count().reset_index()\n",
    "User_No_Rating3=User_No_Rating3.rename(columns={'reviewerID':'Count'})\n",
    "User_No_Rating3.head()"
   ],
   "execution_count": 21,
   "outputs": [
    {
     "output_type": "execute_result",
     "data": {
      "text/html": [
       "<div>\n",
       "<style scoped>\n",
       "    .dataframe tbody tr th:only-of-type {\n",
       "        vertical-align: middle;\n",
       "    }\n",
       "\n",
       "    .dataframe tbody tr th {\n",
       "        vertical-align: top;\n",
       "    }\n",
       "\n",
       "    .dataframe thead th {\n",
       "        text-align: right;\n",
       "    }\n",
       "</style>\n",
       "<table border=\"1\" class=\"dataframe\">\n",
       "  <thead>\n",
       "    <tr style=\"text-align: right;\">\n",
       "      <th></th>\n",
       "      <th>overall</th>\n",
       "      <th>Count</th>\n",
       "    </tr>\n",
       "  </thead>\n",
       "  <tbody>\n",
       "    <tr>\n",
       "      <th>0</th>\n",
       "      <td>1.000000</td>\n",
       "      <td>3228</td>\n",
       "    </tr>\n",
       "    <tr>\n",
       "      <th>1</th>\n",
       "      <td>1.166667</td>\n",
       "      <td>2</td>\n",
       "    </tr>\n",
       "    <tr>\n",
       "      <th>2</th>\n",
       "      <td>1.200000</td>\n",
       "      <td>2</td>\n",
       "    </tr>\n",
       "    <tr>\n",
       "      <th>3</th>\n",
       "      <td>1.250000</td>\n",
       "      <td>4</td>\n",
       "    </tr>\n",
       "    <tr>\n",
       "      <th>4</th>\n",
       "      <td>1.333333</td>\n",
       "      <td>42</td>\n",
       "    </tr>\n",
       "  </tbody>\n",
       "</table>\n",
       "</div>"
      ],
      "text/plain": [
       "    overall  Count\n",
       "0  1.000000   3228\n",
       "1  1.166667      2\n",
       "2  1.200000      2\n",
       "3  1.250000      4\n",
       "4  1.333333     42"
      ]
     },
     "metadata": {
      "tags": []
     },
     "execution_count": 21
    }
   ]
  },
  {
   "cell_type": "code",
   "metadata": {
    "id": "hobEpHfHkHAU",
    "colab_type": "code",
    "colab": {
     "base_uri": "https://localhost:8080/",
     "height": 295
    },
    "outputId": "9320a1bf-1313-4766-c5ca-1645c57835dc",
    "executionInfo": {
     "status": "ok",
     "timestamp": 1575558140875,
     "user_tz": -240,
     "elapsed": 53203,
     "user": {
      "displayName": "pratik chandwani",
      "photoUrl": "https://lh3.googleusercontent.com/a-/AAuE7mDqW3wRt0KCUPkKoPIMa1Ou8HzQpEDnmS3cAOkQBg=s64",
      "userId": "09466863638936889667"
     }
    }
   },
   "source": [
    "#Scatter plot for average rating written by user.\n",
    "User_No_Rating3.plot(x=\"overall\",y=\"Count\",kind=\"scatter\",title=\"Average Rating Written By User\")\n",
    "plt.show()\n"
   ],
   "execution_count": 22,
   "outputs": [
    {
     "output_type": "display_data",
     "data": {
      "image/png": "[encoded data removed]",
      "text/plain": [
       "<Figure size 432x288 with 1 Axes>"
      ]
     },
     "metadata": {
      "tags": []
     }
    }
   ]
  },
  {
   "cell_type": "code",
   "execution_count": null,
   "outputs": [],
   "source": [
    "#count of reviews by brand\n",
    "bybrand=df.groupby(['brand'])['reviewerID'].count().reset_index()\n",
    "#change name of column\n",
    "bybrand=bybrand.rename(columns={'reviewerID': 'Number_Of_Reviews'})\n",
    "bybrand=bybrand.sort_values(by='Number_Of_Reviews', ascending=False)\n",
    "bybrand1=bybrand.head(10)\n"
   ],
   "metadata": {
    "collapsed": false,
    "pycharm": {
     "name": "#%%\n"
    }
   }
  },
  {
   "cell_type": "code",
   "execution_count": null,
   "outputs": [],
   "source": [
    "#plot number of reviews by brand\n",
    "bybrand1.plot(kind='bar', x=\"brand\",y=\"Number_Of_Reviews\", title=\"# Reviews by Brand\")\n",
    "\n",
    "import matplotlib.pyplot as plt\n",
    "plt.show()\n",
    "\n"
   ],
   "metadata": {
    "collapsed": false,
    "pycharm": {
     "name": "#%%\n"
    }
   }
  },
  {
   "cell_type": "code",
   "execution_count": null,
   "outputs": [],
   "source": [
    "df1=df[(df['brand']=='Samsung') | (df['brand']=='BLU') | (df['brand']=='LG')| (df['brand']=='Apple')| (df['brand']=='Motorola')]\n",
    "#count of reviews by brand and rating\n",
    "bybrandrating=df1.groupby(['brand','sentiment'])['reviewerID'].count().reset_index()\n",
    "#change name of column\n",
    "bybrandrating=bybrandrating.rename(columns={'reviewerID': 'Rating_Freq'})\n",
    "bybrandrating=bybrandrating.sort_values(by=['brand','sentiment'])\n",
    "bybrandrating['Total_Freq'] = (bybrandrating['Rating_Freq'] / bybrandrating.groupby('brand')['Rating_Freq'].transform('sum')*100).round(2)\n",
    "#bybrandrating['overall'].value_counts(normalize=True) * 100\n",
    "#bybrandrating['%'] = ((bybrandrating['Number_Of_Reviews'] / bybrandrating[bybrandrating['Number_Of_Reviews']].sum())*100).round(2).astype(str) + '%'\n",
    "bybrandrating\n",
    "\n"
   ],
   "metadata": {
    "collapsed": false,
    "pycharm": {
     "name": "#%%\n"
    }
   }
  },
  {
   "cell_type": "code",
   "execution_count": null,
   "outputs": [],
   "source": [
    "pivot=pd.pivot_table(bybrandrating, values='Total_Freq', index=['brand'],columns='sentiment').reset_index()\n",
    "pivot.set_index('brand',inplace=True)\n",
    "pivot"
   ],
   "metadata": {
    "collapsed": false,
    "pycharm": {
     "name": "#%%\n"
    }
   }
  },
  {
   "cell_type": "code",
   "execution_count": null,
   "outputs": [],
   "source": [
    "width = 0.2\n",
    "\n",
    "a_vals = pivot.iloc[:,0]\n",
    "b_vals = pivot.iloc[:,1]\n",
    "\n",
    "ind = np.arange(5)\n",
    "ind\n"
   ],
   "metadata": {
    "collapsed": false,
    "pycharm": {
     "name": "#%%\n"
    }
   }
  },
  {
   "cell_type": "code",
   "execution_count": null,
   "outputs": [],
   "source": [
    "# make the plots\n",
    "fig, ax = plt.subplots()\n",
    "\n",
    "a = ax.bar(ind, a_vals, width, color = 'r') # plot a vals\n",
    "b = ax.bar(ind + width, b_vals, width, color = 'g')  # plot b vals\n",
    "\n",
    "\n",
    "# add some text for labels, title and axes ticks\n",
    "ax.set_ylabel('%')\n",
    "ax.set_title('Sentiments')\n",
    "ax.set_xticks(ind + width / 2)\n",
    "#ax.set_xticklabels(('Apple', 'Samsung'))\n",
    "ax.set_xticklabels(pivot.index)\n",
    "\n",
    "ax.legend((a[0], b[0]), ('Negative', 'Positive'),loc='lower center')\n",
    "\n",
    "\n",
    "def autolabel(rects):\n",
    "    \"\"\"\n",
    "    Attach a text label above each bar displaying its height\n",
    "    \"\"\"\n",
    "    for rect in rects:\n",
    "        height = rect.get_height()\n",
    "        ax.text(rect.get_x() + rect.get_width()/2., 1.05*height,\n",
    "                '%d' % int(height),\n",
    "                ha='center', va='bottom')\n",
    "\n",
    "autolabel(a)\n",
    "autolabel(b)\n",
    "\n",
    "\n",
    "plt.show()"
   ],
   "metadata": {
    "collapsed": false,
    "pycharm": {
     "name": "#%%\n"
    }
   }
  }
 ]
}