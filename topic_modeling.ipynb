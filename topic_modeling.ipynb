{
 "cells": [
  {
   "cell_type": "markdown",
   "source": [
    "# Topic Modeling of Reviews for Cellphone and Accessories category on Amazon "
   ],
   "metadata": {
    "collapsed": false
   }
  },
  {
   "cell_type": "code",
   "execution_count": null,
   "outputs": [],
   "source": [
    "import numpy as np\n",
    "from sklearn.utils import shuffle\n",
    "np.set_printoptions(precision=2, linewidth=80)\n",
    "import warnings\n",
    "from sklearn.feature_extraction.text import TfidfVectorizer\n",
    "from pprint import pprint\n",
    "import gensim\n",
    "import gensim.corpora as corpora\n",
    "import spacy\n",
    "import pyLDAvis.gensim  # don't skip this\n",
    "import numpy as np\n",
    "import pandas as pd\n",
    "import pickle"
   ],
   "metadata": {
    "collapsed": false,
    "pycharm": {
     "name": "#%%\n"
    }
   }
  },
  {
   "cell_type": "code",
   "execution_count": null,
   "outputs": [],
   "source": [
    "warnings.filterwarnings(\"ignore\")\n",
    "nlp = spacy.load('en_vecs', parse=False, tag=False, entity=False)\n",
    "\n",
    "np.set_printoptions(precision=2, linewidth=80)\n",
    "\n",
    "PROCESSED_FILENAME= './data/amazon_reviews_processed.pickle' \n"
   ],
   "metadata": {
    "collapsed": false,
    "pycharm": {
     "name": "#%%\n"
    }
   }
  },
  {
   "cell_type": "markdown",
   "source": [
    "# Load normalized data from processed file\n"
   ],
   "metadata": {
    "collapsed": false
   }
  },
  {
   "cell_type": "code",
   "execution_count": null,
   "outputs": [],
   "source": [
    "f=open(PROCESSED_FILENAME, \"rb\")\n",
    "dfdb = pickle.load(f)\n",
    "\n",
    "#filter rows out that have less than 20 word tokens\n",
    "#dfdb = dfdb[dfdb['Clean_Review_Tokens'].apply(lambda x: len(x) >= 20)]\n"
   ],
   "metadata": {
    "collapsed": false,
    "pycharm": {
     "name": "#%%\n"
    }
   }
  },
  {
   "cell_type": "markdown",
   "source": [
    "# Prune data for development if needed\n"
   ],
   "metadata": {
    "collapsed": false
   }
  },
  {
   "cell_type": "code",
   "execution_count": null,
   "outputs": [],
   "source": [
    "trial=0\n",
    "\n",
    "#subset for local runs, will remove on final runs or on server\n",
    "five=(dfdb['overall'] == 5.0)\n",
    "four=(dfdb['overall'] >= 4.0) & (dfdb['overall'] < 5.0)\n",
    "three=(dfdb['overall'] == 3.0) & (dfdb['overall'] < 4.0)\n",
    "two=(dfdb['overall'] == 2.0) & (dfdb['overall'] < 3.0)\n",
    "one=(dfdb['overall'] == 1.0) & (dfdb['overall'] < 2.0)\n",
    "zero=(dfdb['overall'] == 0.0) & (dfdb['overall'] < 1.0)\n",
    "\n",
    "df=pd.DataFrame(columns = dfdb.columns)\n",
    "if(trial>0):\n",
    "    df=dfdb[five].iloc[0:trial]\n",
    "    df=df.append(dfdb[four].iloc[0:trial])\n",
    "    df=df.append(dfdb[two].iloc[0:trial])\n",
    "    df=df.append(dfdb[one].iloc[0:trial])\n",
    "    df=df.append(dfdb[zero].iloc[0:trial])\n",
    "else:\n",
    "    df=dfdb[five]\n",
    "    df=df.append(dfdb[four])\n",
    "    df=df.append(dfdb[two])\n",
    "    df=df.append(dfdb[one])\n",
    "    df=df.append(dfdb[zero])\n",
    "\n",
    "#randomize dataset\n",
    "df = shuffle(df)"
   ],
   "metadata": {
    "collapsed": false,
    "pycharm": {
     "name": "#%%\n"
    }
   }
  },
  {
   "cell_type": "markdown",
   "source": [
    "# Sample processed data loaded, notice Cleaned Review\n"
   ],
   "metadata": {
    "collapsed": false
   }
  },
  {
   "cell_type": "code",
   "execution_count": null,
   "outputs": [],
   "source": [
    "print('Total Rows on processed dataset: ' + str(len(df)))\n",
    "print('Sample of processed dataset. Notice the column named Clean_Review');\n",
    "df.head(20)\n",
    "\n"
   ],
   "metadata": {
    "collapsed": false,
    "pycharm": {
     "name": "#%%\n"
    }
   }
  },
  {
   "cell_type": "markdown",
   "source": [
    "# Split train and test data\n"
   ],
   "metadata": {
    "collapsed": false
   }
  },
  {
   "cell_type": "code",
   "execution_count": null,
   "outputs": [],
   "source": [
    "# take a peek at the data\n",
    "reviews = np.array(df['Clean_Review'])\n",
    "sentiments = np.array(df['sentiment'])\n",
    "reviews_tokens = np.array(df['Clean_Review_Tokens'])\n",
    "positive_reviews_tokens = np.array((df[df['sentiment']==1])['Clean_Review_Tokens'])\n",
    "negative_reviews_tokens = np.array((df[df['sentiment']==0])['Clean_Review_Tokens'])\n"
   ],
   "metadata": {
    "collapsed": false,
    "pycharm": {
     "name": "#%%\n"
    }
   }
  },
  {
   "cell_type": "markdown",
   "source": [
    "# Extract features from positive and negative reviews\n"
   ],
   "metadata": {
    "collapsed": false
   }
  },
  {
   "cell_type": "code",
   "execution_count": null,
   "outputs": [],
   "source": [
    "# get tf-idf features for only positive reviews\n",
    "zipped=zip(reviews, sentiments)\n",
    "\n",
    "positive_reviews = [review for review, sentiment in zip(reviews,sentiments)  if sentiment == 1]\n",
    "ptvf = TfidfVectorizer(ngram_range=(1,1))\n",
    "ptvf_features = ptvf.fit_transform(positive_reviews)\n",
    "# get tf-idf features for only negative reviews\n",
    "negative_reviews = [review for review, sentiment in zip(reviews, sentiments) if sentiment == 0]\n",
    "ntvf = TfidfVectorizer(ngram_range=(1,1))\n",
    "ntvf_features = ntvf.fit_transform(negative_reviews)\n",
    "# view feature set dimensions\n",
    "#print(ptvf_features.shape, ntvf_features.shape)\n"
   ],
   "metadata": {
    "collapsed": false,
    "pycharm": {
     "name": "#%%\n"
    }
   }
  },
  {
   "cell_type": "code",
   "execution_count": null,
   "outputs": [],
   "source": [
    "def test(tokens):\n",
    "    # Create Dictionary\n",
    "    id2word = corpora.Dictionary(tokens)\n",
    "    \n",
    "    # Term Document Frequency\n",
    "    tdf = [id2word.doc2bow(text) for text in tokens]\n",
    "    # View\n",
    "    #print(corpus[:1])\n",
    "    \n",
    "    # Build LDA model\n",
    "    lda_model = gensim.models.ldamulticore.LdaMulticore(corpus=tdf,id2word=id2word)\n",
    "\n",
    "    return lda_model,tdf,id2word\n"
   ],
   "metadata": {
    "collapsed": false,
    "pycharm": {
     "name": "#%%\n"
    }
   }
  },
  {
   "cell_type": "markdown",
   "source": [
    "# Topic Modeling on all reviews\n"
   ],
   "metadata": {
    "collapsed": false
   }
  },
  {
   "cell_type": "code",
   "execution_count": null,
   "outputs": [],
   "source": [
    "lda_model,tdf,id2word =test(reviews_tokens)\n",
    "# Print the Keyword in the 10 topics\n",
    "pprint(lda_model.print_topics())\n",
    "doc_lda = lda_model[tdf]\n",
    "# Visualize the topics\n",
    "pyLDAvis.enable_notebook()\n",
    "vis = pyLDAvis.gensim.prepare(lda_model, tdf, id2word,mds='mmds')\n",
    "vis\n",
    "    "
   ],
   "metadata": {
    "collapsed": false,
    "pycharm": {
     "name": "#%%\n"
    }
   }
  },
  {
   "cell_type": "markdown",
   "source": [
    "# Topic modeling of positive reviews"
   ],
   "metadata": {
    "collapsed": false
   }
  },
  {
   "cell_type": "code",
   "execution_count": null,
   "outputs": [],
   "source": [
    "lda_model,tdf,id2word =test(positive_reviews_tokens)\n",
    "# Print the Keyword in the 10 topics\n",
    "pprint(lda_model.print_topics())\n",
    "doc_lda = lda_model[tdf]\n",
    "# Visualize the topics\n",
    "pyLDAvis.enable_notebook()\n",
    "vis = pyLDAvis.gensim.prepare(lda_model, tdf, id2word,mds='mmds')\n",
    "vis\n",
    "        "
   ],
   "metadata": {
    "collapsed": false,
    "pycharm": {
     "name": "#%%\n"
    }
   }
  },
  {
   "cell_type": "markdown",
   "source": [
    "# Topic modeling of negative reviews"
   ],
   "metadata": {
    "collapsed": false
   }
  },
  {
   "cell_type": "code",
   "execution_count": null,
   "outputs": [],
   "source": [
    "lda_model,tdf,id2word =test(negative_reviews_tokens)\n",
    "# Print the Keyword in the 10 topics\n",
    "pprint(lda_model.print_topics())\n",
    "doc_lda = lda_model[tdf]\n",
    "# Visualize the topics\n",
    "pyLDAvis.enable_notebook()\n",
    "vis = pyLDAvis.gensim.prepare(lda_model, tdf, id2word,mds='mmds')\n",
    "vis"
   ],
   "metadata": {
    "collapsed": false,
    "pycharm": {
     "name": "#%%\n"
    }
   }
  },
  {
   "cell_type": "code",
   "execution_count": null,
   "outputs": [],
   "source": [
    "# Compute Perplexity\n",
    "#print('\\nPerplexity: ', lda_model.log_perplexity(corpus))  # a measure of how good the model is. lower the better.\n",
    "\n",
    "# Compute Coherence Score\n",
    "#coherence_model_lda = CoherenceModel(model=lda_model, texts=data_lemmatized, dictionary=id2word, coherence='c_v')\n",
    "#coherence_lda = coherence_model_lda.get_coherence()\n",
    "#print('\\nCoherence Score: ', coherence_lda)"
   ],
   "metadata": {
    "collapsed": false,
    "pycharm": {
     "name": "#%%\n"
    }
   }
  }
 ],
 "metadata": {
  "kernelspec": {
   "display_name": "Python 3",
   "language": "python",
   "name": "python3"
  },
  "language_info": {
   "codemirror_mode": {
    "name": "ipython",
    "version": 2
   },
   "file_extension": ".py",
   "mimetype": "text/x-python",
   "name": "python",
   "nbconvert_exporter": "python",
   "pygments_lexer": "ipython2",
   "version": "2.7.6"
  },
  "pycharm": {
   "stem_cell": {
    "cell_type": "raw",
    "source": [],
    "metadata": {
     "collapsed": false
    }
   }
  }
 },
 "nbformat": 4,
 "nbformat_minor": 0
}