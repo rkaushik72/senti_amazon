{
 "cells": [
  {
   "cell_type": "code",
   "execution_count": 7,
   "outputs": [],
   "source": [
    "### Import necessary depencencies\n",
    "\n",
    "import gzip\n",
    "import json\n",
    "import multiprocessing\n",
    "import sqlite3\n",
    "from multiprocessing import Process\n",
    "\n",
    "import numpy as np\n",
    "import pandas as pd\n",
    "\n",
    "import utils\n",
    "import re\n",
    "import unicodedata\n",
    "import gensim\n",
    "import gensim.corpora as corpora\n",
    "from gensim.utils import simple_preprocess\n",
    "from gensim.models import CoherenceModel\n",
    "import spacy\n",
    "from django.utils.html import strip_tags\n",
    "from nltk.corpus import stopwords\n",
    "from nltk.corpus import wordnet\n",
    "from nltk.tokenize.toktok import ToktokTokenizer\n",
    "from textblob import TextBlob\n",
    "import numpy as np\n",
    "\n",
    "from contractions import CONTRACTION_MAP\n",
    "nlp = spacy.load('en_core_web_sm', parse=True, tag=True, entity=True)\n",
    "\n",
    "\n"
   ],
   "metadata": {
    "collapsed": false,
    "pycharm": {
     "name": "#%%\n",
     "is_executing": false
    }
   }
  },
  {
   "cell_type": "code",
   "execution_count": 8,
   "outputs": [
    {
     "data": {
      "text/plain": "                                          reviewText  \\\n0  Looks even better in person. Be careful to not...   \n1  When you don't want to spend a whole lot of ca...   \n2  It is a very cute case. None of the jewels hav...   \n3  Another great product that my daughter she use...   \n4  Beautiful quality and outstanding product! Eve...   \n5  It is such a good case for a low price. I have...   \n6  Super durable and I get compliments on it dail...   \n7  I have used this case for a couple weeks & so ...   \n8  I chose this case because it is so beautiful. ...   \n9  Of all my cases this is the one that I have on...   \n\n                                        Clean_Review  sentiment  \n0  look even well person careful drop phone often...          1  \n1  want spend whole lot cash want great deal shop...          1  \n2  it cute case none jewel fall bow glue well com...          1  \n3  another great product daughter use long time i...          1  \n4  beautiful quality outstanding product everyone...          1  \n5  it good case low price i right never problem b...          1  \n6  super durable i get compliment daily i find on...          1  \n7  i use case couple week far great little bling ...          1  \n8  i choose case beautiful everyone like ask coul...          1  \n9  case one i phone right i love love love fit gr...          1  ",
      "text/html": "<div>\n<style scoped>\n    .dataframe tbody tr th:only-of-type {\n        vertical-align: middle;\n    }\n\n    .dataframe tbody tr th {\n        vertical-align: top;\n    }\n\n    .dataframe thead th {\n        text-align: right;\n    }\n</style>\n<table border=\"1\" class=\"dataframe\">\n  <thead>\n    <tr style=\"text-align: right;\">\n      <th></th>\n      <th>reviewText</th>\n      <th>Clean_Review</th>\n      <th>sentiment</th>\n    </tr>\n  </thead>\n  <tbody>\n    <tr>\n      <th>0</th>\n      <td>Looks even better in person. Be careful to not...</td>\n      <td>look even well person careful drop phone often...</td>\n      <td>1</td>\n    </tr>\n    <tr>\n      <th>1</th>\n      <td>When you don't want to spend a whole lot of ca...</td>\n      <td>want spend whole lot cash want great deal shop...</td>\n      <td>1</td>\n    </tr>\n    <tr>\n      <th>2</th>\n      <td>It is a very cute case. None of the jewels hav...</td>\n      <td>it cute case none jewel fall bow glue well com...</td>\n      <td>1</td>\n    </tr>\n    <tr>\n      <th>3</th>\n      <td>Another great product that my daughter she use...</td>\n      <td>another great product daughter use long time i...</td>\n      <td>1</td>\n    </tr>\n    <tr>\n      <th>4</th>\n      <td>Beautiful quality and outstanding product! Eve...</td>\n      <td>beautiful quality outstanding product everyone...</td>\n      <td>1</td>\n    </tr>\n    <tr>\n      <th>5</th>\n      <td>It is such a good case for a low price. I have...</td>\n      <td>it good case low price i right never problem b...</td>\n      <td>1</td>\n    </tr>\n    <tr>\n      <th>6</th>\n      <td>Super durable and I get compliments on it dail...</td>\n      <td>super durable i get compliment daily i find on...</td>\n      <td>1</td>\n    </tr>\n    <tr>\n      <th>7</th>\n      <td>I have used this case for a couple weeks &amp; so ...</td>\n      <td>i use case couple week far great little bling ...</td>\n      <td>1</td>\n    </tr>\n    <tr>\n      <th>8</th>\n      <td>I chose this case because it is so beautiful. ...</td>\n      <td>i choose case beautiful everyone like ask coul...</td>\n      <td>1</td>\n    </tr>\n    <tr>\n      <th>9</th>\n      <td>Of all my cases this is the one that I have on...</td>\n      <td>case one i phone right i love love love fit gr...</td>\n      <td>1</td>\n    </tr>\n  </tbody>\n</table>\n</div>"
     },
     "metadata": {},
     "output_type": "execute_result",
     "execution_count": 8
    }
   ],
   "source": [
    "con1 = sqlite3.connect('./data/amazon_cellreviews.db')\n",
    "#check database\n",
    "sql = \" SELECT reviewText,Clean_Review,sentiment FROM reviews limit 10\"\n",
    "dfdb = pd.read_sql_query(sql, con1)\n",
    "con1.close()\n",
    "\n",
    "dfdb.head(10)\n"
   ],
   "metadata": {
    "collapsed": false,
    "pycharm": {
     "name": "#%%\n",
     "is_executing": false
    }
   }
  },
  {
   "cell_type": "code",
   "execution_count": 9,
   "outputs": [],
   "source": [
    "# NLTK Stop words\n",
    "stop_words = stopwords.words('english')\n",
    "stop_words.extend(['from', 'subject', 're', 'edu', 'use'])\n",
    "stop_words.remove('no')\n",
    "stop_words.remove('not')"
   ],
   "metadata": {
    "collapsed": false,
    "pycharm": {
     "name": "#%%\n",
     "is_executing": false
    }
   }
  },
  {
   "cell_type": "code",
   "execution_count": 10,
   "outputs": [],
   "source": [
    "def review_to_words(reviews):\n",
    "    for review in reviews:\n",
    "        yield(gensim.utils.simple_preprocess(str(review), deacc=False))  # deacc=True removes punctuations\n",
    "\n",
    "def remove_stopwords(texts):\n",
    "    return [[word for word in simple_preprocess(str(doc)) if word not in stop_words] for doc in texts]\n",
    "\n",
    "\n",
    "def lemmatization(texts, allowed_postags=['NOUN', 'ADJ', 'VERB', 'ADV']):\n",
    "    \"\"\"https://spacy.io/api/annotation\"\"\"\n",
    "    texts_tokens = []\n",
    "    texts_str=[]\n",
    "    \n",
    "    for sent in texts:\n",
    "        doc = nlp(\" \".join(sent))\n",
    "        tokens=[token.lemma_ for token in doc if token.pos_ in allowed_postags]\n",
    "        texts_tokens.append(tokens)\n",
    "        texts_str.append(' '.join([word for word in tokens]))\n",
    "        \n",
    "    return texts_tokens,texts_str\n",
    "\n",
    "def expand_contractions(data):\n",
    "    contraction_mapping = CONTRACTION_MAP\n",
    "    contractions_pattern = re.compile('({})'.format('|'.join(contraction_mapping.keys())),\n",
    "                                      flags=re.IGNORECASE | re.DOTALL)\n",
    "\n",
    "    def expand_contractions_sentence(sentence):\n",
    "        def expand_match(contraction):\n",
    "            match = contraction.group(0)\n",
    "            first_char = match[0]\n",
    "            expanded_contraction = contraction_mapping.get(match) \\\n",
    "                if contraction_mapping.get(match) \\\n",
    "                else contraction_mapping.get(match.lower())\n",
    "            expanded_contraction = first_char + expanded_contraction[1:]\n",
    "            return expanded_contraction\n",
    "        expanded_sentence = contractions_pattern.sub(expand_match, sentence)\n",
    "        return expanded_sentence\n",
    "\n",
    "    data_expanded = [expand_contractions_sentence(review) for review in data]   \n",
    "    return data_expanded"
   ],
   "metadata": {
    "collapsed": false,
    "pycharm": {
     "name": "#%%\n",
     "is_executing": false
    }
   }
  },
  {
   "cell_type": "code",
   "execution_count": 11,
   "outputs": [],
   "source": [
    "    # Convert to list\n",
    "    data = dfdb['reviewText']\n",
    "\n",
    "    # Remove new line characters\n",
    "    data = [re.sub('\\s+', ' ', review) for review in data]\n",
    "\n",
    "    #contractions\n",
    "    data_expanded=expand_contractions(data)\n",
    "\n",
    "    # Remove distracting single quotes\n",
    "    #data = [re.sub(\"\\'\", \"\", review) for review in data]\n",
    "    \n",
    "    #tokenize each review into words\n",
    "    data_words = list(review_to_words(data_expanded))\n",
    "\n",
    "    # Remove Stop Words\n",
    "    data_words_nostops = remove_stopwords(data_words)\n",
    "\n",
    "    # Build the bigram and trigram models\n",
    "    bigram = gensim.models.Phrases(data_words, min_count=5, threshold=100)  # higher threshold fewer phrases.\n",
    "    trigram = gensim.models.Phrases(bigram[data_words], threshold=100)\n",
    "\n",
    "    # Faster way to get a sentence clubbed as a trigram/bigram\n",
    "    bigram_mod = gensim.models.phrases.Phraser(bigram)\n",
    "    trigram_mod = gensim.models.phrases.Phraser(trigram)\n",
    "\n",
    "\n",
    "    # Form Bigrams\n",
    "    data_words_bigrams = [trigram_mod[bigram_mod[doc]] for doc in data_words_nostops]\n",
    "\n",
    "    # Initialize spacy 'en' model, keeping only tagger component (for efficiency)\n",
    "    # python3 -m spacy download en\n",
    "    nlp = spacy.load('en', disable=['parser', 'ner'])\n",
    "\n",
    "    # Do lemmatization keeping only noun, adj, vb, adv\n",
    "    data_lemmatized_tokens,data_lemmatized_str = lemmatization(data_words_bigrams, allowed_postags=['NOUN', 'ADJ', 'VERB', 'ADV'])\n",
    "\n",
    "    dfdb.insert(3, 'Clean_Review1', data_lemmatized_str)\n",
    "    dfdb.insert(4, 'Clean_Review2', data_lemmatized_tokens)\n",
    "\n",
    "    import pickle \n",
    "    import math \n",
    "    object_pi = math.pi \n",
    "    filename= './data/amazon_reviews_processed.pickle' \n",
    "    with open(filename, \"wb+\") as f:\n",
    "        pickle.dump(dfdb, f)\n",
    "    \n",
    "    #print(len(dflocal))\n",
    "    #sender.send(dflocal)\n",
    "\n",
    "    #print(processName + ' DONE' )\n",
    "    \n",
    "    with open(filename, \"rb\") as f:\n",
    "        dfdb_from_file = pickle.load(f)\n",
    "    \n",
    "    "
   ],
   "metadata": {
    "collapsed": false,
    "pycharm": {
     "name": "#%%\n",
     "is_executing": false
    }
   }
  },
  {
   "cell_type": "code",
   "execution_count": 12,
   "outputs": [
    {
     "data": {
      "text/plain": "                                          reviewText  \\\n0  Looks even better in person. Be careful to not...   \n1  When you don't want to spend a whole lot of ca...   \n2  It is a very cute case. None of the jewels hav...   \n3  Another great product that my daughter she use...   \n4  Beautiful quality and outstanding product! Eve...   \n5  It is such a good case for a low price. I have...   \n6  Super durable and I get compliments on it dail...   \n7  I have used this case for a couple weeks & so ...   \n8  I chose this case because it is so beautiful. ...   \n9  Of all my cases this is the one that I have on...   \n\n                                        Clean_Review  sentiment  \\\n0  look even well person careful drop phone often...          1   \n1  want spend whole lot cash want great deal shop...          1   \n2  it cute case none jewel fall bow glue well com...          1   \n3  another great product daughter use long time i...          1   \n4  beautiful quality outstanding product everyone...          1   \n5  it good case low price i right never problem b...          1   \n6  super durable i get compliment daily i find on...          1   \n7  i use case couple week far great little bling ...          1   \n8  i choose case beautiful everyone like ask coul...          1   \n9  case one i phone right i love love love fit gr...          1   \n\n                                       Clean_Review1  \\\n0  look even well person careful drop phone often...   \n1  want spend whole lot cash want great deal shop...   \n2  cute case none jewel fall bow glue well come t...   \n3  great product daughter long time transaction g...   \n4  beautiful quality outstanding product complime...   \n5  good case low price right never problem lose s...   \n6  super durable get compliment daily find charm ...   \n7  use case couple week far great little bling st...   \n8  choose case beautiful like ask could course ab...   \n9  case phone right love love love fit great pret...   \n\n                                       Clean_Review2  \n0  [look, even, well, person, careful, drop, phon...  \n1  [want, spend, whole, lot, cash, want, great, d...  \n2  [cute, case, none, jewel, fall, bow, glue, wel...  \n3  [great, product, daughter, long, time, transac...  \n4  [beautiful, quality, outstanding, product, com...  \n5  [good, case, low, price, right, never, problem...  \n6  [super, durable, get, compliment, daily, find,...  \n7  [use, case, couple, week, far, great, little, ...  \n8  [choose, case, beautiful, like, ask, could, co...  \n9  [case, phone, right, love, love, love, fit, gr...  ",
      "text/html": "<div>\n<style scoped>\n    .dataframe tbody tr th:only-of-type {\n        vertical-align: middle;\n    }\n\n    .dataframe tbody tr th {\n        vertical-align: top;\n    }\n\n    .dataframe thead th {\n        text-align: right;\n    }\n</style>\n<table border=\"1\" class=\"dataframe\">\n  <thead>\n    <tr style=\"text-align: right;\">\n      <th></th>\n      <th>reviewText</th>\n      <th>Clean_Review</th>\n      <th>sentiment</th>\n      <th>Clean_Review1</th>\n      <th>Clean_Review2</th>\n    </tr>\n  </thead>\n  <tbody>\n    <tr>\n      <th>0</th>\n      <td>Looks even better in person. Be careful to not...</td>\n      <td>look even well person careful drop phone often...</td>\n      <td>1</td>\n      <td>look even well person careful drop phone often...</td>\n      <td>[look, even, well, person, careful, drop, phon...</td>\n    </tr>\n    <tr>\n      <th>1</th>\n      <td>When you don't want to spend a whole lot of ca...</td>\n      <td>want spend whole lot cash want great deal shop...</td>\n      <td>1</td>\n      <td>want spend whole lot cash want great deal shop...</td>\n      <td>[want, spend, whole, lot, cash, want, great, d...</td>\n    </tr>\n    <tr>\n      <th>2</th>\n      <td>It is a very cute case. None of the jewels hav...</td>\n      <td>it cute case none jewel fall bow glue well com...</td>\n      <td>1</td>\n      <td>cute case none jewel fall bow glue well come t...</td>\n      <td>[cute, case, none, jewel, fall, bow, glue, wel...</td>\n    </tr>\n    <tr>\n      <th>3</th>\n      <td>Another great product that my daughter she use...</td>\n      <td>another great product daughter use long time i...</td>\n      <td>1</td>\n      <td>great product daughter long time transaction g...</td>\n      <td>[great, product, daughter, long, time, transac...</td>\n    </tr>\n    <tr>\n      <th>4</th>\n      <td>Beautiful quality and outstanding product! Eve...</td>\n      <td>beautiful quality outstanding product everyone...</td>\n      <td>1</td>\n      <td>beautiful quality outstanding product complime...</td>\n      <td>[beautiful, quality, outstanding, product, com...</td>\n    </tr>\n    <tr>\n      <th>5</th>\n      <td>It is such a good case for a low price. I have...</td>\n      <td>it good case low price i right never problem b...</td>\n      <td>1</td>\n      <td>good case low price right never problem lose s...</td>\n      <td>[good, case, low, price, right, never, problem...</td>\n    </tr>\n    <tr>\n      <th>6</th>\n      <td>Super durable and I get compliments on it dail...</td>\n      <td>super durable i get compliment daily i find on...</td>\n      <td>1</td>\n      <td>super durable get compliment daily find charm ...</td>\n      <td>[super, durable, get, compliment, daily, find,...</td>\n    </tr>\n    <tr>\n      <th>7</th>\n      <td>I have used this case for a couple weeks &amp; so ...</td>\n      <td>i use case couple week far great little bling ...</td>\n      <td>1</td>\n      <td>use case couple week far great little bling st...</td>\n      <td>[use, case, couple, week, far, great, little, ...</td>\n    </tr>\n    <tr>\n      <th>8</th>\n      <td>I chose this case because it is so beautiful. ...</td>\n      <td>i choose case beautiful everyone like ask coul...</td>\n      <td>1</td>\n      <td>choose case beautiful like ask could course ab...</td>\n      <td>[choose, case, beautiful, like, ask, could, co...</td>\n    </tr>\n    <tr>\n      <th>9</th>\n      <td>Of all my cases this is the one that I have on...</td>\n      <td>case one i phone right i love love love fit gr...</td>\n      <td>1</td>\n      <td>case phone right love love love fit great pret...</td>\n      <td>[case, phone, right, love, love, love, fit, gr...</td>\n    </tr>\n  </tbody>\n</table>\n</div>"
     },
     "metadata": {},
     "output_type": "execute_result",
     "execution_count": 12
    }
   ],
   "source": [
    "    dfdb_from_file.head(10)"
   ],
   "metadata": {
    "collapsed": false,
    "pycharm": {
     "name": "#%%\n",
     "is_executing": false
    }
   }
  }
 ],
 "metadata": {
  "kernelspec": {
   "display_name": "Python 3",
   "language": "python",
   "name": "python3"
  },
  "language_info": {
   "codemirror_mode": {
    "name": "ipython",
    "version": 2
   },
   "file_extension": ".py",
   "mimetype": "text/x-python",
   "name": "python",
   "nbconvert_exporter": "python",
   "pygments_lexer": "ipython2",
   "version": "2.7.6"
  },
  "pycharm": {
   "stem_cell": {
    "cell_type": "raw",
    "source": [],
    "metadata": {
     "collapsed": false
    }
   }
  }
 },
 "nbformat": 4,
 "nbformat_minor": 0
}