{
 "cells": [
  {
   "cell_type": "code",
   "execution_count": null,
   "outputs": [],
   "source": [
    "### Import necessary depencencies\n",
    "import multiprocessing\n",
    "import pickle\n",
    "from multiprocessing import Process\n",
    "import numpy as np\n",
    "import pandas as pd\n",
    "import utils\n",
    "\n",
    "PROCESSED_FILENAME_A= './data/amazon_reviews_processed_partA.pickle' \n",
    "PROCESSED_FILENAME_B= './data/amazon_reviews_processed_partB.pickle' \n",
    "trial=0\n",
    "#number of processes to run in multiprocessing\n",
    "processors=16\n",
    "\n",
    "pd.set_option('display.max_colwidth', -1)"
   ],
   "metadata": {
    "collapsed": false,
    "pycharm": {
     "name": "#%%\n"
    }
   }
  },
  {
   "cell_type": "markdown",
   "source": [
    "# ============================================\n",
    "#   Preprocess reviews \n",
    "# ============================================\n"
   ],
   "metadata": {
    "collapsed": false
   }
  },
  {
   "cell_type": "code",
   "execution_count": null,
   "outputs": [],
   "source": [
    "def readFromDisk():\n",
    "    with open(PROCESSED_FILENAME_A, \"rb\") as f:\n",
    "        dfread = pickle.load(f)\n",
    "        return dfread\n",
    "        \n",
    "def writeToDisk(dfdb):\n",
    "    with open(PROCESSED_FILENAME_B, \"wb\") as f:\n",
    "        pickle.dump(dfdb, f)\n",
    "        \n",
    "        \n",
    "        "
   ],
   "metadata": {
    "collapsed": false,
    "pycharm": {
     "name": "#%%\n"
    }
   }
  },
  {
   "cell_type": "code",
   "execution_count": null,
   "outputs": [],
   "source": [
    "#nltk.download('all', halt_on_error = True)\n",
    "\n",
    "df=readFromDisk()\n",
    "\n",
    "# FOR TESTING\n",
    "#df=df.iloc[0:1000]\n",
    "\n",
    "\n",
    "#number of observations\n",
    "size=len(df)\n",
    "#number of observations to normalize in each process\n",
    "iterSize=round(size/processors)\n",
    "#holds the processes\n",
    "processes=[]\n",
    "\n",
    "print('To process: ' + str(size))\n",
    "\n"
   ],
   "metadata": {
    "collapsed": false,
    "pycharm": {
     "name": "#%%\n"
    }
   }
  },
  {
   "cell_type": "code",
   "execution_count": null,
   "outputs": [],
   "source": [
    "#dfshow=df[['reviewText','summary','Clean_Review','Clean_Review_Tokens']]\n",
    "#dfshow=df['reviewText']\n",
    "#dfshow\n",
    "\n",
    "df.head(10)"
   ],
   "metadata": {
    "collapsed": false,
    "pycharm": {
     "name": "#%%\n"
    }
   }
  },
  {
   "cell_type": "code",
   "execution_count": null,
   "outputs": [],
   "source": [
    "i=0\n",
    "\n",
    "dfholder=[]\n",
    "parent_conn_holder=[]\n",
    "\n",
    "columns2=df.columns.values.tolist()\n",
    "columns2.append('Clean_Review')\n",
    "columns2.append('Clean_Review_Tokens')\n",
    "\n",
    "dffile=pd.DataFrame(columns=columns2);\n",
    "\n",
    "\n",
    "for i in range(0,processors):\n",
    "    start=i*iterSize\n",
    "    stop=start+iterSize\n",
    "    if(stop>size):\n",
    "        stop=size\n",
    "    #split df for parallel proc\n",
    "    dflist=df.iloc[start:stop]\n",
    "    # creating a pipe \n",
    "    parent_conn, child_conn = multiprocessing.Pipe() \n",
    "    p = Process(target=utils.multiprocNormalize, args=(dflist,child_conn,\"proc\"+str(i)))\n",
    "    #dfholder.append(utils.multiprocNormalize(dflist,\"proc\"+str(i)))\n",
    "    processes.append(p)\n",
    "    p.start()\n",
    "    parent_conn_holder.append(parent_conn)\n",
    "\n",
    " \n",
    "for parent_conn in parent_conn_holder:\n",
    "    dfdb=parent_conn.recv()\n",
    "    #take out leading and trailing blanks\n",
    "    dfdb['Clean_Review'] = dfdb['Clean_Review'].str.strip().astype(str)\n",
    "    #replace blank ones with nan\n",
    "    dfdb['Clean_Review'].replace('', np.NaN, inplace=True)\n",
    "    # drop nans\n",
    "    dfdb.dropna(subset=['brand','reviewText','asin','overall','sentiment','Clean_Review'], inplace=True)\n",
    "    dfdb=dfdb.reset_index(drop=True)\n",
    "    dffile=pd.concat([dffile, dfdb], axis=0)\n",
    "\n",
    "for p in processes:\n",
    "    p.join()\n"
   ],
   "metadata": {
    "collapsed": false,
    "pycharm": {
     "name": "#%%\n"
    }
   }
  },
  {
   "cell_type": "code",
   "execution_count": null,
   "outputs": [],
   "source": [
    "print('Total Rows on processed dataset: ' + str(len(dffile)))\n",
    "print('Sample of processed dataset. Notice the column named Clean_Review');\n",
    "dffile.head(10)"
   ],
   "metadata": {
    "collapsed": false,
    "pycharm": {
     "name": "#%%\n"
    }
   }
  },
  {
   "cell_type": "code",
   "execution_count": null,
   "outputs": [],
   "source": [
    "writeToDisk(dffile)\n"
   ],
   "metadata": {
    "collapsed": false,
    "pycharm": {
     "name": "#%%\n"
    }
   }
  },
  {
   "cell_type": "code",
   "execution_count": null,
   "outputs": [],
   "source": [
    "reviews = np.array(dffile['Clean_Review'])\n",
    "reviews_raw = np.array(dffile['reviewText'])\n",
    "sentiments = np.array(dffile['sentiment'])\n",
    "reviews_tokens = np.array(dffile['Clean_Review_Tokens'])\n",
    "\n",
    "reviews_positive = np.array( (dffile[dffile['sentiment'] == 1 ])['Clean_Review'])\n",
    "reviews_negative = np.array( (dffile[dffile['sentiment'] == 0 ])['Clean_Review'])\n",
    "reviews_positive_tokens = np.array( (dffile[dffile['sentiment'] == 1 ])['Clean_Review_Tokens'])\n",
    "reviews_negative_tokens = np.array( (dffile[dffile['sentiment'] == 0 ])['Clean_Review_Tokens'])\n",
    "\n",
    "utils.writeToDisk(reviews,'reviews')\n",
    "utils.writeToDisk(reviews_raw,'reviews_raw')\n",
    "utils.writeToDisk(sentiments,'sentiments')\n",
    "utils.writeToDisk(reviews_tokens,'reviews_tokens')\n",
    "\n",
    "utils.writeToDisk(reviews_positive,'reviews_positive')\n",
    "utils.writeToDisk(reviews_negative,'reviews_negative')\n",
    "utils.writeToDisk(reviews_positive_tokens,'reviews_positive_tokens')\n",
    "utils.writeToDisk(reviews_negative_tokens,'reviews_negative_tokens')"
   ],
   "metadata": {
    "collapsed": false,
    "pycharm": {
     "name": "#%%\n"
    }
   }
  },
  {
   "cell_type": "code",
   "execution_count": null,
   "outputs": [],
   "source": [
    "print('done')\n",
    "\n",
    "    "
   ],
   "metadata": {
    "collapsed": false,
    "pycharm": {
     "name": "#%%\n"
    }
   }
  }
 ],
 "metadata": {
  "kernelspec": {
   "display_name": "Python 3",
   "language": "python",
   "name": "python3"
  },
  "language_info": {
   "codemirror_mode": {
    "name": "ipython",
    "version": 2
   },
   "file_extension": ".py",
   "mimetype": "text/x-python",
   "name": "python",
   "nbconvert_exporter": "python",
   "pygments_lexer": "ipython2",
   "version": "2.7.6"
  },
  "pycharm": {
   "stem_cell": {
    "cell_type": "raw",
    "source": [
     "    #%% md\n",
     "\n",
     "# Sentiment Analysis for Amazon reviews on cellphones and accessories\n",
     "# Cellphone reviews dataset is at http://deepyeti.ucsd.edu/jianmo/amazon/categoryFilesSmall/Cell_Phones_and_Accessories_5.json.gz\n"
    ],
    "metadata": {
     "collapsed": false
    }
   }
  }
 },
 "nbformat": 4,
 "nbformat_minor": 0
}