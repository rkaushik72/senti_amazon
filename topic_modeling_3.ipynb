{
 "cells": [
  {
   "cell_type": "markdown",
   "metadata": {},
   "source": [
    "# Import necessary dependencies"
   ]
  },
  {
   "cell_type": "code",
   "execution_count": 9,
   "metadata": {
    "collapsed": true
   },
   "outputs": [],
   "source": [
    "import warnings\n",
    "import numpy as np\n",
    "import pyLDAvis.sklearn\n",
    "from sklearn.decomposition import NMF\n",
    "import utils\n",
    "from sklearn.feature_extraction.text import TfidfVectorizer\n",
    "\n",
    "warnings.filterwarnings(\"ignore\")\n",
    "\n",
    "pyLDAvis.enable_notebook()\n",
    "\n",
    "total_topics = 10\n"
   ]
  },
  {
   "cell_type": "markdown",
   "metadata": {},
   "source": [
    "# Load and normalize data"
   ]
  },
  {
   "cell_type": "code",
   "execution_count": 2,
   "metadata": {},
   "outputs": [
    {
     "name": "stdout",
     "output_type": "stream",
     "text": [
      "                                              review sentiment\n",
      "0  One of the other reviewers has mentioned that ...  positive\n",
      "1  A wonderful little production. <br /><br />The...  positive\n",
      "2  I thought this was a wonderful way to spend ti...  positive\n",
      "3  Basically there's a family where a little boy ...  negative\n",
      "4  Petter Mattei's \"Love in the Time of Money\" is...  positive\n"
     ]
    }
   ],
   "source": [
    "positive_reviews = utils.readFromDisk('reviews_positive')\n",
    "negative_reviews = utils.readFromDisk('reviews_negative')\n",
    "\n"
   ]
  },
  {
   "cell_type": "markdown",
   "source": [
    "# Topic modeling of positive reviews"
   ],
   "metadata": {
    "collapsed": false
   }
  },
  {
   "cell_type": "code",
   "execution_count": null,
   "outputs": [],
   "source": [
    "# get tf-idf features for only positive reviews\n",
    "ptvf = TfidfVectorizer(max_df=0.95, min_df=2, max_features=100, stop_words='english',use_idf=True, ngram_range=(1,2), sublinear_tf=True)\n",
    "#TfidfVectorizer(use_idf=True, min_df=2, max_df=0.95, ngram_range=(1,2), sublinear_tf=True)\n",
    "ptvf_features = ptvf.fit_transform(positive_reviews)\n",
    "# get tf-idf features for only negative reviews\n",
    "ntvf = TfidfVectorizer(max_df=0.95, min_df=2, max_features=100, stop_words='english',use_idf=True, ngram_range=(1,2), sublinear_tf=True)\n",
    "ntvf_features = ntvf.fit_transform(negative_reviews)\n",
    "# view feature set dimensions\n",
    "print(ptvf_features.shape, ntvf_features.shape)\n"
   ],
   "metadata": {
    "collapsed": false,
    "pycharm": {
     "name": "#%%\n"
    }
   }
  },
  {
   "cell_type": "code",
   "execution_count": null,
   "outputs": [],
   "source": [
    "# build topic model on positive sentiment review features \n",
    "pos_nmf =NMF(n_components=total_topics, random_state=1, alpha=.1, l1_ratio=.5, init='nndsvd')\n",
    "#NMF( n_components = total_topics, solver =\"cd\", max_iter = 500, random_state = 42, alpha =.1, l1_ratio =.85)\n",
    "pos_nmf.fit( ptvf_features) \n",
    "# extract features and component weights \n",
    "pos_feature_names = np.array( ptvf.get_feature_names()) \n",
    "pos_weights = pos_nmf.components_ "
   ],
   "metadata": {
    "collapsed": false,
    "pycharm": {
     "name": "#%%\n"
    }
   }
  },
  {
   "cell_type": "code",
   "execution_count": null,
   "outputs": [],
   "source": [
    "# extract and display topics and their components \n",
    "pos_feature_names = np.array( ptvf.get_feature_names()) \n",
    "feature_idxs = np.argsort(-pos_weights)[:, :15] \n",
    "topics = [pos_feature_names[ idx] for idx in feature_idxs] \n",
    "for idx, topic in enumerate( topics):\n",
    "    print(' Topic #' + str( idx + 1) +':')\n",
    "    print(', '. join( topic))\n",
    "    print()"
   ],
   "metadata": {
    "collapsed": false,
    "pycharm": {
     "name": "#%%\n"
    }
   }
  },
  {
   "cell_type": "code",
   "execution_count": null,
   "outputs": [],
   "source": [
    "#visualize\n",
    "pyLDAvis.sklearn.prepare( pos_nmf, ptvf_features, ptvf,mds='mmds')\n"
   ],
   "metadata": {
    "collapsed": false,
    "pycharm": {
     "name": "#%%\n"
    }
   }
  }
 ],
 "metadata": {
  "anaconda-cloud": {},
  "kernelspec": {
   "display_name": "Python 3",
   "language": "python",
   "name": "python3"
  },
  "language_info": {
   "codemirror_mode": {
    "name": "ipython",
    "version": 3
   },
   "file_extension": ".py",
   "mimetype": "text/x-python",
   "name": "python",
   "nbconvert_exporter": "python",
   "pygments_lexer": "ipython3",
   "version": "3.6.6"
  },
  "pycharm": {
   "stem_cell": {
    "cell_type": "raw",
    "source": [],
    "metadata": {
     "collapsed": false
    }
   }
  }
 },
 "nbformat": 4,
 "nbformat_minor": 1
}