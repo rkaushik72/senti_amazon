{
 "cells": [
  {
   "cell_type": "markdown",
   "source": [
    "#cellphone reviews at ...\n",
    "#data at http://deepyeti.ucsd.edu/jianmo/amazon/categoryFilesSmall/Cell_Phones_and_Accessories_5.json.gz\n"
   ],
   "metadata": {
    "collapsed": false,
    "pycharm": {
     "name": "#%% md\n"
    }
   }
  },
  {
   "cell_type": "code",
   "execution_count": 1,
   "outputs": [],
   "source": [
    "import json\n",
    "import pandas as pd\n",
    "import gzip\n",
    "\n"
   ],
   "metadata": {
    "collapsed": false,
    "pycharm": {
     "name": "#%%\n",
     "is_executing": false
    }
   }
  },
  {
   "cell_type": "code",
   "execution_count": 2,
   "outputs": [],
   "source": [
    "def parse(path):\n",
    "  g = gzip.open(path, 'rb')\n",
    "  for l in g:\n",
    "    yield json.loads(l)\n"
   ],
   "metadata": {
    "collapsed": false,
    "pycharm": {
     "name": "#%%\n",
     "is_executing": false
    }
   }
  },
  {
   "cell_type": "code",
   "execution_count": 3,
   "outputs": [],
   "source": [
    "def getDF(path):\n",
    "  i = 0\n",
    "  df = {}\n",
    "  for d in parse(path):\n",
    "    df[i] = d\n",
    "    i += 1\n",
    "  return pd.DataFrame.from_dict(df, orient='index')\n"
   ],
   "metadata": {
    "collapsed": false,
    "pycharm": {
     "name": "#%%\n",
     "is_executing": false
    }
   }
  },
  {
   "cell_type": "code",
   "source": [
    "dfraw = getDF('./data/cell_reviews_5core.json.gz')\n"
   ],
   "metadata": {
    "collapsed": false,
    "pycharm": {
     "name": "#%%\n",
     "is_executing": false
    }
   },
   "execution_count": 4,
   "outputs": []
  },
  {
   "cell_type": "code",
   "execution_count": 5,
   "outputs": [
    {
     "data": {
      "text/plain": "25000"
     },
     "metadata": {},
     "output_type": "execute_result",
     "execution_count": 5
    }
   ],
   "source": [
    "trial=5000\n",
    "\n",
    "#subset for local runs, will remove on final runs or on server\n",
    "five=(dfraw['overall'] == 5.0)\n",
    "four=(dfraw['overall'] >= 4.0) & (dfraw['overall'] < 5.0)\n",
    "three=(dfraw['overall'] == 3.0) & (dfraw['overall'] < 4.0)\n",
    "two=(dfraw['overall'] == 2.0) & (dfraw['overall'] < 3.0)\n",
    "one=(dfraw['overall'] == 1.0) & (dfraw['overall'] < 2.0)\n",
    "zero=(dfraw['overall'] == 0.0) & (dfraw['overall'] < 1.0)\n",
    "\n",
    "df=dfraw[five].iloc[0:trial]\n",
    "df=df.append(dfraw[four].iloc[0:trial])\n",
    "df=df.append(dfraw[three].iloc[0:trial])\n",
    "df=df.append(dfraw[two].iloc[0:trial])\n",
    "df=df.append(dfraw[one].iloc[0:trial])\n",
    "df=df.append(dfraw[zero].iloc[0:trial])\n",
    "\n",
    "len(df)"
   ],
   "metadata": {
    "collapsed": false,
    "pycharm": {
     "name": "#%%\n",
     "is_executing": false
    }
   }
  },
  {
   "cell_type": "code",
   "execution_count": 6,
   "outputs": [],
   "source": [
    "#convert review date to standard format\n",
    "df['Review_Time']= pd.to_datetime(df['reviewTime'])\n",
    "df['Month']=df['Review_Time'].dt.month\n",
    "df['Year']=df['Review_Time'].dt.year\n",
    "\n",
    "\n"
   ],
   "metadata": {
    "collapsed": false,
    "pycharm": {
     "name": "#%%\n",
     "is_executing": false
    }
   }
  },
  {
   "cell_type": "code",
   "execution_count": 7,
   "outputs": [
    {
     "data": {
      "text/plain": "    overall  verified   reviewTime      reviewerID        asin  \\\n0       5.0      True   08 4, 2014  A24E3SXTC62LJI  7508492919   \n1       5.0      True  02 12, 2014  A269FLZCB4GIPV  7508492919   \n7       5.0      True  01 17, 2014  A31OVFL91BCKXG  7508492919   \n11      5.0      True  10 23, 2013  A2ZB7KGUSBR9P3  7508492919   \n14      5.0      True  09 10, 2013  A18U23JWTMQX5C  7508492919   \n\n                   style          reviewerName  \\\n0   {'Color:': ' Bling'}      Claudia Valdivia   \n1                    NaN           sarah ponce   \n7                    NaN  Ashley Nicole Miller   \n11                   NaN              E. Bryce   \n14                   NaN          KaitlynxO625   \n\n                                           reviewText  \\\n0   Looks even better in person. Be careful to not...   \n1   When you don't want to spend a whole lot of ca...   \n7   It is a very cute case. None of the jewels hav...   \n11  Another great product that my daughter she use...   \n14  Beautiful quality and outstanding product! Eve...   \n\n                                summary  unixReviewTime vote image  \\\n0   Can't stop won't stop looking at it      1407110400  NaN   NaN   \n1                                     1      1392163200  NaN   NaN   \n7                             Cute case      1389916800  NaN   NaN   \n11            Bling bling for iPhone 4S      1382486400  NaN   NaN   \n14        I can't stop using this case!      1378771200  NaN   NaN   \n\n   Review_Time  Month  Year  \n0   2014-08-04      8  2014  \n1   2014-02-12      2  2014  \n7   2014-01-17      1  2014  \n11  2013-10-23     10  2013  \n14  2013-09-10      9  2013  ",
      "text/html": "<div>\n<style scoped>\n    .dataframe tbody tr th:only-of-type {\n        vertical-align: middle;\n    }\n\n    .dataframe tbody tr th {\n        vertical-align: top;\n    }\n\n    .dataframe thead th {\n        text-align: right;\n    }\n</style>\n<table border=\"1\" class=\"dataframe\">\n  <thead>\n    <tr style=\"text-align: right;\">\n      <th></th>\n      <th>overall</th>\n      <th>verified</th>\n      <th>reviewTime</th>\n      <th>reviewerID</th>\n      <th>asin</th>\n      <th>style</th>\n      <th>reviewerName</th>\n      <th>reviewText</th>\n      <th>summary</th>\n      <th>unixReviewTime</th>\n      <th>vote</th>\n      <th>image</th>\n      <th>Review_Time</th>\n      <th>Month</th>\n      <th>Year</th>\n    </tr>\n  </thead>\n  <tbody>\n    <tr>\n      <th>0</th>\n      <td>5.0</td>\n      <td>True</td>\n      <td>08 4, 2014</td>\n      <td>A24E3SXTC62LJI</td>\n      <td>7508492919</td>\n      <td>{'Color:': ' Bling'}</td>\n      <td>Claudia Valdivia</td>\n      <td>Looks even better in person. Be careful to not...</td>\n      <td>Can't stop won't stop looking at it</td>\n      <td>1407110400</td>\n      <td>NaN</td>\n      <td>NaN</td>\n      <td>2014-08-04</td>\n      <td>8</td>\n      <td>2014</td>\n    </tr>\n    <tr>\n      <th>1</th>\n      <td>5.0</td>\n      <td>True</td>\n      <td>02 12, 2014</td>\n      <td>A269FLZCB4GIPV</td>\n      <td>7508492919</td>\n      <td>NaN</td>\n      <td>sarah ponce</td>\n      <td>When you don't want to spend a whole lot of ca...</td>\n      <td>1</td>\n      <td>1392163200</td>\n      <td>NaN</td>\n      <td>NaN</td>\n      <td>2014-02-12</td>\n      <td>2</td>\n      <td>2014</td>\n    </tr>\n    <tr>\n      <th>7</th>\n      <td>5.0</td>\n      <td>True</td>\n      <td>01 17, 2014</td>\n      <td>A31OVFL91BCKXG</td>\n      <td>7508492919</td>\n      <td>NaN</td>\n      <td>Ashley Nicole Miller</td>\n      <td>It is a very cute case. None of the jewels hav...</td>\n      <td>Cute case</td>\n      <td>1389916800</td>\n      <td>NaN</td>\n      <td>NaN</td>\n      <td>2014-01-17</td>\n      <td>1</td>\n      <td>2014</td>\n    </tr>\n    <tr>\n      <th>11</th>\n      <td>5.0</td>\n      <td>True</td>\n      <td>10 23, 2013</td>\n      <td>A2ZB7KGUSBR9P3</td>\n      <td>7508492919</td>\n      <td>NaN</td>\n      <td>E. Bryce</td>\n      <td>Another great product that my daughter she use...</td>\n      <td>Bling bling for iPhone 4S</td>\n      <td>1382486400</td>\n      <td>NaN</td>\n      <td>NaN</td>\n      <td>2013-10-23</td>\n      <td>10</td>\n      <td>2013</td>\n    </tr>\n    <tr>\n      <th>14</th>\n      <td>5.0</td>\n      <td>True</td>\n      <td>09 10, 2013</td>\n      <td>A18U23JWTMQX5C</td>\n      <td>7508492919</td>\n      <td>NaN</td>\n      <td>KaitlynxO625</td>\n      <td>Beautiful quality and outstanding product! Eve...</td>\n      <td>I can't stop using this case!</td>\n      <td>1378771200</td>\n      <td>NaN</td>\n      <td>NaN</td>\n      <td>2013-09-10</td>\n      <td>9</td>\n      <td>2013</td>\n    </tr>\n  </tbody>\n</table>\n</div>"
     },
     "metadata": {},
     "output_type": "execute_result",
     "execution_count": 7
    }
   ],
   "source": [
    "# take a peek at the data\n",
    "df.head()\n",
    "\n"
   ],
   "metadata": {
    "collapsed": false,
    "pycharm": {
     "name": "#%%\n",
     "is_executing": false
    }
   }
  },
  {
   "cell_type": "code",
   "execution_count": 8,
   "outputs": [
    {
     "name": "stdout",
     "text": [
      "<class 'pandas.core.frame.DataFrame'>\nInt64Index: 25000 entries, 0 to 52074\nData columns (total 15 columns):\noverall           25000 non-null float64\nverified          25000 non-null bool\nreviewTime        25000 non-null object\nreviewerID        25000 non-null object\nasin              25000 non-null object\nstyle             7265 non-null object\nreviewerName      24996 non-null object\nreviewText        24999 non-null object\nsummary           24997 non-null object\nunixReviewTime    25000 non-null int64\nvote              3910 non-null object\nimage             181 non-null object\nReview_Time       25000 non-null datetime64[ns]\nMonth             25000 non-null int64\nYear              25000 non-null int64\ndtypes: bool(1), datetime64[ns](1), float64(1), int64(3), object(9)\nmemory usage: 2.9+ MB\n"
     ],
     "output_type": "stream"
    }
   ],
   "source": [
    "# take a peek at the data\n",
    "df.info()\n",
    "\n"
   ],
   "metadata": {
    "collapsed": false,
    "pycharm": {
     "name": "#%%\n",
     "is_executing": false
    }
   }
  },
  {
   "cell_type": "code",
   "execution_count": 9,
   "outputs": [
    {
     "data": {
      "text/plain": "    Year  Number_Of_Reviews\n0   2002                  2\n1   2003                 16\n2   2004                 41\n3   2005                127\n4   2006                309\n5   2007                654\n6   2008               1453\n7   2009               1665\n8   2010               1719\n9   2011               2423\n10  2012               2879\n11  2013               4527\n12  2014               4211\n13  2015               2901\n14  2016               1350\n15  2017                628\n16  2018                 95",
      "text/html": "<div>\n<style scoped>\n    .dataframe tbody tr th:only-of-type {\n        vertical-align: middle;\n    }\n\n    .dataframe tbody tr th {\n        vertical-align: top;\n    }\n\n    .dataframe thead th {\n        text-align: right;\n    }\n</style>\n<table border=\"1\" class=\"dataframe\">\n  <thead>\n    <tr style=\"text-align: right;\">\n      <th></th>\n      <th>Year</th>\n      <th>Number_Of_Reviews</th>\n    </tr>\n  </thead>\n  <tbody>\n    <tr>\n      <th>0</th>\n      <td>2002</td>\n      <td>2</td>\n    </tr>\n    <tr>\n      <th>1</th>\n      <td>2003</td>\n      <td>16</td>\n    </tr>\n    <tr>\n      <th>2</th>\n      <td>2004</td>\n      <td>41</td>\n    </tr>\n    <tr>\n      <th>3</th>\n      <td>2005</td>\n      <td>127</td>\n    </tr>\n    <tr>\n      <th>4</th>\n      <td>2006</td>\n      <td>309</td>\n    </tr>\n    <tr>\n      <th>5</th>\n      <td>2007</td>\n      <td>654</td>\n    </tr>\n    <tr>\n      <th>6</th>\n      <td>2008</td>\n      <td>1453</td>\n    </tr>\n    <tr>\n      <th>7</th>\n      <td>2009</td>\n      <td>1665</td>\n    </tr>\n    <tr>\n      <th>8</th>\n      <td>2010</td>\n      <td>1719</td>\n    </tr>\n    <tr>\n      <th>9</th>\n      <td>2011</td>\n      <td>2423</td>\n    </tr>\n    <tr>\n      <th>10</th>\n      <td>2012</td>\n      <td>2879</td>\n    </tr>\n    <tr>\n      <th>11</th>\n      <td>2013</td>\n      <td>4527</td>\n    </tr>\n    <tr>\n      <th>12</th>\n      <td>2014</td>\n      <td>4211</td>\n    </tr>\n    <tr>\n      <th>13</th>\n      <td>2015</td>\n      <td>2901</td>\n    </tr>\n    <tr>\n      <th>14</th>\n      <td>2016</td>\n      <td>1350</td>\n    </tr>\n    <tr>\n      <th>15</th>\n      <td>2017</td>\n      <td>628</td>\n    </tr>\n    <tr>\n      <th>16</th>\n      <td>2018</td>\n      <td>95</td>\n    </tr>\n  </tbody>\n</table>\n</div>"
     },
     "metadata": {},
     "output_type": "execute_result",
     "execution_count": 9
    }
   ],
   "source": [
    "#count of reviews each year\n",
    "yearly=df.groupby(['Year'])['reviewerID'].count().reset_index()\n",
    "#change name of column\n",
    "yearly=yearly.rename(columns={'reviewerID': 'Number_Of_Reviews'})\n",
    "yearly"
   ],
   "metadata": {
    "collapsed": false,
    "pycharm": {
     "name": "#%%\n",
     "is_executing": false
    }
   }
  },
  {
   "cell_type": "code",
   "execution_count": 10,
   "outputs": [
    {
     "data": {
      "text/plain": "<Figure size 640x480 with 1 Axes>"
     },
     "metadata": {},
     "output_type": "display_data"
    }
   ],
   "source": [
    "#plot number of reviews by year\n",
    "yearly.plot(x=\"Year\",y=\"Number_Of_Reviews\",kind=\"line\",title=\"# Reviews by Year\")\n",
    "\n",
    "import matplotlib.pyplot as plt\n",
    "plt.show()\n",
    "\n"
   ],
   "metadata": {
    "collapsed": false,
    "pycharm": {
     "name": "#%%\n",
     "is_executing": false
    }
   }
  },
  {
   "cell_type": "code",
   "execution_count": 11,
   "outputs": [
    {
     "data": {
      "text/plain": "<Figure size 432x288 with 1 Axes>",
      "image/png": "[encoded data removed]"
     },
     "metadata": {
      "needs_background": "light"
     },
     "output_type": "display_data"
    }
   ],
   "source": [
    "#number of reviews by month\n",
    "monthly=df.groupby(['Month'])['reviewerID'].count().reset_index()\n",
    "# Replacing digits of 'Month' column in 'Monthly' dataframe with words using 'Calendar' library\n",
    "\n",
    "import calendar\n",
    "monthly['Month'] = monthly['Month'].apply(lambda x: calendar.month_name[x])\n",
    "monthly=monthly.rename(columns={'reviewerID':'Number_of_Reviews'})\n",
    "monthly\n",
    "#barplot\n",
    "monthly.plot(x=\"Month\",y=\"Number_of_Reviews\",kind=\"bar\",title=\"# Reviews Monhtly\")\n",
    "plt.show()\n"
   ],
   "metadata": {
    "collapsed": false,
    "pycharm": {
     "name": "#%%\n",
     "is_executing": false
    }
   }
  },
  {
   "cell_type": "code",
   "execution_count": 11,
   "outputs": [],
   "source": [],
   "metadata": {
    "collapsed": false,
    "pycharm": {
     "name": "#%%\n",
     "is_executing": false
    }
   }
  },
  {
   "cell_type": "code",
   "execution_count": 11,
   "outputs": [],
   "source": [],
   "metadata": {
    "collapsed": false,
    "pycharm": {
     "name": "#%%\n",
     "is_executing": false
    }
   }
  },
  {
   "cell_type": "code",
   "execution_count": 11,
   "outputs": [],
   "source": [],
   "metadata": {
    "collapsed": false,
    "pycharm": {
     "name": "#%%\n",
     "is_executing": false
    }
   }
  },
  {
   "cell_type": "code",
   "execution_count": 11,
   "outputs": [],
   "source": [],
   "metadata": {
    "collapsed": false,
    "pycharm": {
     "name": "#%%\n",
     "is_executing": false
    }
   }
  },
  {
   "cell_type": "code",
   "execution_count": 11,
   "outputs": [],
   "source": [],
   "metadata": {
    "collapsed": false,
    "pycharm": {
     "name": "#%%\n",
     "is_executing": false
    }
   }
  }
 ],
 "metadata": {
  "kernelspec": {
   "display_name": "Python 3",
   "language": "python",
   "name": "python3"
  },
  "language_info": {
   "codemirror_mode": {
    "name": "ipython",
    "version": 2
   },
   "file_extension": ".py",
   "mimetype": "text/x-python",
   "name": "python",
   "nbconvert_exporter": "python",
   "pygments_lexer": "ipython2",
   "version": "2.7.6"
  },
  "pycharm": {
   "stem_cell": {
    "cell_type": "raw",
    "source": [],
    "metadata": {
     "collapsed": false
    }
   }
  }
 },
 "nbformat": 4,
 "nbformat_minor": 0
}