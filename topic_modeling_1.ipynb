{
 "cells": [
  {
   "cell_type": "markdown",
   "source": [
    "# Topic Modeling of Reviews for Cellphone and Accessories category on Amazon "
   ],
   "metadata": {
    "collapsed": false
   }
  },
  {
   "cell_type": "code",
   "execution_count": null,
   "outputs": [],
   "source": [
    "import numpy as np\n",
    "from gensim.models import CoherenceModel\n",
    "np.set_printoptions(precision=2, linewidth=80)\n",
    "import warnings\n",
    "from sklearn.feature_extraction.text import TfidfVectorizer\n",
    "from pprint import pprint\n",
    "import gensim\n",
    "import gensim.corpora as corpora\n",
    "import spacy\n",
    "import pyLDAvis.gensim  # don't skip this\n",
    "import numpy as np\n",
    "import utils\n",
    "import pandas as pd\n",
    "from matplotlib import pyplot as plt\n",
    "from wordcloud import WordCloud, STOPWORDS\n",
    "import matplotlib.colors as mcolors\n",
    "from collections import Counter"
   ],
   "metadata": {
    "collapsed": false,
    "pycharm": {
     "name": "#%%\n"
    }
   }
  },
  {
   "cell_type": "code",
   "execution_count": null,
   "outputs": [],
   "source": [
    "warnings.filterwarnings(\"ignore\")\n",
    "nlp = spacy.load('en_vecs', parse=False, tag=False, entity=False)\n",
    "\n",
    "np.set_printoptions(precision=2, linewidth=80)\n",
    "\n",
    "runOptimizeCounts=False"
   ],
   "metadata": {
    "collapsed": false,
    "pycharm": {
     "name": "#%%\n"
    }
   }
  },
  {
   "cell_type": "markdown",
   "source": [
    "# Load normalized data from processed file\n"
   ],
   "metadata": {
    "collapsed": false
   }
  },
  {
   "cell_type": "code",
   "execution_count": null,
   "outputs": [],
   "source": [
    "reviews = utils.readFromDisk('reviews')\n",
    "reviews_tokens = utils.readFromDisk('reviews_tokens')\n",
    "positive_reviews = utils.readFromDisk('reviews_positive')\n",
    "negative_reviews = utils.readFromDisk('reviews_negative')\n",
    "positive_reviews_tokens = utils.readFromDisk('reviews_positive_tokens')\n",
    "negative_reviews_tokens = utils.readFromDisk('reviews_negative_tokens')"
   ],
   "metadata": {
    "collapsed": false,
    "pycharm": {
     "name": "#%%\n"
    }
   }
  },
  {
   "cell_type": "markdown",
   "source": [
    "# Global set up"
   ],
   "metadata": {
    "collapsed": false
   }
  },
  {
   "cell_type": "code",
   "execution_count": null,
   "outputs": [],
   "source": [
    "# Create Dictionary\n",
    "id2word_all = corpora.Dictionary(reviews_tokens)\n",
    "# Term Document Frequency\n",
    "tdf_all = [id2word_all.doc2bow(text) for text in reviews_tokens]\n",
    "\n",
    "# Create Dictionary\n",
    "id2word_positive = corpora.Dictionary(positive_reviews_tokens)\n",
    "# Term Document Frequency\n",
    "tdf_positive = [id2word_positive.doc2bow(text) for text in positive_reviews_tokens]\n",
    "\n",
    "# Create Dictionary\n",
    "id2word_negative = corpora.Dictionary(negative_reviews_tokens)\n",
    "# Term Document Frequency\n",
    "tdf_negative = [id2word_negative.doc2bow(text) for text in negative_reviews_tokens]\n"
   ],
   "metadata": {
    "collapsed": false,
    "pycharm": {
     "name": "#%%\n"
    }
   }
  },
  {
   "cell_type": "code",
   "execution_count": null,
   "outputs": [],
   "source": [
    "def compute_coherence_values(dictionary, corpus, texts, limit, start=2, step=3):\n",
    "    coherence_values = []\n",
    "    model_list = []\n",
    "    for num_topics in range(start, limit, step):\n",
    "        topicmodel=gensim.models.LdaModel(corpus=corpus, id2word=dictionary, num_topics=num_topics)\n",
    "        #gensim.models.ldamulticore.LdaMulticore(corpus=tdf,id2word=id2word,num_topics=num_topics,workers=16)\n",
    "        model_list.append(topicmodel)\n",
    "        coherencemodel = CoherenceModel(model=topicmodel, texts=texts, dictionary=dictionary, coherence='c_v')\n",
    "        coherence_values.append(coherencemodel.get_coherence())\n",
    "\n",
    "    return model_list, coherence_values\n"
   ],
   "metadata": {
    "collapsed": false,
    "pycharm": {
     "name": "#%%\n"
    }
   }
  },
  {
   "cell_type": "code",
   "execution_count": null,
   "outputs": [],
   "source": [
    "def runmodel(dictionary, corpus,texts):\n",
    "    \n",
    "    # View\n",
    "    #print(corpus[:1])\n",
    "    \n",
    "    # Build LDA model\n",
    "    topicmodel = gensim.models.ldamulticore.LdaMulticore(corpus=corpus,id2word=dictionary,num_topics=16,workers=16,\n",
    "                                random_state=100)\n",
    "    #chunksize=1000, passes=100,\n",
    "\n",
    "\n",
    "    # Compute Perplexity\n",
    "    print('\\nPerplexity: ', topicmodel.log_perplexity(corpus))  # a measure of how good the model is. lower the better.\n",
    "\n",
    "    # Compute Coherence Score\n",
    "    coherence_model = CoherenceModel(model=topicmodel, texts=texts, dictionary=dictionary, coherence='c_v')\n",
    "    coherence = coherence_model.get_coherence()\n",
    "    print('\\nCoherence Score: ', coherence)\n",
    "\n",
    "    # Print the Keyword in the 10 topics\n",
    "    pprint(topicmodel.print_topics())\n",
    "\n",
    "    return topicmodel\n",
    "\n",
    "    \n"
   ],
   "metadata": {
    "collapsed": false,
    "pycharm": {
     "name": "#%%\n"
    }
   }
  },
  {
   "cell_type": "code",
   "execution_count": null,
   "outputs": [],
   "source": [
    "def wordcloud(topicmodel):\n",
    "    # Wordcloud of Top N words in each topic\n",
    "    cols = [color for name, color in mcolors.TABLEAU_COLORS.items()]  # more colors: 'mcolors.XKCD_COLORS'\n",
    "    \n",
    "    cloud = WordCloud(stopwords=utils.final_stop_words,\n",
    "                      background_color='white',\n",
    "                      width=2500,\n",
    "                      height=1800,\n",
    "                      max_words=10,\n",
    "                      colormap='tab10',\n",
    "                      color_func=lambda *args, **kwargs: cols[i],\n",
    "                      prefer_horizontal=1.0)\n",
    "    \n",
    "    topics = topicmodel.show_topics(formatted=False)\n",
    "    \n",
    "    fig, axes = plt.subplots(2, 2, figsize=(10,10), sharex=True, sharey=True)\n",
    "    \n",
    "    for i, ax in enumerate(axes.flatten()):\n",
    "        fig.add_subplot(ax)\n",
    "        topic_words = dict(topics[i][1])\n",
    "        cloud.generate_from_frequencies(topic_words, max_font_size=300)\n",
    "        plt.gca().imshow(cloud)\n",
    "        plt.gca().set_title('Topic ' + str(i), fontdict=dict(size=16))\n",
    "        plt.gca().axis('off')\n",
    "    \n",
    "    \n",
    "    plt.subplots_adjust(wspace=0, hspace=0)\n",
    "    plt.axis('off')\n",
    "    plt.margins(x=0, y=0)\n",
    "    plt.tight_layout()\n",
    "    plt.show()\n"
   ],
   "metadata": {
    "collapsed": false,
    "pycharm": {
     "name": "#%%\n"
    }
   }
  },
  {
   "cell_type": "markdown",
   "source": [
    "# Finding optimized number of topics"
   ],
   "metadata": {
    "collapsed": false
   }
  },
  {
   "cell_type": "code",
   "execution_count": null,
   "outputs": [],
   "source": [
    "# find optimal number of topics\n",
    "if(runOptimizeCounts):\n",
    "    model_list, coherence_values = compute_coherence_values(dictionary=id2word_all, corpus=tdf_all, texts=reviews_tokens, start=1, limit=50, step=5)\n",
    "    #visualize\n",
    "    print(model_list)\n",
    "    # Show graph\n",
    "    import matplotlib.pyplot as plt\n",
    "    limit=50; start=1; step=5;\n",
    "    x = range(start, limit, step)\n",
    "    plt.plot(x, coherence_values)\n",
    "    plt.xlabel(\"Num Topics\")\n",
    "    plt.ylabel(\"Coherence score\")\n",
    "    plt.legend((\"coherence_values\"), loc='best')\n",
    "    plt.show()\n",
    "\n",
    "    #print coherence scores\n",
    "    # Print the coherence scores\n",
    "    for m, cv in zip(x, coherence_values):\n",
    "        print(\"Num Topics =\", m, \" has Coherence Value of\", round(cv, 4))\n",
    "    "
   ],
   "metadata": {
    "collapsed": false,
    "pycharm": {
     "name": "#%%\n"
    }
   }
  },
  {
   "cell_type": "markdown",
   "source": [
    "# Topic Modeling on all reviews"
   ],
   "metadata": {
    "collapsed": false
   }
  },
  {
   "cell_type": "code",
   "execution_count": null,
   "outputs": [],
   "source": [
    "\n",
    "    topicmodel =runmodel(id2word_all,tdf_all,reviews_tokens)\n"
   ],
   "metadata": {
    "collapsed": false,
    "pycharm": {
     "name": "#%%\n"
    }
   }
  },
  {
   "cell_type": "code",
   "execution_count": null,
   "outputs": [],
   "source": [
    "    # Visualize the topics as clouds\n",
    "    wordcloud(topicmodel)"
   ],
   "metadata": {
    "collapsed": false,
    "pycharm": {
     "name": "#%%\n"
    }
   }
  },
  {
   "cell_type": "code",
   "execution_count": null,
   "outputs": [],
   "source": [
    "    #show keywords by topic\n",
    "    pyLDAvis.enable_notebook()\n",
    "    vis = pyLDAvis.gensim.prepare(topicmodel, tdf_all, id2word_all,mds='mmds')\n",
    "    \n",
    "    vis\n"
   ],
   "metadata": {
    "collapsed": false,
    "pycharm": {
     "name": "#%%\n"
    }
   }
  },
  {
   "cell_type": "markdown",
   "source": [
    "# Topic Modeling on positive reviews"
   ],
   "metadata": {
    "collapsed": false
   }
  },
  {
   "cell_type": "code",
   "execution_count": null,
   "outputs": [],
   "source": [
    "\n",
    "    topicmodel =runmodel(id2word_positive,tdf_positive,positive_reviews_tokens)\n"
   ],
   "metadata": {
    "collapsed": false,
    "pycharm": {
     "name": "#%%\n"
    }
   }
  },
  {
   "cell_type": "code",
   "execution_count": null,
   "outputs": [],
   "source": [
    "    # Visualize the topics as clouds\n",
    "    wordcloud(topicmodel)"
   ],
   "metadata": {
    "collapsed": false,
    "pycharm": {
     "name": "#%%\n"
    }
   }
  },
  {
   "cell_type": "code",
   "execution_count": null,
   "outputs": [],
   "source": [
    "    #show keywords by topic\n",
    "    pyLDAvis.enable_notebook()\n",
    "    vis = pyLDAvis.gensim.prepare(topicmodel, tdf_positive, id2word_positive,mds='mmds')\n",
    "    \n",
    "    vis\n"
   ],
   "metadata": {
    "collapsed": false,
    "pycharm": {
     "name": "#%%\n"
    }
   }
  },
  {
   "cell_type": "markdown",
   "source": [
    "# Topic Modeling on negative reviews"
   ],
   "metadata": {
    "collapsed": false
   }
  },
  {
   "cell_type": "code",
   "execution_count": null,
   "outputs": [],
   "source": [
    "\n",
    "    topicmodel =runmodel(id2word_negative,tdf_positive,negative_reviews_tokens)\n"
   ],
   "metadata": {
    "collapsed": false,
    "pycharm": {
     "name": "#%%\n"
    }
   }
  },
  {
   "cell_type": "code",
   "source": [
    "    # Visualize the topics as clouds\n",
    "    wordcloud(topicmodel)"
   ],
   "metadata": {
    "collapsed": false,
    "pycharm": {
     "name": "#%%\n"
    }
   },
   "execution_count": null,
   "outputs": []
  },
  {
   "cell_type": "code",
   "execution_count": null,
   "outputs": [],
   "source": [
    "    #show keywords by topic\n",
    "    pyLDAvis.enable_notebook()\n",
    "    vis = pyLDAvis.gensim.prepare(topicmodel, tdf_negative, id2word_negative,mds='mmds')\n",
    "    \n",
    "    vis\n"
   ],
   "metadata": {
    "collapsed": false,
    "pycharm": {
     "name": "#%%\n"
    }
   }
  }
 ],
 "metadata": {
  "kernelspec": {
   "display_name": "Python 3",
   "language": "python",
   "name": "python3"
  },
  "language_info": {
   "codemirror_mode": {
    "name": "ipython",
    "version": 2
   },
   "file_extension": ".py",
   "mimetype": "text/x-python",
   "name": "python",
   "nbconvert_exporter": "python",
   "pygments_lexer": "ipython2",
   "version": "2.7.6"
  },
  "pycharm": {
   "stem_cell": {
    "cell_type": "raw",
    "source": [],
    "metadata": {
     "collapsed": false
    }
   }
  }
 },
 "nbformat": 4,
 "nbformat_minor": 0
}