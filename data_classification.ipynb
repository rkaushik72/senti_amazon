{
 "cells": [
  {
   "cell_type": "code",
   "execution_count": 1,
   "outputs": [
    {
     "name": "stderr",
     "text": [
      "Using TensorFlow backend.\n"
     ],
     "output_type": "stream"
    }
   ],
   "source": [
    "import sqlite3\n",
    "\n",
    "import numpy as np\n",
    "import pandas as pd\n",
    "from gensim.models import Doc2Vec\n",
    "from nltk import ToktokTokenizer\n",
    "from sklearn.feature_extraction.text import CountVectorizer, TfidfVectorizer\n",
    "import pandas as pd\n",
    "import numpy as np\n",
    "import model_evaluation_utils as meu\n",
    "from multiprocessing import Pool\n",
    "from sklearn.feature_extraction.text import CountVectorizer, TfidfVectorizer\n",
    "from sklearn.linear_model import SGDClassifier, LogisticRegression\n",
    "import gensim\n",
    "import keras\n",
    "from keras.models import Sequential\n",
    "from keras.layers import Dropout, Activation, Dense, BatchNormalization\n",
    "from sklearn.preprocessing import LabelEncoder\n",
    "from keras import Sequential\n",
    "from keras.layers import Activation, Dense, Dropout\n",
    "from IPython.display import SVG\n",
    "from keras.utils.vis_utils import model_to_dot\n",
    "np.set_printoptions(precision=2, linewidth=80)\n",
    "from nltk.tokenize.toktok import ToktokTokenizer\n",
    "import spacy\n",
    "nlp = spacy.load('en_vecs', parse=False, tag=False, entity=False)\n"
   ],
   "metadata": {
    "collapsed": false,
    "pycharm": {
     "name": "#%%\n",
     "is_executing": false
    }
   }
  },
  {
   "cell_type": "code",
   "execution_count": 2,
   "outputs": [],
   "source": [
    "from sklearn.linear_model import LogisticRegression, SGDClassifier\n",
    "con1 = sqlite3.connect('./data/amazon_cellreviews.db')\n",
    "#check database\n",
    "sql = \" SELECT * FROM reviews\"\n",
    "dfdb = pd.read_sql_query(sql, con1)\n",
    "con1.close()"
   ],
   "metadata": {
    "collapsed": false,
    "pycharm": {
     "name": "#%%\n",
     "is_executing": false
    }
   }
  },
  {
   "cell_type": "code",
   "execution_count": 3,
   "outputs": [
    {
     "name": "stdout",
     "text": [
      "Total Rows: 1030176",
      "\n",
      "Sample of processed dataset. Notice the column named Clean_Review",
      "\n"
     ],
     "output_type": "stream"
    },
    {
     "data": {
      "text/plain": "    index  overall  verified      reviewerID        asin  \\\n0       0      5.0         1  A24E3SXTC62LJI  7508492919   \n1       1      5.0         1  A269FLZCB4GIPV  7508492919   \n2       7      5.0         1  A31OVFL91BCKXG  7508492919   \n3      11      5.0         1  A2ZB7KGUSBR9P3  7508492919   \n4      14      5.0         1  A18U23JWTMQX5C  7508492919   \n5      15      5.0         1  A1JQUCTFM4UKMQ  7508492919   \n6      18      5.0         1  A29KSIE8BKYVQN  7508492919   \n7      19      5.0         1  A2CQO0FORCTC2R  7508492919   \n8      21      5.0         1  A2ROMLP8COJ6JA  7508492919   \n9      22      5.0         1  A23MRCVKI8M8OY  7508492919   \n10     25      5.0         1  A1TE996LYGSJYW  7508492919   \n11     28      5.0         1  A322P08DWO7GD0  7508492919   \n12     29      5.0         1  A372K41F91T9CD  7508492919   \n13     32      5.0         1  A2KCKROPJ72AE3  7508492919   \n14     33      5.0         1  A26G0P1P4Q7DVE  7508492919   \n15     34      5.0         1  A3HU46Z3Y8CMDT  7508492919   \n16     39      5.0         1  A22FTS797LWDIK  7508492919   \n17     41      5.0         1   AG176YH633HXF  7508492919   \n18     42      5.0         1  A1SAZP6P8VQ0E6  7508492919   \n19     43      5.0         1  A3K3I77ZWF65RO  7508492919   \n\n            reviewerName                                         reviewText  \\\n0       Claudia Valdivia  Looks even better in person. Be careful to not...   \n1            sarah ponce  When you don't want to spend a whole lot of ca...   \n2   Ashley Nicole Miller  It is a very cute case. None of the jewels hav...   \n3               E. Bryce  Another great product that my daughter she use...   \n4           KaitlynxO625  Beautiful quality and outstanding product! Eve...   \n5            M. Antillon  It is such a good case for a low price. I have...   \n6             Janine  B.  Super durable and I get compliments on it dail...   \n7                  Sulli  I have used this case for a couple weeks & so ...   \n8     Mary Beth Anderson  I chose this case because it is so beautiful. ...   \n9                   T...  Of all my cases this is the one that I have on...   \n10                 Ldiaz  here is another I love as well!!!, I am so hap...   \n11                   AKR  This case is soo super pretty! This case may l...   \n12          teri illchen  This is a great case if you love the bling.  I...   \n13         Doni Washburn  Ive never had any problems with anything ... i...   \n14                   CAF  BEAUTIFUL.  This instantly transforms your IPh...   \n15               Adnoral  It looks like I actually bedazzled my phone.  ...   \n16        Corinne Ubence  It is so cute!  Love the bling and love the pi...   \n17                  RENE  THIS IS A VERY PRETTY 4S CELL PHONE CASE ANS I...   \n18              Sunshine  I ordered this case for my daughter for Christ...   \n19             Christine  soooo cute! I got many complaints when I had t...   \n\n                                            summary  unixReviewTime  \\\n0               Can't stop won't stop looking at it      1407110400   \n1                                                 1      1392163200   \n2                                         Cute case      1389916800   \n3                         Bling bling for iPhone 4S      1382486400   \n4                     I can't stop using this case!      1378771200   \n5                                         I love it      1377648000   \n6                                         Good case      1370304000   \n7                                      very sparkly      1370217600   \n8                                         Beautiful      1367625600   \n9                                          pink bow      1366761600   \n10                         love this phone cover!!!      1365206400   \n11                                        BEAUTIFUL      1364256000   \n12                                       Love it...      1361923200   \n13                                             good      1361145600   \n14  3d BLING CRYSTAL BOW TRANSPARENT CAE FOR IPHONE      1360454400   \n15                                   Invisible case      1359763200   \n16                                  Love this case!      1358208000   \n17                                    4S PHONE CASE      1358035200   \n18                                      Loves it!!!      1357862400   \n19                                          so cute      1357776000   \n\n                                         Clean_Review  vote  sentiment  \\\n0   look even well person careful drop phone often...  None          1   \n1   want spend whole lot cash want great deal shop...  None          1   \n2   it cute case none jewel fall bow glue well com...  None          1   \n3   another great product daughter use long time i...  None          1   \n4   beautiful quality outstanding product everyone...  None          1   \n5   it good case low price i right never problem b...  None          1   \n6   super durable i get compliment daily i find on...  None          1   \n7   i use case couple week far great little bling ...  None          1   \n8   i choose case beautiful everyone like ask coul...  None          1   \n9   case one i phone right i love love love fit gr...  None          1   \n10  another i love well i happy phone cover i get ...  None          1   \n11  case so super pretty case may look breakable s...  None          1   \n12  great case love bling i get lot compliment i u...  None          1   \n13  i never problem anything damage send new miss ...     2          1   \n14  beautiful instantly transform iphone thing bea...  None          1   \n15  it look like i actually bedazzle phone case we...  None          1   \n16  it cute love bling love pink it cute case i ge...  None          1   \n17       pretty cell phone case ans pretty thank rene  None          1   \n18  i order case daughter christmas get iphone chr...  None          1   \n19  sooo cute i get many complaint i cover i take ...  None          1   \n\n            Review_Time  Month  Year  \n0   2014-08-04 00:00:00      8  2014  \n1   2014-02-12 00:00:00      2  2014  \n2   2014-01-17 00:00:00      1  2014  \n3   2013-10-23 00:00:00     10  2013  \n4   2013-09-10 00:00:00      9  2013  \n5   2013-08-28 00:00:00      8  2013  \n6   2013-06-04 00:00:00      6  2013  \n7   2013-06-03 00:00:00      6  2013  \n8   2013-05-04 00:00:00      5  2013  \n9   2013-04-24 00:00:00      4  2013  \n10  2013-04-06 00:00:00      4  2013  \n11  2013-03-26 00:00:00      3  2013  \n12  2013-02-27 00:00:00      2  2013  \n13  2013-02-18 00:00:00      2  2013  \n14  2013-02-10 00:00:00      2  2013  \n15  2013-02-02 00:00:00      2  2013  \n16  2013-01-15 00:00:00      1  2013  \n17  2013-01-13 00:00:00      1  2013  \n18  2013-01-11 00:00:00      1  2013  \n19  2013-01-10 00:00:00      1  2013  ",
      "text/html": "<div>\n<style scoped>\n    .dataframe tbody tr th:only-of-type {\n        vertical-align: middle;\n    }\n\n    .dataframe tbody tr th {\n        vertical-align: top;\n    }\n\n    .dataframe thead th {\n        text-align: right;\n    }\n</style>\n<table border=\"1\" class=\"dataframe\">\n  <thead>\n    <tr style=\"text-align: right;\">\n      <th></th>\n      <th>index</th>\n      <th>overall</th>\n      <th>verified</th>\n      <th>reviewerID</th>\n      <th>asin</th>\n      <th>reviewerName</th>\n      <th>reviewText</th>\n      <th>summary</th>\n      <th>unixReviewTime</th>\n      <th>Clean_Review</th>\n      <th>vote</th>\n      <th>sentiment</th>\n      <th>Review_Time</th>\n      <th>Month</th>\n      <th>Year</th>\n    </tr>\n  </thead>\n  <tbody>\n    <tr>\n      <th>0</th>\n      <td>0</td>\n      <td>5.0</td>\n      <td>1</td>\n      <td>A24E3SXTC62LJI</td>\n      <td>7508492919</td>\n      <td>Claudia Valdivia</td>\n      <td>Looks even better in person. Be careful to not...</td>\n      <td>Can't stop won't stop looking at it</td>\n      <td>1407110400</td>\n      <td>look even well person careful drop phone often...</td>\n      <td>None</td>\n      <td>1</td>\n      <td>2014-08-04 00:00:00</td>\n      <td>8</td>\n      <td>2014</td>\n    </tr>\n    <tr>\n      <th>1</th>\n      <td>1</td>\n      <td>5.0</td>\n      <td>1</td>\n      <td>A269FLZCB4GIPV</td>\n      <td>7508492919</td>\n      <td>sarah ponce</td>\n      <td>When you don't want to spend a whole lot of ca...</td>\n      <td>1</td>\n      <td>1392163200</td>\n      <td>want spend whole lot cash want great deal shop...</td>\n      <td>None</td>\n      <td>1</td>\n      <td>2014-02-12 00:00:00</td>\n      <td>2</td>\n      <td>2014</td>\n    </tr>\n    <tr>\n      <th>2</th>\n      <td>7</td>\n      <td>5.0</td>\n      <td>1</td>\n      <td>A31OVFL91BCKXG</td>\n      <td>7508492919</td>\n      <td>Ashley Nicole Miller</td>\n      <td>It is a very cute case. None of the jewels hav...</td>\n      <td>Cute case</td>\n      <td>1389916800</td>\n      <td>it cute case none jewel fall bow glue well com...</td>\n      <td>None</td>\n      <td>1</td>\n      <td>2014-01-17 00:00:00</td>\n      <td>1</td>\n      <td>2014</td>\n    </tr>\n    <tr>\n      <th>3</th>\n      <td>11</td>\n      <td>5.0</td>\n      <td>1</td>\n      <td>A2ZB7KGUSBR9P3</td>\n      <td>7508492919</td>\n      <td>E. Bryce</td>\n      <td>Another great product that my daughter she use...</td>\n      <td>Bling bling for iPhone 4S</td>\n      <td>1382486400</td>\n      <td>another great product daughter use long time i...</td>\n      <td>None</td>\n      <td>1</td>\n      <td>2013-10-23 00:00:00</td>\n      <td>10</td>\n      <td>2013</td>\n    </tr>\n    <tr>\n      <th>4</th>\n      <td>14</td>\n      <td>5.0</td>\n      <td>1</td>\n      <td>A18U23JWTMQX5C</td>\n      <td>7508492919</td>\n      <td>KaitlynxO625</td>\n      <td>Beautiful quality and outstanding product! Eve...</td>\n      <td>I can't stop using this case!</td>\n      <td>1378771200</td>\n      <td>beautiful quality outstanding product everyone...</td>\n      <td>None</td>\n      <td>1</td>\n      <td>2013-09-10 00:00:00</td>\n      <td>9</td>\n      <td>2013</td>\n    </tr>\n    <tr>\n      <th>5</th>\n      <td>15</td>\n      <td>5.0</td>\n      <td>1</td>\n      <td>A1JQUCTFM4UKMQ</td>\n      <td>7508492919</td>\n      <td>M. Antillon</td>\n      <td>It is such a good case for a low price. I have...</td>\n      <td>I love it</td>\n      <td>1377648000</td>\n      <td>it good case low price i right never problem b...</td>\n      <td>None</td>\n      <td>1</td>\n      <td>2013-08-28 00:00:00</td>\n      <td>8</td>\n      <td>2013</td>\n    </tr>\n    <tr>\n      <th>6</th>\n      <td>18</td>\n      <td>5.0</td>\n      <td>1</td>\n      <td>A29KSIE8BKYVQN</td>\n      <td>7508492919</td>\n      <td>Janine  B.</td>\n      <td>Super durable and I get compliments on it dail...</td>\n      <td>Good case</td>\n      <td>1370304000</td>\n      <td>super durable i get compliment daily i find on...</td>\n      <td>None</td>\n      <td>1</td>\n      <td>2013-06-04 00:00:00</td>\n      <td>6</td>\n      <td>2013</td>\n    </tr>\n    <tr>\n      <th>7</th>\n      <td>19</td>\n      <td>5.0</td>\n      <td>1</td>\n      <td>A2CQO0FORCTC2R</td>\n      <td>7508492919</td>\n      <td>Sulli</td>\n      <td>I have used this case for a couple weeks &amp; so ...</td>\n      <td>very sparkly</td>\n      <td>1370217600</td>\n      <td>i use case couple week far great little bling ...</td>\n      <td>None</td>\n      <td>1</td>\n      <td>2013-06-03 00:00:00</td>\n      <td>6</td>\n      <td>2013</td>\n    </tr>\n    <tr>\n      <th>8</th>\n      <td>21</td>\n      <td>5.0</td>\n      <td>1</td>\n      <td>A2ROMLP8COJ6JA</td>\n      <td>7508492919</td>\n      <td>Mary Beth Anderson</td>\n      <td>I chose this case because it is so beautiful. ...</td>\n      <td>Beautiful</td>\n      <td>1367625600</td>\n      <td>i choose case beautiful everyone like ask coul...</td>\n      <td>None</td>\n      <td>1</td>\n      <td>2013-05-04 00:00:00</td>\n      <td>5</td>\n      <td>2013</td>\n    </tr>\n    <tr>\n      <th>9</th>\n      <td>22</td>\n      <td>5.0</td>\n      <td>1</td>\n      <td>A23MRCVKI8M8OY</td>\n      <td>7508492919</td>\n      <td>T...</td>\n      <td>Of all my cases this is the one that I have on...</td>\n      <td>pink bow</td>\n      <td>1366761600</td>\n      <td>case one i phone right i love love love fit gr...</td>\n      <td>None</td>\n      <td>1</td>\n      <td>2013-04-24 00:00:00</td>\n      <td>4</td>\n      <td>2013</td>\n    </tr>\n    <tr>\n      <th>10</th>\n      <td>25</td>\n      <td>5.0</td>\n      <td>1</td>\n      <td>A1TE996LYGSJYW</td>\n      <td>7508492919</td>\n      <td>Ldiaz</td>\n      <td>here is another I love as well!!!, I am so hap...</td>\n      <td>love this phone cover!!!</td>\n      <td>1365206400</td>\n      <td>another i love well i happy phone cover i get ...</td>\n      <td>None</td>\n      <td>1</td>\n      <td>2013-04-06 00:00:00</td>\n      <td>4</td>\n      <td>2013</td>\n    </tr>\n    <tr>\n      <th>11</th>\n      <td>28</td>\n      <td>5.0</td>\n      <td>1</td>\n      <td>A322P08DWO7GD0</td>\n      <td>7508492919</td>\n      <td>AKR</td>\n      <td>This case is soo super pretty! This case may l...</td>\n      <td>BEAUTIFUL</td>\n      <td>1364256000</td>\n      <td>case so super pretty case may look breakable s...</td>\n      <td>None</td>\n      <td>1</td>\n      <td>2013-03-26 00:00:00</td>\n      <td>3</td>\n      <td>2013</td>\n    </tr>\n    <tr>\n      <th>12</th>\n      <td>29</td>\n      <td>5.0</td>\n      <td>1</td>\n      <td>A372K41F91T9CD</td>\n      <td>7508492919</td>\n      <td>teri illchen</td>\n      <td>This is a great case if you love the bling.  I...</td>\n      <td>Love it...</td>\n      <td>1361923200</td>\n      <td>great case love bling i get lot compliment i u...</td>\n      <td>None</td>\n      <td>1</td>\n      <td>2013-02-27 00:00:00</td>\n      <td>2</td>\n      <td>2013</td>\n    </tr>\n    <tr>\n      <th>13</th>\n      <td>32</td>\n      <td>5.0</td>\n      <td>1</td>\n      <td>A2KCKROPJ72AE3</td>\n      <td>7508492919</td>\n      <td>Doni Washburn</td>\n      <td>Ive never had any problems with anything ... i...</td>\n      <td>good</td>\n      <td>1361145600</td>\n      <td>i never problem anything damage send new miss ...</td>\n      <td>2</td>\n      <td>1</td>\n      <td>2013-02-18 00:00:00</td>\n      <td>2</td>\n      <td>2013</td>\n    </tr>\n    <tr>\n      <th>14</th>\n      <td>33</td>\n      <td>5.0</td>\n      <td>1</td>\n      <td>A26G0P1P4Q7DVE</td>\n      <td>7508492919</td>\n      <td>CAF</td>\n      <td>BEAUTIFUL.  This instantly transforms your IPh...</td>\n      <td>3d BLING CRYSTAL BOW TRANSPARENT CAE FOR IPHONE</td>\n      <td>1360454400</td>\n      <td>beautiful instantly transform iphone thing bea...</td>\n      <td>None</td>\n      <td>1</td>\n      <td>2013-02-10 00:00:00</td>\n      <td>2</td>\n      <td>2013</td>\n    </tr>\n    <tr>\n      <th>15</th>\n      <td>34</td>\n      <td>5.0</td>\n      <td>1</td>\n      <td>A3HU46Z3Y8CMDT</td>\n      <td>7508492919</td>\n      <td>Adnoral</td>\n      <td>It looks like I actually bedazzled my phone.  ...</td>\n      <td>Invisible case</td>\n      <td>1359763200</td>\n      <td>it look like i actually bedazzle phone case we...</td>\n      <td>None</td>\n      <td>1</td>\n      <td>2013-02-02 00:00:00</td>\n      <td>2</td>\n      <td>2013</td>\n    </tr>\n    <tr>\n      <th>16</th>\n      <td>39</td>\n      <td>5.0</td>\n      <td>1</td>\n      <td>A22FTS797LWDIK</td>\n      <td>7508492919</td>\n      <td>Corinne Ubence</td>\n      <td>It is so cute!  Love the bling and love the pi...</td>\n      <td>Love this case!</td>\n      <td>1358208000</td>\n      <td>it cute love bling love pink it cute case i ge...</td>\n      <td>None</td>\n      <td>1</td>\n      <td>2013-01-15 00:00:00</td>\n      <td>1</td>\n      <td>2013</td>\n    </tr>\n    <tr>\n      <th>17</th>\n      <td>41</td>\n      <td>5.0</td>\n      <td>1</td>\n      <td>AG176YH633HXF</td>\n      <td>7508492919</td>\n      <td>RENE</td>\n      <td>THIS IS A VERY PRETTY 4S CELL PHONE CASE ANS I...</td>\n      <td>4S PHONE CASE</td>\n      <td>1358035200</td>\n      <td>pretty cell phone case ans pretty thank rene</td>\n      <td>None</td>\n      <td>1</td>\n      <td>2013-01-13 00:00:00</td>\n      <td>1</td>\n      <td>2013</td>\n    </tr>\n    <tr>\n      <th>18</th>\n      <td>42</td>\n      <td>5.0</td>\n      <td>1</td>\n      <td>A1SAZP6P8VQ0E6</td>\n      <td>7508492919</td>\n      <td>Sunshine</td>\n      <td>I ordered this case for my daughter for Christ...</td>\n      <td>Loves it!!!</td>\n      <td>1357862400</td>\n      <td>i order case daughter christmas get iphone chr...</td>\n      <td>None</td>\n      <td>1</td>\n      <td>2013-01-11 00:00:00</td>\n      <td>1</td>\n      <td>2013</td>\n    </tr>\n    <tr>\n      <th>19</th>\n      <td>43</td>\n      <td>5.0</td>\n      <td>1</td>\n      <td>A3K3I77ZWF65RO</td>\n      <td>7508492919</td>\n      <td>Christine</td>\n      <td>soooo cute! I got many complaints when I had t...</td>\n      <td>so cute</td>\n      <td>1357776000</td>\n      <td>sooo cute i get many complaint i cover i take ...</td>\n      <td>None</td>\n      <td>1</td>\n      <td>2013-01-10 00:00:00</td>\n      <td>1</td>\n      <td>2013</td>\n    </tr>\n  </tbody>\n</table>\n</div>"
     },
     "metadata": {},
     "output_type": "execute_result",
     "execution_count": 3
    }
   ],
   "source": [
    "print('Total Rows: ' + str(len(dfdb)))\n",
    "print('Sample of processed dataset. Notice the column named Clean_Review');\n",
    "dfdb.head(20)\n"
   ],
   "metadata": {
    "collapsed": false,
    "pycharm": {
     "name": "#%%\n",
     "is_executing": false
    }
   }
  },
  {
   "cell_type": "markdown",
   "source": [
    "# ============================================\n",
    "# Prune for local development\n",
    "# ============================================"
   ],
   "metadata": {
    "collapsed": false
   }
  },
  {
   "cell_type": "code",
   "execution_count": 4,
   "outputs": [
    {
     "name": "stdout",
     "text": [
      "Total Rows: 8000",
      "\n"
     ],
     "output_type": "stream"
    }
   ],
   "source": [
    "trial=5000\n",
    "\n",
    "#subset for local runs, will remove on final runs or on server\n",
    "five=(dfdb['overall'] == 5.0)\n",
    "four=(dfdb['overall'] >= 4.0) & (dfdb['overall'] < 5.0)\n",
    "three=(dfdb['overall'] == 3.0) & (dfdb['overall'] < 4.0)\n",
    "two=(dfdb['overall'] == 2.0) & (dfdb['overall'] < 3.0)\n",
    "one=(dfdb['overall'] == 1.0) & (dfdb['overall'] < 2.0)\n",
    "zero=(dfdb['overall'] == 0.0) & (dfdb['overall'] < 1.0)\n",
    "\n",
    "df=pd.DataFrame(columns = dfdb.columns)\n",
    "if(trial>0):\n",
    "    df=dfdb[five].iloc[0:trial]\n",
    "    df=df.append(dfdb[four].iloc[0:trial])\n",
    "    df=df.append(dfdb[two].iloc[0:trial])\n",
    "    df=df.append(dfdb[one].iloc[0:trial])\n",
    "    df=df.append(dfdb[zero].iloc[0:trial])\n",
    "else:\n",
    "    df=dfdb[five]\n",
    "    df=df.append(dfdb[four])\n",
    "    df=df.append(dfdb[two])\n",
    "    df=df.append(dfdb[one])\n",
    "    df=df.append(dfdb[zero])\n",
    "    \n",
    "print('Total Rows: ' + str(len(df)))\n",
    "# Sample of Unprocessed reviews pruned for local development\n",
    "df.head(10)\n",
    "\n",
    "#randomize dataset\n",
    "from sklearn.utils import shuffle\n",
    "df = shuffle(df)"
   ],
   "metadata": {
    "collapsed": false,
    "pycharm": {
     "name": "#%%\n",
     "is_executing": false
    }
   }
  },
  {
   "cell_type": "code",
   "execution_count": 5,
   "outputs": [],
   "source": [
    "# take a peek at the data\n",
    "reviews = np.array(df['Clean_Review'])\n",
    "sentiments = np.array(df['sentiment'])\n",
    "\n",
    "cutoff=round(len(df)*0.75)\n",
    "# build train and test datasets\n",
    "train_reviews = reviews[:cutoff]\n",
    "train_sentiments = sentiments[:cutoff]\n",
    "test_reviews = reviews[cutoff:]\n",
    "test_sentiments = sentiments[cutoff:]"
   ],
   "metadata": {
    "collapsed": false,
    "pycharm": {
     "name": "#%%\n",
     "is_executing": false
    }
   }
  },
  {
   "cell_type": "markdown",
   "source": [
    "# Traditional Supervised Machine Learning Models"
   ],
   "metadata": {
    "collapsed": false
   }
  },
  {
   "cell_type": "markdown",
   "source": [
    "## Feature Engineering"
   ],
   "metadata": {
    "collapsed": false
   }
  },
  {
   "cell_type": "code",
   "execution_count": 6,
   "outputs": [],
   "source": [
    "\n",
    "# build BOW features on train reviews\n",
    "cv = CountVectorizer(binary=False, min_df=0.0, max_df=1.0, ngram_range=(1,2))\n",
    "cv_train_features = cv.fit_transform(train_reviews)\n",
    "# build ngram features on train reviews\n",
    "cvn = CountVectorizer(binary=False, min_df=0.0, max_df=1.0, ngram_range=(2,2))\n",
    "cvn_train_features = cvn.fit_transform(train_reviews)\n",
    "# build TFIDF features on train reviews\n",
    "tv = TfidfVectorizer(use_idf=True, min_df=0.0, max_df=1.0, ngram_range=(1,2),\n",
    "                     sublinear_tf=True)\n",
    "tv_train_features = tv.fit_transform(train_reviews)"
   ],
   "metadata": {
    "collapsed": false,
    "pycharm": {
     "name": "#%%\n",
     "is_executing": false
    }
   }
  },
  {
   "cell_type": "code",
   "execution_count": 7,
   "outputs": [],
   "source": [
    "# transform test reviews into features\n",
    "cv_test_features = cv.transform(test_reviews)\n",
    "cvn_test_features = cvn.transform(test_reviews)\n",
    "tv_test_features = tv.transform(test_reviews)\n"
   ],
   "metadata": {
    "collapsed": false,
    "pycharm": {
     "name": "#%%\n",
     "is_executing": false
    }
   }
  },
  {
   "cell_type": "markdown",
   "source": [
    "## Model Training, Prediction and Performance Evaluation"
   ],
   "metadata": {
    "collapsed": false
   }
  },
  {
   "cell_type": "code",
   "execution_count": 8,
   "outputs": [],
   "source": [
    "svm = SGDClassifier(loss='hinge', max_iter=100)\n"
   ],
   "metadata": {
    "collapsed": false,
    "pycharm": {
     "name": "#%%\n",
     "is_executing": false
    }
   }
  },
  {
   "cell_type": "code",
   "execution_count": 9,
   "outputs": [
    {
     "name": "stdout",
     "text": [
      "BOW model:> Train features shape:",
      " ",
      "(6000, 159374)",
      " ",
      " Test features shape:",
      " ",
      "(2000, 159374)",
      "\n",
      "Model Performance metrics:",
      "\n",
      "------------------------------",
      "\n",
      "Accuracy:",
      " ",
      "0.841",
      "\n",
      "Precision:",
      " ",
      "0.841",
      "\n",
      "Recall:",
      " ",
      "0.841",
      "\n",
      "F1 Score:",
      " ",
      "0.841",
      "\n",
      "\nModel Classification report:",
      "\n",
      "------------------------------",
      "\n",
      "              precision    recall  f1-score   support\n\n           1       0.84      0.84      0.84      1012\n           0       0.84      0.84      0.84       988\n\n    accuracy                           0.84      2000\n   macro avg       0.84      0.84      0.84      2000\nweighted avg       0.84      0.84      0.84      2000\n",
      "\n",
      "\nPrediction Confusion Matrix:",
      "\n",
      "------------------------------",
      "\n",
      "          Predicted:     \n                   1    0\nActual: 1        854  158\n        0        160  828",
      "\n"
     ],
     "output_type": "stream"
    },
    {
     "name": "stderr",
     "text": [
      "C:\\Users\\rkaushik\\PycharmProjects\\senti_amazon\\model_evaluation_utils.py:60: FutureWarning: the 'labels' keyword is deprecated, use 'codes' instead\n  labels=level_labels),\n",
      "C:\\Users\\rkaushik\\PycharmProjects\\senti_amazon\\model_evaluation_utils.py:62: FutureWarning: the 'labels' keyword is deprecated, use 'codes' instead\n  labels=level_labels))\n"
     ],
     "output_type": "stream"
    }
   ],
   "source": [
    "svm_bow_predictions = meu.train_predict_model(classifier=svm, train_features=cv_train_features, \n",
    "                                              train_labels=train_sentiments,test_features=cv_test_features, \n",
    "                                              test_labels=test_sentiments)\n",
    "print('BOW model:> Train features shape:', cv_train_features.shape, ' Test features shape:', cv_test_features.shape)\n",
    "meu.display_model_performance_metrics(true_labels=test_sentiments, predicted_labels=svm_bow_predictions,classes=[1, 0])"
   ],
   "metadata": {
    "collapsed": false,
    "pycharm": {
     "name": "#%%\n",
     "is_executing": false
    }
   }
  },
  {
   "cell_type": "code",
   "execution_count": 10,
   "outputs": [
    {
     "name": "stdout",
     "text": [
      "NGRAM model:> Train features shape:",
      " ",
      "(6000, 148159)",
      " ",
      " Test features shape:",
      " ",
      "(2000, 148159)",
      "\n",
      "Model Performance metrics:",
      "\n",
      "------------------------------",
      "\n",
      "Accuracy:",
      " ",
      "0.7775",
      "\n",
      "Precision:",
      " ",
      "0.7822",
      "\n",
      "Recall:",
      " ",
      "0.7775",
      "\n",
      "F1 Score:",
      " ",
      "0.7763",
      "\n",
      "\nModel Classification report:",
      "\n",
      "------------------------------",
      "\n",
      "              precision    recall  f1-score   support\n\n           1       0.75      0.85      0.79      1012\n           0       0.82      0.71      0.76       988\n\n    accuracy                           0.78      2000\n   macro avg       0.78      0.78      0.78      2000\nweighted avg       0.78      0.78      0.78      2000\n",
      "\n",
      "\nPrediction Confusion Matrix:",
      "\n",
      "------------------------------",
      "\n",
      "          Predicted:     \n                   1    0\nActual: 1        856  156\n        0        289  699",
      "\n"
     ],
     "output_type": "stream"
    }
   ],
   "source": [
    "svm_ngram_predictions = meu.train_predict_model(classifier=svm, train_features=cvn_train_features, train_labels=train_sentiments,test_features=cvn_test_features, test_labels=test_sentiments)\n",
    "print('NGRAM model:> Train features shape:', cvn_train_features.shape, ' Test features shape:', cvn_test_features.shape)\n",
    "meu.display_model_performance_metrics(true_labels=test_sentiments, predicted_labels=svm_ngram_predictions,classes=[1, 0])\n",
    "\n"
   ],
   "metadata": {
    "collapsed": false,
    "pycharm": {
     "name": "#%%\n",
     "is_executing": false
    }
   }
  },
  {
   "cell_type": "code",
   "execution_count": 11,
   "outputs": [
    {
     "name": "stdout",
     "text": [
      "TFIDF model:> Train features shape:",
      " ",
      "(6000, 159374)",
      " ",
      " Test features shape:",
      " ",
      "(2000, 159374)",
      "\n",
      "Model Performance metrics:",
      "\n",
      "------------------------------",
      "\n",
      "Accuracy:",
      " ",
      "0.86",
      "\n",
      "Precision:",
      " ",
      "0.8604",
      "\n",
      "Recall:",
      " ",
      "0.86",
      "\n",
      "F1 Score:",
      " ",
      "0.8599",
      "\n",
      "\nModel Classification report:",
      "\n",
      "------------------------------",
      "\n",
      "              precision    recall  f1-score   support\n\n           1       0.85      0.88      0.86      1012\n           0       0.87      0.84      0.86       988\n\n    accuracy                           0.86      2000\n   macro avg       0.86      0.86      0.86      2000\nweighted avg       0.86      0.86      0.86      2000\n",
      "\n",
      "\nPrediction Confusion Matrix:",
      "\n",
      "------------------------------",
      "\n",
      "          Predicted:     \n                   1    0\nActual: 1        889  123\n        0        157  831",
      "\n"
     ],
     "output_type": "stream"
    }
   ],
   "source": [
    "svm_tfidf_predictions = meu.train_predict_model(classifier=svm, \n",
    "                                                train_features=tv_train_features, train_labels=train_sentiments,\n",
    "                                                test_features=tv_test_features, test_labels=test_sentiments)\n",
    "print('TFIDF model:> Train features shape:', tv_train_features.shape, ' Test features shape:', tv_test_features.shape)\n",
    "meu.display_model_performance_metrics(true_labels=test_sentiments, predicted_labels=svm_tfidf_predictions,classes=[1, 0])\n"
   ],
   "metadata": {
    "collapsed": false,
    "pycharm": {
     "name": "#%%\n",
     "is_executing": false
    }
   }
  },
  {
   "cell_type": "code",
   "execution_count": 12,
   "outputs": [],
   "source": [],
   "metadata": {
    "collapsed": false,
    "pycharm": {
     "name": "#%%\n",
     "is_executing": false
    }
   }
  },
  {
   "cell_type": "code",
   "execution_count": null,
   "outputs": [],
   "source": [
    "## Prediction class label encoding"
   ],
   "metadata": {
    "collapsed": false,
    "pycharm": {
     "name": "#%%\n"
    }
   }
  },
  {
   "cell_type": "code",
   "execution_count": null,
   "outputs": [],
   "source": [
    "# tokenize train reviews & encode train labels\n",
    "tn = ToktokTokenizer()\n",
    "tokenized_train = [tn.tokenize(text)\n",
    "                   for text in train_reviews]\n",
    "tokenized_test = [tn.tokenize(text)\n",
    "                   for text in test_reviews]"
   ],
   "metadata": {
    "collapsed": false,
    "pycharm": {
     "name": "#%%\n"
    }
   }
  },
  {
   "cell_type": "code",
   "execution_count": null,
   "outputs": [],
   "source": [
    "le = LabelEncoder()\n",
    "num_classes=2 \n",
    "y_tr = le.fit_transform(train_sentiments)\n",
    "y_train = keras.utils.to_categorical(y_tr, num_classes)\n",
    "# tokenize test reviews & encode test labels\n",
    "y_ts = le.fit_transform(test_sentiments)\n",
    "y_test = keras.utils.to_categorical(y_ts, num_classes)\n"
   ],
   "metadata": {
    "collapsed": false,
    "pycharm": {
     "name": "#%%\n"
    }
   }
  },
  {
   "cell_type": "code",
   "execution_count": null,
   "outputs": [],
   "source": [
    "# print class label encoding map and encoded labels\n",
    "print('Sentiment class label map:', dict(zip(le.classes_, le.transform(le.classes_))))\n",
    "print('Sample test label transformation:\\n'+'-'*35,\n",
    "      '\\nActual Labels:', test_sentiments[:3], '\\nEncoded Labels:', y_ts[:3], \n",
    "      '\\nOne hot encoded Labels:\\n', y_test[:3])\n"
   ],
   "metadata": {
    "collapsed": false,
    "pycharm": {
     "name": "#%%\n"
    }
   }
  },
  {
   "cell_type": "markdown",
   "source": [
    "## Feature Engineering with word embeddings"
   ],
   "metadata": {
    "collapsed": false
   }
  },
  {
   "cell_type": "code",
   "execution_count": null,
   "outputs": [],
   "source": [
    "# build word2vec model using gensim\n",
    "w2v_num_features = 500\n",
    "\n",
    "w2v_model = gensim.models.Word2Vec(tokenized_train, size=w2v_num_features, window=150,\n",
    "                                   min_count=10, sample=1e-3)    "
   ],
   "metadata": {
    "collapsed": false,
    "pycharm": {
     "name": "#%%\n",
     "is_executing": false
    }
   }
  },
  {
   "cell_type": "code",
   "execution_count": null,
   "outputs": [],
   "source": [
    "def averaged_word2vec_vectorizer(corpus, model, num_features):\n",
    "    vocabulary = set(model.wv.index2word)\n",
    "    \n",
    "    def average_word_vectors(words, model, vocabulary, num_features):\n",
    "        feature_vector = np.zeros((num_features,), dtype=\"float64\")\n",
    "        nwords = 0.\n",
    "        \n",
    "        for word in words:\n",
    "            if word in vocabulary: \n",
    "                nwords = nwords + 1.\n",
    "                feature_vector = np.add(feature_vector, model[word])\n",
    "        if nwords:\n",
    "            feature_vector = np.divide(feature_vector, nwords)\n",
    "\n",
    "        return feature_vector\n",
    "\n",
    "    features = [average_word_vectors(tokenized_sentence, model, vocabulary, num_features)\n",
    "                    for tokenized_sentence in corpus]\n",
    "    return np.array(features)"
   ],
   "metadata": {
    "collapsed": false,
    "pycharm": {
     "name": "#%%\n",
     "is_executing": false
    }
   }
  },
  {
   "cell_type": "code",
   "execution_count": null,
   "outputs": [],
   "source": [
    "# generate averaged word vector features from word2vec model\n",
    "avg_wv_train_features = averaged_word2vec_vectorizer(corpus=tokenized_train, model=w2v_model,\n",
    "                                                     num_features=500)\n",
    "avg_wv_test_features = averaged_word2vec_vectorizer(corpus=tokenized_test, model=w2v_model,\n",
    "                                                    num_features=500)\n"
   ],
   "metadata": {
    "collapsed": false,
    "pycharm": {
     "name": "#%%\n",
     "is_executing": false
    }
   }
  },
  {
   "cell_type": "code",
   "execution_count": null,
   "outputs": [],
   "source": [
    "svm_wv_predictions = meu.train_predict_model(classifier=svm, \n",
    "                                                train_features=avg_wv_train_features, train_labels=train_sentiments,\n",
    "                                                test_features=avg_wv_test_features, test_labels=test_sentiments)\n",
    "print('Word2Vec model:> Train features shape:', avg_wv_train_features.shape, ' Test features shape:', avg_wv_test_features.shape)\n",
    "meu.display_model_performance_metrics(true_labels=test_sentiments, predicted_labels=svm_wv_predictions,classes=[1, 0])\n"
   ],
   "metadata": {
    "collapsed": false,
    "pycharm": {
     "name": "#%%\n",
     "is_executing": false
    }
   }
  },
  {
   "cell_type": "code",
   "execution_count": null,
   "outputs": [],
   "source": [
    "# feature engineering with GloVe model\n",
    "train_nlp = [nlp(item) for item in train_reviews]\n",
    "train_glove_features = np.array([item.vector for item in train_nlp])\n",
    "\n",
    "test_nlp = [nlp(item) for item in test_reviews]\n",
    "test_glove_features = np.array([item.vector for item in test_nlp])"
   ],
   "metadata": {
    "collapsed": false,
    "pycharm": {
     "name": "#%%\n",
     "is_executing": false
    }
   }
  },
  {
   "cell_type": "code",
   "execution_count": null,
   "outputs": [],
   "source": [
    "svm_glove_predictions = meu.train_predict_model(classifier=svm, \n",
    "                                                train_features=train_glove_features, train_labels=train_sentiments,\n",
    "                                                test_features=test_glove_features, test_labels=test_sentiments)\n",
    "print('Glove model:> Train features shape:', train_glove_features.shape, ' Test features shape:', test_glove_features.shape)\n",
    "meu.display_model_performance_metrics(true_labels=test_sentiments, predicted_labels=svm_glove_predictions,classes=[1, 0])\n",
    "\n"
   ],
   "metadata": {
    "collapsed": false,
    "pycharm": {
     "name": "#%%\n",
     "is_executing": false
    }
   }
  },
  {
   "cell_type": "code",
   "execution_count": null,
   "outputs": [],
   "source": [
    "#move to after last plot\n",
    "\n",
    "from sklearn.metrics import roc_curve, auc\n",
    "import matplotlib.pyplot as plt\n",
    "from sklearn import metrics\n",
    "\n",
    "plt.figure(0).clf()\n",
    "\n",
    "color = ['blue', 'orange', 'red', 'green', 'coral',\n",
    "             'grey', 'indigo', 'gold', 'lime', 'olive',\n",
    "             'pink', 'navy', 'magenta', 'yellow', 'tomato',\n",
    "             'turquoise', 'yellowgreen', 'maroon', 'lightblue']\n",
    "mbow=[]\n",
    "mngram=[]\n",
    "mtfidf=[]\n",
    "mw2v=[]\n",
    "mglove=[]\n",
    "\n",
    "def metricsAndROC(pred,metricsArray,rocTitle,colorIndex):\n",
    "    fpr, tpr, thresholds = metrics.roc_curve(test_sentiments, pred)\n",
    "    auc = metrics.roc_auc_score(test_sentiments, pred)\n",
    "    metricsArray.append(metrics.f1_score(test_sentiments, pred))\n",
    "    metricsArray.append(metrics.average_precision_score(test_sentiments, pred))\n",
    "    metricsArray.append(metrics.balanced_accuracy_score(test_sentiments, pred))\n",
    "    metricsArray.append(metrics.recall_score(test_sentiments, pred))\n",
    "    plt.plot(fpr, tpr,color=color[colorIndex], label=rocTitle)\n",
    "\n",
    "metricsAndROC(svm_bow_predictions,mbow,'SVM on BOW',0)\n",
    "metricsAndROC(svm_ngram_predictions,mngram,'SVM on NGRAM',1)\n",
    "metricsAndROC(svm_tfidf_predictions,mtfidf,'SVM on TFIDF',2)\n",
    "metricsAndROC(svm_wv_predictions,mw2v,'SVM on W2Vec(Gensim)',3)\n",
    "metricsAndROC(svm_glove_predictions,mglove,'SVM on Glove',4)\n",
    "\n",
    "#show the roc curve now\n",
    "# axis labels\n",
    "plt.xlabel('False Positive Rate')\n",
    "plt.ylabel('True Positive Rate')\n",
    "# show the legend\n",
    "plt.legend()\n",
    "plt.show()\n",
    "\n",
    "#show barchart to compare metrics\n",
    "import numpy as np\n",
    "import matplotlib.pyplot as plt\n",
    "from matplotlib.ticker import MaxNLocator\n",
    "from collections import namedtuple\n",
    "n_groups = 4\n",
    "fig, ax = plt.subplots()\n",
    "index = np.arange(n_groups)\n",
    "bar_width = 0.1\n",
    "opacity = 0.7\n",
    "error_config = {'ecolor': '0.3'}\n",
    "rects1 = ax.bar(index,mbow, bar_width, alpha=opacity, color=color[0], error_kw=error_config, label='BOW')\n",
    "\n",
    "z=index + bar_width\n",
    "rects2 = ax.bar(z, mngram, bar_width,alpha=opacity, color=color[1],error_kw=error_config,label='NGRAM')\n",
    "\n",
    "z=z+ bar_width\n",
    "rects3 = ax.bar(z, mtfidf, bar_width,alpha=opacity, color=color[2], error_kw=error_config, label='TFIDF')\n",
    "\n",
    "z=z+ bar_width\n",
    "rects4 = ax.bar(z,mw2v , bar_width,alpha=opacity, color=color[3], error_kw=error_config, label='W2V')\n",
    "\n",
    "z=z+ bar_width\n",
    "rects5 = ax.bar(z,mglove , bar_width,alpha=opacity, color=color[4], error_kw=error_config, label='Glove')\n",
    "\n",
    "\n",
    "ax.set_xlabel('Metric')\n",
    "ax.set_ylabel('Value')\n",
    "ax.set_title('Comparison of Feature Engineering Models on Amazon Reviews')\n",
    "ax.set_xticks(index + bar_width / 2)\n",
    "pltLabels=['F1','PRECISION','ACCURACY','RECALL']\n",
    "ax.set_xticklabels(pltLabels)\n",
    "ax.legend(bbox_to_anchor=(1, 0.5), loc=5, borderaxespad=0)\n",
    "fig.tight_layout()\n",
    "plt.show()\n"
   ],
   "metadata": {
    "collapsed": false,
    "pycharm": {
     "name": "#%%\n"
    }
   }
  }
 ],
 "metadata": {
  "kernelspec": {
   "display_name": "Python 3",
   "language": "python",
   "name": "python3"
  },
  "language_info": {
   "codemirror_mode": {
    "name": "ipython",
    "version": 2
   },
   "file_extension": ".py",
   "mimetype": "text/x-python",
   "name": "python",
   "nbconvert_exporter": "python",
   "pygments_lexer": "ipython2",
   "version": "2.7.6"
  },
  "pycharm": {
   "stem_cell": {
    "cell_type": "raw",
    "source": [],
    "metadata": {
     "collapsed": false
    }
   }
  }
 },
 "nbformat": 4,
 "nbformat_minor": 0
}